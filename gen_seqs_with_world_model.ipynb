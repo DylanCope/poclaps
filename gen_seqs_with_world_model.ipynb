{
 "cells": [
  {
   "cell_type": "code",
   "execution_count": 2,
   "metadata": {},
   "outputs": [
    {
     "name": "stderr",
     "output_type": "stream",
     "text": [
      "WARNING: All log messages before absl::InitializeLog() is called are written to STDERR\n",
      "I0000 00:00:1731548524.184172  272235 tfrt_cpu_pjrt_client.cc:349] TfrtCpuClient created.\n"
     ]
    }
   ],
   "source": [
    "import os\n",
    "os.environ['XLA_PYTHON_CLIENT_PREALLOCATE'] = 'false'\n",
    "\n",
    "\n",
    "from poclaps.train.ppo import reload\n",
    "\n",
    "policy_dir = 'outputs/2024-06-14/15-39-35/'\n",
    "config, pretrained_policy, env, env_params, _ = reload(policy_dir)"
   ]
  },
  {
   "cell_type": "code",
   "execution_count": 3,
   "metadata": {},
   "outputs": [],
   "source": [
    "import jax\n",
    "import numpy as np\n",
    "from poclaps.rollout_fake_msgs import rollout_with_msgs\n",
    "\n",
    "\n",
    "N_ACTIONS = env.action_space(env_params).n\n",
    "\n",
    "\n",
    "def sample_obs_modelling_batch(rng,\n",
    "                               noise_dim: int = 64,\n",
    "                               rollout_steps: int = 500,\n",
    "                               return_traj: bool = False):\n",
    "    rng, rollout_rng = jax.random.split(rng)\n",
    "    _, traj_batch, metrics = rollout_with_msgs(\n",
    "        env, env_params, pretrained_policy,\n",
    "        steps=rollout_steps,\n",
    "        rng=rollout_rng\n",
    "    )\n",
    "\n",
    "    n_msgs = env_params.grid_size * env_params.grid_size\n",
    "    actions = jax.nn.one_hot(traj_batch.action, N_ACTIONS)\n",
    "    msgs = jax.nn.one_hot(traj_batch.message, n_msgs)\n",
    "\n",
    "    *batch_shape, _ = traj_batch.obs.shape\n",
    "    noise = jax.random.normal(rng, (*batch_shape, noise_dim))\n",
    "    inputs = (actions, msgs, noise, traj_batch.obs, traj_batch.done)\n",
    "    if return_traj:\n",
    "        return inputs, metrics, traj_batch\n",
    "    return inputs, metrics"
   ]
  },
  {
   "cell_type": "code",
   "execution_count": 108,
   "metadata": {},
   "outputs": [],
   "source": [
    "inputs, _ = sample_obs_modelling_batch(jax.random.PRNGKey(0), rollout_steps=5)"
   ]
  },
  {
   "cell_type": "code",
   "execution_count": 109,
   "metadata": {},
   "outputs": [
    {
     "data": {
      "text/plain": [
       "(Array([1, 1, 4, 1], dtype=int32),\n",
       " Array([17, 17, 17, 17], dtype=int32),\n",
       " Array([False, False, False,  True], dtype=bool),\n",
       " Array([[[0, 4],\n",
       "         [1, 1]],\n",
       " \n",
       "        [[0, 3],\n",
       "         [1, 1]],\n",
       " \n",
       "        [[0, 2],\n",
       "         [1, 1]],\n",
       " \n",
       "        [[1, 2],\n",
       "         [1, 1]]], dtype=int32))"
      ]
     },
     "execution_count": 109,
     "metadata": {},
     "output_type": "execute_result"
    }
   ],
   "source": [
    "actions, msgs, noise, obs, dones = inputs\n",
    "T = 4\n",
    "actions[:T, 0].argmax(-1), msgs[:T, 0].argmax(-1), dones[:T, 0], obs[:T, 0].reshape(-1, 2, 2, 5).argmax(-1)"
   ]
  },
  {
   "cell_type": "code",
   "execution_count": 138,
   "metadata": {},
   "outputs": [
    {
     "name": "stdout",
     "output_type": "stream",
     "text": [
      "---------------------\t---------------------\t---------------------\t---------------------\n",
      "|   |   |   |   |   |\t|   |   |   |   |   |\t|   |   |   |   |   |\t|   |   |   |   |   |\n",
      "---------------------\t---------------------\t---------------------\t---------------------\n",
      "|   | G |   |   |   |\t|   | G |   |   |   |\t|   | G |   |   |   |\t|   | G |   |   |   |\n",
      "---------------------\t---------------------\t---------------------\t---------------------\n",
      "|   |   |   |   |   |\t|   |   |   |   |   |\t| X |   |   |   |   |\t|   | X |   |   |   |\n",
      "---------------------\t---------------------\t---------------------\t---------------------\n",
      "|   |   |   |   |   |\t| X |   |   |   |   |\t|   |   |   |   |   |\t|   |   |   |   |   |\n",
      "---------------------\t---------------------\t---------------------\t---------------------\n",
      "| X |   |   |   |   |\t|   |   |   |   |   |\t|   |   |   |   |   |\t|   |   |   |   |   |\n",
      "---------------------\t---------------------\t---------------------\t---------------------\n",
      "\t\t\t\n"
     ]
    }
   ],
   "source": [
    "from typing import Iterable\n",
    "from poclaps.simple_gridworld_game import stringify_grid\n",
    "\n",
    "\n",
    "def get_goals_and_pos(obs, n_envs=4):\n",
    "    \"\"\"\n",
    "    Args:\n",
    "        obs: (T, n_envs, 20) shaped array of observations.\n",
    "    Returns:\n",
    "        goal_pos: (T, n_envs, 2) shaped array of goal positions.\n",
    "        agent_pos: (T, n_envs, 2) shaped array of agent positions.\n",
    "    \"\"\"\n",
    "    env_states = obs.reshape((-1, n_envs, 2, 2, 5)).argmax(-1)\n",
    "\n",
    "    agent_pos = env_states[:, :, 0]\n",
    "    goal_pos = env_states[:, :, 1]\n",
    "\n",
    "    return goal_pos, agent_pos\n",
    "\n",
    "\n",
    "def format_side_by_side(strings: Iterable[str]) -> str:\n",
    "    \"\"\"\n",
    "    Format strings side by side. Assumes all strings have the same number of\n",
    "    lines and each line has the same number of characters.\n",
    "    \"\"\"\n",
    "    return '\\n'.join([\n",
    "        '\\t'.join(lines)\n",
    "        for lines in zip(*[g.split('\\n') for g in strings])\n",
    "    ])\n",
    "\n",
    "\n",
    "def print_episode(goals, agent_pos):\n",
    "    grid_strings = []\n",
    "\n",
    "    for g, p in zip(goals, agent_pos):\n",
    "        grid_str = stringify_grid(env_params.grid_size, {\n",
    "            tuple(p): 'X', tuple(g): 'G'\n",
    "        })\n",
    "        grid_strings.append(grid_str)\n",
    "\n",
    "    print(format_side_by_side(grid_strings))\n",
    "\n",
    "goal_pos, agent_pos = get_goals_and_pos(obs[:T, 0])\n",
    "print_episode(goal_pos[0].tolist(), agent_pos[0].tolist())"
   ]
  },
  {
   "cell_type": "code",
   "execution_count": 43,
   "metadata": {},
   "outputs": [],
   "source": [
    "inputs, _ = sample_obs_modelling_batch(jax.random.PRNGKey(0), rollout_steps=500)\n",
    "actions, msgs, noise, obs, dones = inputs\n",
    "obs.shape, actions.shape\n",
    "start_obs, next_obs = obs[:-1], obs[1:]\n",
    "actions = actions[:-1]"
   ]
  },
  {
   "cell_type": "code",
   "execution_count": 46,
   "metadata": {},
   "outputs": [
    {
     "data": {
      "text/plain": [
       "((499, 4, 5), (499, 4, 20), (499, 4, 20))"
      ]
     },
     "execution_count": 46,
     "metadata": {},
     "output_type": "execute_result"
    }
   ],
   "source": [
    "actions.shape, start_obs.shape, next_obs.shape"
   ]
  },
  {
   "cell_type": "code",
   "execution_count": 63,
   "metadata": {},
   "outputs": [
    {
     "data": {
      "text/plain": [
       "(499, 4, 20)"
      ]
     },
     "execution_count": 63,
     "metadata": {},
     "output_type": "execute_result"
    }
   ],
   "source": [
    "import flax.linen as nn\n",
    "import jax.numpy as jnp\n",
    "import functools\n",
    "\n",
    "\n",
    "class TransitionModel(nn.Module):\n",
    "    obs_dim: int\n",
    "    hidden_dim: int = 256\n",
    "\n",
    "    @nn.compact\n",
    "    def __call__(self, inputs):\n",
    "        \"\"\"\n",
    "        Args:\n",
    "            obs: (B, D)\n",
    "            action: (B, A)\n",
    "        \"\"\"\n",
    "        actions, obs = inputs\n",
    "        x = jnp.concatenate([obs, actions], axis=-1)\n",
    "        x = nn.Dense(self.hidden_dim)(x)\n",
    "        x = nn.relu(x)\n",
    "        x = nn.Dense(self.hidden_dim)(x)\n",
    "        x = nn.relu(x)\n",
    "        x = nn.Dense(self.obs_dim)(x)\n",
    "\n",
    "        return x\n",
    "\n",
    "transition_model = TransitionModel(start_obs.shape[-1])\n",
    "\n",
    "inputs = (actions, start_obs)\n",
    "init_params = transition_model.init(jax.random.PRNGKey(0), inputs)\n",
    "\n",
    "pred_obs = transition_model.apply(init_params, inputs)\n",
    "pred_obs.shape"
   ]
  },
  {
   "cell_type": "code",
   "execution_count": 80,
   "metadata": {},
   "outputs": [
    {
     "data": {
      "text/plain": [
       "Array([[6.3642464, 6.3394895, 6.6845865, 5.7896113],\n",
       "       [6.874488 , 6.6926756, 7.018973 , 6.0660753],\n",
       "       [6.318925 , 5.830632 , 7.281263 , 6.5533857],\n",
       "       ...,\n",
       "       [6.4623075, 6.8881254, 6.4147673, 6.6458693],\n",
       "       [6.8159566, 6.392277 , 6.6540666, 6.2438498],\n",
       "       [6.59458  , 6.508105 , 6.231048 , 6.2669954]], dtype=float32)"
      ]
     },
     "execution_count": 80,
     "metadata": {},
     "output_type": "execute_result"
    }
   ],
   "source": [
    "from poclaps.train.losses import categorical_cross_entropy\n",
    "\n",
    "\n",
    "def obs_loss_fn(act_obs, pred_obs_logits):\n",
    "    n_steps, n_envs, obs_dim = act_obs.shape\n",
    "    act_env_state = act_obs.reshape((n_steps, n_envs, 2, 2, obs_dim // 4))\n",
    "    pred_env_state = pred_obs_logits.reshape((n_steps, n_envs, 2, 2, obs_dim // 4))\n",
    "\n",
    "    # 1h vecs for actual positions\n",
    "    act_agent_pos_x = act_env_state[:, :, 0, 0]\n",
    "    act_agent_pos_y = act_env_state[:, :, 0, 1]\n",
    "    act_goal_pos_x = act_env_state[:, :, 1, 0]\n",
    "    act_goal_pos_y = act_env_state[:, :, 1, 1]\n",
    "\n",
    "    # 1h vecs for predicted positions\n",
    "    pred_agent_pos_x = pred_env_state[:, :, 0, 0]\n",
    "    pred_agent_pos_y = pred_env_state[:, :, 0, 1]\n",
    "    pred_goal_pos_x = pred_env_state[:, :, 1, 0]\n",
    "    pred_goal_pos_y = pred_env_state[:, :, 1, 1]\n",
    "\n",
    "    # CCE loss for positions\n",
    "    cce_x = categorical_cross_entropy(pred_agent_pos_x, act_agent_pos_x)\n",
    "    cce_y = categorical_cross_entropy(pred_agent_pos_y, act_agent_pos_y)\n",
    "    cce_goal_x = categorical_cross_entropy(pred_goal_pos_x, act_goal_pos_x)\n",
    "    cce_goal_y = categorical_cross_entropy(pred_goal_pos_y, act_goal_pos_y)\n",
    "\n",
    "    return cce_x + cce_y + cce_goal_x + cce_goal_y\n",
    "\n",
    "obs_loss_fn(act_obs=next_obs, pred_obs_logits=pred_obs)"
   ]
  },
  {
   "cell_type": "code",
   "execution_count": 297,
   "metadata": {},
   "outputs": [],
   "source": [
    "from flax.training.train_state import TrainState\n",
    "import optax\n",
    "import chex\n",
    "\n",
    "N_ROLLOUT_STEPS = 500\n",
    "N_TRAIN_STEPS = 300\n",
    "\n",
    "\n",
    "def process_inps(batch):\n",
    "    actions, msgs, noise, obs, dones = batch\n",
    "    start_obs, next_obs = obs[:-1], obs[1:]\n",
    "    actions = actions[:-1]\n",
    "    dones_mask = 1.0 - dones[:-1]\n",
    "    return (actions, start_obs), next_obs, dones_mask\n",
    "\n",
    "\n",
    "@jax.jit\n",
    "def update_fn(state: tuple, _):\n",
    "    train_state, rng = state\n",
    "\n",
    "    def compute_loss(params, batch):\n",
    "        inputs, next_obs, dones_mask = process_inps(batch)\n",
    "        next_obs_preds_logits = train_state.apply_fn(params, inputs)\n",
    "        loss_vals = dones_mask * obs_loss_fn(next_obs, next_obs_preds_logits)\n",
    "        return loss_vals.mean()\n",
    "\n",
    "    rng, _rng = jax.random.split(rng)\n",
    "    batch, _ = sample_obs_modelling_batch(_rng, rollout_steps=N_ROLLOUT_STEPS)\n",
    "    loss, grads = jax.value_and_grad(compute_loss)(train_state.params, batch)\n",
    "    new_train_state = train_state.apply_gradients(grads=grads)\n",
    "    metrics = {'loss': loss}\n",
    "    return (new_train_state, rng), metrics\n",
    "\n",
    "\n",
    "rng = jax.random.PRNGKey(0)\n",
    "\n",
    "rng, _rng = jax.random.split(rng)\n",
    "batch, _ = sample_obs_modelling_batch(_rng, rollout_steps=N_ROLLOUT_STEPS)\n",
    "*_, obs, _ = batch\n",
    "transition_model = TransitionModel(obs.shape[-1])\n",
    "\n",
    "inputs, *_ = process_inps(batch)\n",
    "init_params = transition_model.init(jax.random.PRNGKey(0), inputs)\n",
    "optimizer = optax.adam(1e-3)\n",
    "train_state = TrainState.create(\n",
    "    apply_fn=transition_model.apply,\n",
    "    params=init_params,\n",
    "    tx=optimizer\n",
    ")\n",
    "\n",
    "(train_state, _), metrics = jax.lax.scan(\n",
    "    update_fn, (train_state, rng), None, length=N_TRAIN_STEPS\n",
    ")"
   ]
  },
  {
   "cell_type": "code",
   "execution_count": 298,
   "metadata": {},
   "outputs": [
    {
     "data": {
      "image/png": "[encoded data removed]",
      "text/plain": [
       "<Figure size 640x480 with 1 Axes>"
      ]
     },
     "metadata": {},
     "output_type": "display_data"
    }
   ],
   "source": [
    "import matplotlib.pyplot as plt\n",
    "import seaborn as sns\n",
    "import pandas as pd\n",
    "\n",
    "sns.set_theme()\n",
    "\n",
    "df = pd.DataFrame({\n",
    "    'loss': metrics['loss'],\n",
    "    'step': np.arange(metrics['loss'].size)\n",
    "})\n",
    "\n",
    "sns.lineplot(df, x='step', y='loss')\n",
    "plt.show()"
   ]
  },
  {
   "cell_type": "code",
   "execution_count": 299,
   "metadata": {},
   "outputs": [],
   "source": [
    "TEST_STEPS = 500\n",
    "batch, _ = sample_obs_modelling_batch(_rng, rollout_steps=TEST_STEPS)\n",
    "inputs, next_obs, dones_mask = process_inps(batch)"
   ]
  },
  {
   "cell_type": "code",
   "execution_count": 300,
   "metadata": {},
   "outputs": [
    {
     "data": {
      "text/plain": [
       "(499, 4, 20)"
      ]
     },
     "execution_count": 300,
     "metadata": {},
     "output_type": "execute_result"
    }
   ],
   "source": [
    "next_obs.shape"
   ]
  },
  {
   "cell_type": "code",
   "execution_count": 301,
   "metadata": {},
   "outputs": [
    {
     "data": {
      "text/plain": [
       "((499, 4, 2),\n",
       " Array([[3, 3],\n",
       "        [3, 2],\n",
       "        [2, 4],\n",
       "        [2, 4]], dtype=int32))"
      ]
     },
     "execution_count": 301,
     "metadata": {},
     "output_type": "execute_result"
    }
   ],
   "source": [
    "next_goals_pos, next_agent_pos = get_goals_and_pos(next_obs)\n",
    "next_goals_pos.shape, next_goals_pos[0]"
   ]
  },
  {
   "cell_type": "code",
   "execution_count": 302,
   "metadata": {},
   "outputs": [],
   "source": [
    "def logits_to_real_obs(logits, n_envs=4, temp=0.1):\n",
    "    env_states = logits.reshape((-1, n_envs, 2, 2, 5))\n",
    "\n",
    "    agent_pos_x = env_states[:, :, 0, 0]\n",
    "    agent_pos_y = env_states[:, :, 0, 1]\n",
    "    goal_pos_x = env_states[:, :, 1, 0]\n",
    "    goal_pos_y = env_states[:, :, 1, 1]\n",
    "\n",
    "    return jnp.concatenate(\n",
    "        [\n",
    "            jax.nn.softmax(agent_pos_x / temp),\n",
    "            jax.nn.softmax(agent_pos_y / temp),\n",
    "            jax.nn.softmax(goal_pos_x / temp),\n",
    "            jax.nn.softmax(goal_pos_y / temp)\n",
    "        ], axis=-1\n",
    "    )"
   ]
  },
  {
   "cell_type": "code",
   "execution_count": 303,
   "metadata": {},
   "outputs": [],
   "source": [
    "pred_next_obs_logits = transition_model.apply(train_state.params, inputs)\n",
    "pred_next_obs = logits_to_real_obs(pred_next_obs_logits)"
   ]
  },
  {
   "cell_type": "code",
   "execution_count": 304,
   "metadata": {},
   "outputs": [
    {
     "data": {
      "text/plain": [
       "Array(1., dtype=float32)"
      ]
     },
     "execution_count": 304,
     "metadata": {},
     "output_type": "execute_result"
    }
   ],
   "source": [
    "precision = 5\n",
    "n_correct = (dones_mask * (next_obs == pred_next_obs.round(precision)).all(axis=-1)).sum()\n",
    "accuracy = n_correct.sum() / dones_mask.sum()\n",
    "accuracy"
   ]
  },
  {
   "cell_type": "code",
   "execution_count": 334,
   "metadata": {},
   "outputs": [],
   "source": [
    "pred_next_obs_logits = transition_model.apply(train_state.params, inputs)\n",
    "# pred_next_obs = logits_to_real_obs(pred_next_obs_logits)[0].round()\n",
    "pi, *_ = pretrained_policy(obs)\n",
    "pred_act = pi.sample(seed=jax.random.PRNGKey(0))\n",
    "inputs = (jax.nn.one_hot(pred_act, 5), pred_next_obs)"
   ]
  },
  {
   "cell_type": "code",
   "execution_count": 337,
   "metadata": {},
   "outputs": [
    {
     "data": {
      "text/plain": [
       "Array([[0., 0., 0., 0., 1.],\n",
       "       [0., 0., 1., 0., 0.],\n",
       "       [0., 0., 1., 0., 0.],\n",
       "       [0., 0., 1., 0., 0.]], dtype=float32)"
      ]
     },
     "execution_count": 337,
     "metadata": {},
     "output_type": "execute_result"
    }
   ],
   "source": [
    "inputs[0][0]"
   ]
  },
  {
   "cell_type": "code",
   "execution_count": 339,
   "metadata": {},
   "outputs": [
    {
     "data": {
      "text/plain": [
       "Array([[0., 0., 0., 0., 1.],\n",
       "       [0., 0., 1., 0., 0.],\n",
       "       [0., 0., 1., 0., 0.],\n",
       "       [0., 0., 0., 1., 0.]], dtype=float32)"
      ]
     },
     "execution_count": 339,
     "metadata": {},
     "output_type": "execute_result"
    }
   ],
   "source": [
    "action[0]"
   ]
  },
  {
   "cell_type": "code",
   "execution_count": null,
   "metadata": {},
   "outputs": [],
   "source": [
    "def compute_compounding_obs_preds(obs, inps):\n",
    "    act_next_obs, dones_mask, actions = inps\n",
    "    # pi, *_ = pretrained_policy(obs)\n",
    "    # pred_act = pi.sample(seed=jax.random.PRNGKey(0))\n",
    "    # inputs = (jax.nn.one_hot(pred_act, 5), pred_obs)\n",
    "    inputs = (actions, obs)\n",
    "    pred_next_obs_logits = transition_model.apply(train_state.params, inputs)\n",
    "    pred_next_obs = logits_to_real_obs(pred_next_obs_logits)[0].round()\n",
    "\n",
    "    next_obs = jnp.where(\n",
    "        (dones_mask == 0)[:, None], act_next_obs, pred_next_obs\n",
    "    )\n",
    "\n",
    "    return next_obs, pred_next_obs\n",
    "\n",
    "batch, _ = sample_obs_modelling_batch(_rng, rollout_steps=TEST_STEPS)\n",
    "(action, obs), next_obs, dones_mask = process_inps(batch)\n",
    "\n",
    "_, compounded_pred_next_obs = jax.lax.scan(\n",
    "    compute_compounding_obs_preds, obs[0], (next_obs, dones_mask, action)\n",
    ")"
   ]
  },
  {
   "cell_type": "code",
   "execution_count": 324,
   "metadata": {},
   "outputs": [
    {
     "data": {
      "text/plain": [
       "Array(1., dtype=float32)"
      ]
     },
     "execution_count": 324,
     "metadata": {},
     "output_type": "execute_result"
    }
   ],
   "source": [
    "precision = 5\n",
    "n_correct = (dones_mask * (next_obs == compounded_pred_next_obs.round(precision)).all(axis=-1)).sum()\n",
    "accuracy = n_correct.sum() / dones_mask.sum()\n",
    "accuracy"
   ]
  },
  {
   "cell_type": "code",
   "execution_count": 256,
   "metadata": {},
   "outputs": [
    {
     "name": "stdout",
     "output_type": "stream",
     "text": [
      "[1. 1. 0. 1.]\n",
      "---------------------\t---------------------\t---------------------\t---------------------\n",
      "|   |   |   |   |   |\t|   |   |   |   |   |\t|   |   |   |   |   |\t|   |   |   |   |   |\n",
      "---------------------\t---------------------\t---------------------\t---------------------\n",
      "|   |   |   |   | X |\t|   |   |   | X |   |\t|   |   |   |   | X |\t|   |   |   |   | G |\n",
      "---------------------\t---------------------\t---------------------\t---------------------\n",
      "|   |   |   | G |   |\t|   |   |   | G |   |\t|   |   |   | G |   |\t|   |   | X |   |   |\n",
      "---------------------\t---------------------\t---------------------\t---------------------\n",
      "|   |   |   |   |   |\t|   |   |   |   |   |\t|   |   |   |   |   |\t|   |   |   |   |   |\n",
      "---------------------\t---------------------\t---------------------\t---------------------\n",
      "|   |   |   |   |   |\t|   |   |   |   |   |\t|   |   |   |   |   |\t|   |   |   |   |   |\n",
      "---------------------\t---------------------\t---------------------\t---------------------\n",
      "\t\t\t\n"
     ]
    }
   ],
   "source": [
    "T = 4\n",
    "ENV_IDX = 1\n",
    "print(dones_mask[:T, ENV_IDX])\n",
    "goal_pos, agent_pos = get_goals_and_pos(pred_next_obs[:T])\n",
    "print_episode(goal_pos[:, ENV_IDX].tolist(), agent_pos[:, ENV_IDX].tolist())"
   ]
  },
  {
   "cell_type": "code",
   "execution_count": 294,
   "metadata": {},
   "outputs": [
    {
     "name": "stdout",
     "output_type": "stream",
     "text": [
      "---------------------\t---------------------\t---------------------\t---------------------\n",
      "|   |   |   |   |   |\t|   |   |   |   |   |\t|   |   |   |   |   |\t|   |   |   |   |   |\n",
      "---------------------\t---------------------\t---------------------\t---------------------\n",
      "|   |   |   |   | X |\t|   |   |   |   |   |\t|   |   |   |   | G |\t|   |   |   |   | G |\n",
      "---------------------\t---------------------\t---------------------\t---------------------\n",
      "|   |   |   | G |   |\t|   |   |   | G | X |\t|   | X |   |   |   |\t|   |   | X |   |   |\n",
      "---------------------\t---------------------\t---------------------\t---------------------\n",
      "|   |   |   |   |   |\t|   |   |   |   |   |\t|   |   |   |   |   |\t|   |   |   |   |   |\n",
      "---------------------\t---------------------\t---------------------\t---------------------\n",
      "|   |   |   |   |   |\t|   |   |   |   |   |\t|   |   |   |   |   |\t|   |   |   |   |   |\n",
      "---------------------\t---------------------\t---------------------\t---------------------\n",
      "\t\t\t\n"
     ]
    }
   ],
   "source": [
    "T = 4\n",
    "goal_pos, agent_pos = get_goals_and_pos(next_obs[:T])\n",
    "print_episode(goal_pos[:, ENV_IDX].tolist(), agent_pos[:, ENV_IDX].tolist())"
   ]
  },
  {
   "cell_type": "code",
   "execution_count": 237,
   "metadata": {},
   "outputs": [
    {
     "data": {
      "text/plain": [
       "(Array([[0., 1., 0., 0., 0., 0., 0., 1., 0., 0., 0., 0., 0., 1., 0., 0.,\n",
       "         0., 0., 1., 0.],\n",
       "        [0., 0., 1., 0., 0., 0., 0., 1., 0., 0., 0., 0., 0., 1., 0., 0.,\n",
       "         0., 0., 1., 0.],\n",
       "        [0., 0., 0., 1., 0., 0., 0., 1., 0., 0., 0., 0., 0., 1., 0., 0.,\n",
       "         0., 0., 1., 0.],\n",
       "        [0., 0., 0., 0., 1., 0., 0., 1., 0., 0., 0., 0., 0., 1., 0., 0.,\n",
       "         0., 0., 1., 0.],\n",
       "        [0., 0., 0., 1., 0., 0., 1., 0., 0., 0., 0., 0., 0., 1., 0., 0.,\n",
       "         0., 1., 0., 0.]], dtype=float32),\n",
       " Array([[0., 1., 0., 0., 0., 0., 0., 1., 0., 0., 0., 0., 0., 1., 0., 0.,\n",
       "         0., 0., 1., 0.],\n",
       "        [0., 0., 1., 0., 0., 0., 0., 1., 0., 0., 0., 0., 0., 1., 0., 0.,\n",
       "         0., 0., 1., 0.],\n",
       "        [0., 0., 0., 1., 0., 0., 0., 1., 0., 0., 0., 0., 0., 1., 0., 0.,\n",
       "         0., 0., 1., 0.],\n",
       "        [0., 0., 0., 1., 0., 1., 0., 0., 0., 0., 0., 0., 0., 1., 0., 0.,\n",
       "         0., 1., 0., 0.],\n",
       "        [0., 0., 0., 1., 0., 0., 1., 0., 0., 0., 0., 0., 0., 1., 0., 0.,\n",
       "         0., 1., 0., 0.]], dtype=float32))"
      ]
     },
     "execution_count": 237,
     "metadata": {},
     "output_type": "execute_result"
    }
   ],
   "source": [
    "pred_next_obs[:5, 0].round(3), next_obs[:5, 0]"
   ]
  },
  {
   "cell_type": "code",
   "execution_count": 234,
   "metadata": {},
   "outputs": [
    {
     "data": {
      "text/plain": [
       "Array([4., 3., 1., 2., 3., 2., 3., 3., 1., 3., 1., 2., 1., 1., 3., 0., 1.,\n",
       "       1., 2., 2., 2., 3., 2., 2., 3., 2., 1., 1., 3., 1., 1., 2., 2., 3.,\n",
       "       1., 3., 1., 1., 0., 2., 3., 2., 2., 4., 4., 3., 1., 4., 0., 3., 2.,\n",
       "       2., 2., 1., 2., 3., 3., 4., 3., 2., 1., 1., 1., 2., 2., 2., 3., 2.,\n",
       "       2., 0., 3., 0., 1., 3., 1., 0., 3., 3., 1., 1., 2., 2., 2., 1., 3.,\n",
       "       2., 3., 3., 1., 0., 1., 3., 0., 2., 1., 2., 4., 2., 2., 4., 1., 1.,\n",
       "       2., 1., 3., 2., 1., 2., 1., 0., 2., 3., 2., 0., 1., 4., 3., 2., 3.,\n",
       "       2., 1., 4., 2., 2., 2., 2., 3., 1., 1., 3., 1., 3., 3., 2., 2., 0.,\n",
       "       2., 1., 0., 1., 2., 0., 2., 3., 3., 2., 3., 2., 4., 0., 3., 3., 1.,\n",
       "       3., 3., 3., 1., 3., 2., 2., 1., 2., 2., 1., 2., 4., 3., 1., 2., 1.,\n",
       "       2., 2., 2., 3., 2., 4., 0., 0., 2., 3., 2., 1., 1., 3., 1., 3., 1.,\n",
       "       1., 2., 2., 3., 0., 2., 0., 3., 1., 1., 1., 1., 1., 3., 2., 1., 0.,\n",
       "       2., 3., 2., 2., 2., 2., 0., 2., 3., 1., 3., 1., 0., 2., 2., 2., 2.,\n",
       "       2., 2., 1., 2., 1., 1., 4., 2., 3., 2., 1., 1., 0., 3., 3., 2., 0.,\n",
       "       2., 2., 1., 2., 1., 2., 2., 1., 1., 4., 3., 1., 3., 2., 2., 0., 0.,\n",
       "       2., 1., 3., 2., 1., 2., 1., 0., 2., 2., 2., 0., 2., 1., 3., 1., 1.,\n",
       "       2., 2., 3., 0., 2., 2., 1., 2., 1., 2., 2., 4., 3., 2., 1., 0., 2.,\n",
       "       0., 3., 1., 1., 2., 1., 3., 2., 1., 3., 0., 1., 1., 1., 1., 2., 3.,\n",
       "       0., 2., 1., 3., 3., 2., 3., 0., 0., 1., 2., 3., 3., 2., 0., 2., 1.,\n",
       "       1., 4., 0., 2., 2., 1., 0., 0., 2., 1., 2., 2., 3., 3., 1., 2., 3.,\n",
       "       2., 0., 1., 2., 3., 0., 2., 3., 3., 1., 1., 2., 0., 2., 1., 2., 1.,\n",
       "       3., 2., 2., 3., 3., 1., 2., 1., 2., 4., 0., 3., 2., 1., 3., 2., 3.,\n",
       "       2., 2., 2., 0., 1., 3., 3., 2., 2., 1., 2., 2., 2., 1., 2., 2., 1.,\n",
       "       3., 1., 3., 2., 0., 3., 0., 1., 2., 2., 2., 1., 1., 4., 2., 0., 1.,\n",
       "       2., 2., 2., 1., 0., 2., 2., 2., 3., 3., 1., 1., 2., 0., 2., 3., 2.,\n",
       "       1., 1., 0., 1., 1., 2., 2., 4., 3., 3., 1., 2., 3., 2., 1., 3., 3.,\n",
       "       2., 1., 0., 3., 3., 2., 2., 2., 2., 1., 3., 2., 2., 1., 1., 1., 2.,\n",
       "       0., 0., 1., 1., 2., 2., 1., 3., 1., 3., 3., 2., 1., 3., 1., 2., 3.,\n",
       "       1., 2., 1., 2., 0., 2., 2., 3., 2., 1., 4., 3., 0., 1., 2., 2., 2.,\n",
       "       1., 0., 2., 1., 1., 2.], dtype=float32)"
      ]
     },
     "execution_count": 234,
     "metadata": {},
     "output_type": "execute_result"
    }
   ],
   "source": [
    "n_correct"
   ]
  }
 ],
 "metadata": {
  "kernelspec": {
   "display_name": "base",
   "language": "python",
   "name": "python3"
  },
  "language_info": {
   "codemirror_mode": {
    "name": "ipython",
    "version": 3
   },
   "file_extension": ".py",
   "mimetype": "text/x-python",
   "name": "python",
   "nbconvert_exporter": "python",
   "pygments_lexer": "ipython3",
   "version": "3.11.5"
  }
 },
 "nbformat": 4,
 "nbformat_minor": 2
}
