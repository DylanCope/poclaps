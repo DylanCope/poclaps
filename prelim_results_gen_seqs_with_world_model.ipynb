{
 "cells": [
  {
   "cell_type": "code",
   "execution_count": 1,
   "metadata": {},
   "outputs": [
    {
     "name": "stderr",
     "output_type": "stream",
     "text": [
      "WARNING: All log messages before absl::InitializeLog() is called are written to STDERR\n",
      "I0000 00:00:1732477291.972212 3102889 tfrt_cpu_pjrt_client.cc:349] TfrtCpuClient created.\n"
     ]
    }
   ],
   "source": [
    "import os\n",
    "os.environ['XLA_PYTHON_CLIENT_PREALLOCATE'] = 'false'\n",
    "\n",
    "\n",
    "from poclaps.train.ppo import reload\n",
    "\n",
    "policy_dir = 'outputs/2024-06-14/15-39-35/'\n",
    "config, pretrained_policy, env, env_params, _ = reload(policy_dir)"
   ]
  },
  {
   "cell_type": "code",
   "execution_count": 2,
   "metadata": {},
   "outputs": [],
   "source": [
    "import pandas as pd\n",
    "from reproducible_figures import save_reproducible_figure, set_plotting_style\n",
    "import matplotlib.pyplot as plt\n",
    "\n",
    "\n",
    "policy_training_metrics = pd.read_csv(f'{policy_dir}/metrics.csv')\n",
    "\n",
    "def plot_policy_training_history(policy_training_metrics):\n",
    "    set_plotting_style()\n",
    "    _, ax = plt.subplots(1, 1, figsize=(8, 6))\n",
    "    ax.plot(policy_training_metrics['iteration'], policy_training_metrics['mean_reward'])\n",
    "    ax.set_xlabel('Iteration')\n",
    "    ax.set_ylabel('Reward')\n",
    "\n",
    "\n",
    "# save_reproducible_figure('policy_training_history', policy_training_metrics, plot_policy_training_history, show=True)"
   ]
  },
  {
   "cell_type": "code",
   "execution_count": 3,
   "metadata": {},
   "outputs": [],
   "source": [
    "import jax\n",
    "import numpy as np\n",
    "from poclaps.rollout_fake_msgs import rollout_with_msgs\n",
    "\n",
    "\n",
    "N_ACTIONS = env.action_space(env_params).n\n",
    "\n",
    "\n",
    "def sample_obs_modelling_batch(rng,\n",
    "                               noise_dim: int = 64,\n",
    "                               rollout_steps: int = 500,\n",
    "                               return_traj: bool = False):\n",
    "    rng, rollout_rng = jax.random.split(rng)\n",
    "    _, traj_batch, metrics = rollout_with_msgs(\n",
    "        env, env_params, pretrained_policy,\n",
    "        steps=rollout_steps,\n",
    "        rng=rollout_rng\n",
    "    )\n",
    "\n",
    "    n_msgs = env_params.grid_size * env_params.grid_size\n",
    "    actions = jax.nn.one_hot(traj_batch.action, N_ACTIONS)\n",
    "    msgs = jax.nn.one_hot(traj_batch.message, n_msgs)\n",
    "\n",
    "    *batch_shape, _ = traj_batch.obs.shape\n",
    "    noise = jax.random.normal(rng, (*batch_shape, noise_dim))\n",
    "    inputs = (actions, msgs, noise, traj_batch.obs, traj_batch.done)\n",
    "    if return_traj:\n",
    "        return inputs, metrics, traj_batch\n",
    "    return inputs, metrics"
   ]
  },
  {
   "cell_type": "code",
   "execution_count": 4,
   "metadata": {},
   "outputs": [],
   "source": [
    "inputs, _ = sample_obs_modelling_batch(jax.random.PRNGKey(0), rollout_steps=5)\n",
    "actions, msgs, noise, obs, dones = inputs"
   ]
  },
  {
   "cell_type": "code",
   "execution_count": 5,
   "metadata": {},
   "outputs": [
    {
     "data": {
      "text/plain": [
       "(Array([1, 1, 4, 1], dtype=int32),\n",
       " Array([17, 17, 17, 17], dtype=int32),\n",
       " Array([False, False, False,  True], dtype=bool),\n",
       " Array([[[0, 4],\n",
       "         [1, 1]],\n",
       " \n",
       "        [[0, 3],\n",
       "         [1, 1]],\n",
       " \n",
       "        [[0, 2],\n",
       "         [1, 1]],\n",
       " \n",
       "        [[1, 2],\n",
       "         [1, 1]]], dtype=int32))"
      ]
     },
     "execution_count": 5,
     "metadata": {},
     "output_type": "execute_result"
    }
   ],
   "source": [
    "T = 4\n",
    "actions[:T, 0].argmax(-1), msgs[:T, 0].argmax(-1), dones[:T, 0], obs[:T, 0].reshape(-1, 2, 2, 5).argmax(-1)"
   ]
  },
  {
   "cell_type": "code",
   "execution_count": 6,
   "metadata": {},
   "outputs": [
    {
     "name": "stdout",
     "output_type": "stream",
     "text": [
      "---------------------\t---------------------\t---------------------\t---------------------\n",
      "|   |   |   |   |   |\t|   |   |   |   |   |\t|   |   |   |   |   |\t|   |   |   |   |   |\n",
      "---------------------\t---------------------\t---------------------\t---------------------\n",
      "| X |   |   |   | G |\t| X |   |   | G |   |\t| X |   | G |   |   |\t|   | X | G |   |   |\n",
      "---------------------\t---------------------\t---------------------\t---------------------\n",
      "|   |   |   |   |   |\t|   |   |   |   |   |\t|   |   |   |   |   |\t|   |   |   |   |   |\n",
      "---------------------\t---------------------\t---------------------\t---------------------\n",
      "|   |   |   |   |   |\t|   |   |   |   |   |\t|   |   |   |   |   |\t|   |   |   |   |   |\n",
      "---------------------\t---------------------\t---------------------\t---------------------\n",
      "|   |   |   |   |   |\t|   |   |   |   |   |\t|   |   |   |   |   |\t|   |   |   |   |   |\n",
      "---------------------\t---------------------\t---------------------\t---------------------\n",
      "\t\t\t\n"
     ]
    }
   ],
   "source": [
    "from typing import Iterable\n",
    "from poclaps.simple_gridworld_game import stringify_grid\n",
    "\n",
    "\n",
    "def get_goals_and_pos(obs):\n",
    "    \"\"\"\n",
    "    Args:\n",
    "        obs: (T, n_envs, 20) shaped array of observations.\n",
    "    Returns:\n",
    "        goal_pos: (T, n_envs, 2) shaped array of goal positions.\n",
    "        agent_pos: (T, n_envs, 2) shaped array of agent positions.\n",
    "    \"\"\"\n",
    "    *batch_shape, _ = obs.shape\n",
    "    env_states = obs.reshape((*batch_shape, 2, 2, 5)).argmax(-1)\n",
    "\n",
    "    agent_pos = env_states[:, :, 0]\n",
    "    goal_pos = env_states[:, :, 1]\n",
    "\n",
    "    return goal_pos, agent_pos\n",
    "\n",
    "\n",
    "def format_side_by_side(strings: Iterable[str]) -> str:\n",
    "    \"\"\"\n",
    "    Format strings side by side. Assumes all strings have the same number of\n",
    "    lines and each line has the same number of characters.\n",
    "    \"\"\"\n",
    "    return '\\n'.join([\n",
    "        '\\t'.join(lines)\n",
    "        for lines in zip(*[g.split('\\n') for g in strings])\n",
    "    ])\n",
    "\n",
    "\n",
    "def print_episode(goals, agent_pos):\n",
    "    grid_strings = []\n",
    "\n",
    "    for g, p in zip(goals, agent_pos):\n",
    "        grid_str = stringify_grid(env_params.grid_size, {\n",
    "            tuple(p): 'X', tuple(g): 'G'\n",
    "        })\n",
    "        grid_strings.append(grid_str)\n",
    "\n",
    "    print(format_side_by_side(grid_strings))\n",
    "\n",
    "goal_pos, agent_pos = get_goals_and_pos(obs[:T, 0])\n",
    "print_episode(goal_pos.tolist(), agent_pos.tolist())"
   ]
  },
  {
   "cell_type": "code",
   "execution_count": 7,
   "metadata": {},
   "outputs": [],
   "source": [
    "inputs, _ = sample_obs_modelling_batch(jax.random.PRNGKey(0), rollout_steps=500)\n",
    "actions, msgs, noise, obs, dones = inputs\n",
    "obs.shape, actions.shape\n",
    "start_obs, next_obs = obs[:-1], obs[1:]\n",
    "actions = actions[:-1]"
   ]
  },
  {
   "cell_type": "code",
   "execution_count": 8,
   "metadata": {},
   "outputs": [
    {
     "data": {
      "text/plain": [
       "((499, 4, 5), (499, 4, 20), (499, 4, 20))"
      ]
     },
     "execution_count": 8,
     "metadata": {},
     "output_type": "execute_result"
    }
   ],
   "source": [
    "actions.shape, start_obs.shape, next_obs.shape"
   ]
  },
  {
   "cell_type": "code",
   "execution_count": 9,
   "metadata": {},
   "outputs": [
    {
     "data": {
      "text/plain": [
       "(499, 4, 20)"
      ]
     },
     "execution_count": 9,
     "metadata": {},
     "output_type": "execute_result"
    }
   ],
   "source": [
    "import flax.linen as nn\n",
    "import jax.numpy as jnp\n",
    "import functools\n",
    "\n",
    "\n",
    "class TransitionModel(nn.Module):\n",
    "    obs_dim: int\n",
    "    hidden_dim: int = 256\n",
    "\n",
    "    @nn.compact\n",
    "    def __call__(self, inputs):\n",
    "        \"\"\"\n",
    "        Args:\n",
    "            obs: (B, D)\n",
    "            action: (B, A)\n",
    "        \"\"\"\n",
    "        actions, obs = inputs\n",
    "        x = jnp.concatenate([obs, actions], axis=-1)\n",
    "        x = nn.Dense(self.hidden_dim)(x)\n",
    "        x = nn.relu(x)\n",
    "        x = nn.Dense(self.hidden_dim)(x)\n",
    "        x = nn.relu(x)\n",
    "        x = nn.Dense(self.obs_dim)(x)\n",
    "\n",
    "        return x\n",
    "\n",
    "transition_model = TransitionModel(start_obs.shape[-1])\n",
    "\n",
    "inputs = (actions, start_obs)\n",
    "init_params = transition_model.init(jax.random.PRNGKey(0), inputs)\n",
    "\n",
    "pred_obs = transition_model.apply(init_params, inputs)\n",
    "pred_obs.shape"
   ]
  },
  {
   "cell_type": "code",
   "execution_count": 10,
   "metadata": {},
   "outputs": [
    {
     "data": {
      "text/plain": [
       "Array([[6.3642464, 6.3394895, 6.6845865, 5.7896113],\n",
       "       [6.874488 , 6.6926756, 7.018973 , 6.0660753],\n",
       "       [6.318925 , 5.830632 , 7.281263 , 6.5533857],\n",
       "       ...,\n",
       "       [6.4623075, 6.8881254, 6.4147673, 6.6458693],\n",
       "       [6.8159566, 6.392277 , 6.6540666, 6.2438498],\n",
       "       [6.59458  , 6.508105 , 6.231048 , 6.2669954]], dtype=float32)"
      ]
     },
     "execution_count": 10,
     "metadata": {},
     "output_type": "execute_result"
    }
   ],
   "source": [
    "from poclaps.train.losses import categorical_cross_entropy\n",
    "\n",
    "\n",
    "def obs_loss_fn(act_obs, pred_obs_logits):\n",
    "    n_steps, n_envs, obs_dim = act_obs.shape\n",
    "    act_env_state = act_obs.reshape((n_steps, n_envs, 2, 2, obs_dim // 4))\n",
    "    pred_env_state = pred_obs_logits.reshape((n_steps, n_envs, 2, 2, obs_dim // 4))\n",
    "\n",
    "    # 1h vecs for actual positions\n",
    "    act_agent_pos_x = act_env_state[:, :, 0, 0]\n",
    "    act_agent_pos_y = act_env_state[:, :, 0, 1]\n",
    "    act_goal_pos_x = act_env_state[:, :, 1, 0]\n",
    "    act_goal_pos_y = act_env_state[:, :, 1, 1]\n",
    "\n",
    "    # 1h vecs for predicted positions\n",
    "    pred_agent_pos_x = pred_env_state[:, :, 0, 0]\n",
    "    pred_agent_pos_y = pred_env_state[:, :, 0, 1]\n",
    "    pred_goal_pos_x = pred_env_state[:, :, 1, 0]\n",
    "    pred_goal_pos_y = pred_env_state[:, :, 1, 1]\n",
    "\n",
    "    # CCE loss for positions\n",
    "    cce_x = categorical_cross_entropy(pred_agent_pos_x, act_agent_pos_x)\n",
    "    cce_y = categorical_cross_entropy(pred_agent_pos_y, act_agent_pos_y)\n",
    "    cce_goal_x = categorical_cross_entropy(pred_goal_pos_x, act_goal_pos_x)\n",
    "    cce_goal_y = categorical_cross_entropy(pred_goal_pos_y, act_goal_pos_y)\n",
    "\n",
    "    return cce_x + cce_y + cce_goal_x + cce_goal_y\n",
    "\n",
    "obs_loss_fn(act_obs=next_obs, pred_obs_logits=pred_obs)"
   ]
  },
  {
   "cell_type": "code",
   "execution_count": 11,
   "metadata": {},
   "outputs": [],
   "source": [
    "from flax.training.train_state import TrainState\n",
    "import optax\n",
    "import chex\n",
    "\n",
    "N_ROLLOUT_STEPS = 500\n",
    "N_TRAIN_STEPS = 300\n",
    "\n",
    "\n",
    "def process_inps(batch):\n",
    "    actions, msgs, noise, obs, dones = batch\n",
    "    start_obs, next_obs = obs[:-1], obs[1:]\n",
    "    actions = actions[:-1]\n",
    "    dones_mask = 1.0 - dones[:-1]\n",
    "    return (actions, start_obs), next_obs, dones_mask\n",
    "\n",
    "\n",
    "@jax.jit\n",
    "def update_fn(state: tuple, _):\n",
    "    train_state, rng = state\n",
    "\n",
    "    def compute_loss(params, batch):\n",
    "        inputs, next_obs, dones_mask = process_inps(batch)\n",
    "        next_obs_preds_logits = train_state.apply_fn(params, inputs)\n",
    "        loss_vals = dones_mask * obs_loss_fn(next_obs, next_obs_preds_logits)\n",
    "        return loss_vals.mean()\n",
    "\n",
    "    rng, _rng = jax.random.split(rng)\n",
    "    batch, _ = sample_obs_modelling_batch(_rng, rollout_steps=N_ROLLOUT_STEPS)\n",
    "    loss, grads = jax.value_and_grad(compute_loss)(train_state.params, batch)\n",
    "    new_train_state = train_state.apply_gradients(grads=grads)\n",
    "    metrics = {'loss': loss}\n",
    "    return (new_train_state, rng), metrics\n",
    "\n",
    "\n",
    "rng = jax.random.PRNGKey(0)\n",
    "\n",
    "rng, _rng = jax.random.split(rng)\n",
    "batch, _ = sample_obs_modelling_batch(_rng, rollout_steps=N_ROLLOUT_STEPS)\n",
    "*_, obs, _ = batch\n",
    "transition_model = TransitionModel(obs.shape[-1])\n",
    "\n",
    "inputs, *_ = process_inps(batch)\n",
    "init_params = transition_model.init(jax.random.PRNGKey(0), inputs)\n",
    "optimizer = optax.adam(1e-3)\n",
    "transition_model_train_state = TrainState.create(\n",
    "    apply_fn=transition_model.apply,\n",
    "    params=init_params,\n",
    "    tx=optimizer\n",
    ")\n",
    "\n",
    "(transition_model_train_state, _), metrics = jax.lax.scan(\n",
    "    update_fn, (transition_model_train_state, rng), None, length=N_TRAIN_STEPS\n",
    ")"
   ]
  },
  {
   "cell_type": "code",
   "execution_count": 12,
   "metadata": {},
   "outputs": [
    {
     "data": {
      "image/png": "[encoded data removed]",
      "text/plain": [
       "<Figure size 640x480 with 1 Axes>"
      ]
     },
     "metadata": {},
     "output_type": "display_data"
    }
   ],
   "source": [
    "import matplotlib.pyplot as plt\n",
    "import seaborn as sns\n",
    "import pandas as pd\n",
    "\n",
    "from reproducible_figures import save_reproducible_figure, set_plotting_style\n",
    "\n",
    "def plot(df):\n",
    "    set_plotting_style()\n",
    "    ax = sns.lineplot(df, x='step', y='loss')\n",
    "    ax.set_xlabel('Training Step')\n",
    "    ax.set_ylabel('Loss')\n",
    "\n",
    "df = pd.DataFrame({\n",
    "    'loss': metrics['loss'],\n",
    "    'step': np.arange(metrics['loss'].size)\n",
    "})\n",
    "\n",
    "\n",
    "plot(df)\n",
    "# save_reproducible_figure('transition_model_loss', df, plot, show=True)"
   ]
  },
  {
   "cell_type": "code",
   "execution_count": 13,
   "metadata": {},
   "outputs": [],
   "source": [
    "TEST_STEPS = 500\n",
    "batch, _ = sample_obs_modelling_batch(_rng, rollout_steps=TEST_STEPS)\n",
    "inputs, next_obs, dones_mask = process_inps(batch)"
   ]
  },
  {
   "cell_type": "code",
   "execution_count": 14,
   "metadata": {},
   "outputs": [
    {
     "data": {
      "text/plain": [
       "(499, 4, 20)"
      ]
     },
     "execution_count": 14,
     "metadata": {},
     "output_type": "execute_result"
    }
   ],
   "source": [
    "next_obs.shape"
   ]
  },
  {
   "cell_type": "code",
   "execution_count": 15,
   "metadata": {},
   "outputs": [
    {
     "data": {
      "text/plain": [
       "((499, 4, 2),\n",
       " Array([[3, 3],\n",
       "        [3, 2],\n",
       "        [2, 4],\n",
       "        [2, 4]], dtype=int32))"
      ]
     },
     "execution_count": 15,
     "metadata": {},
     "output_type": "execute_result"
    }
   ],
   "source": [
    "next_goals_pos, next_agent_pos = get_goals_and_pos(next_obs)\n",
    "next_goals_pos.shape, next_goals_pos[0]"
   ]
  },
  {
   "cell_type": "code",
   "execution_count": 16,
   "metadata": {},
   "outputs": [],
   "source": [
    "def logits_to_real_obs(logits, n_envs=4, temp=0.1):\n",
    "    env_states = logits.reshape((-1, n_envs, 2, 2, 5))\n",
    "\n",
    "    agent_pos_x = env_states[:, :, 0, 0]\n",
    "    agent_pos_y = env_states[:, :, 0, 1]\n",
    "    goal_pos_x = env_states[:, :, 1, 0]\n",
    "    goal_pos_y = env_states[:, :, 1, 1]\n",
    "\n",
    "    return jnp.concatenate(\n",
    "        [\n",
    "            jax.nn.softmax(agent_pos_x / temp),\n",
    "            jax.nn.softmax(agent_pos_y / temp),\n",
    "            jax.nn.softmax(goal_pos_x / temp),\n",
    "            jax.nn.softmax(goal_pos_y / temp)\n",
    "        ], axis=-1\n",
    "    )"
   ]
  },
  {
   "cell_type": "code",
   "execution_count": 17,
   "metadata": {},
   "outputs": [],
   "source": [
    "pred_next_obs_logits = transition_model.apply(transition_model_train_state.params, inputs)\n",
    "pred_next_obs = logits_to_real_obs(pred_next_obs_logits)"
   ]
  },
  {
   "cell_type": "code",
   "execution_count": 18,
   "metadata": {},
   "outputs": [
    {
     "data": {
      "text/plain": [
       "Array(1., dtype=float32)"
      ]
     },
     "execution_count": 18,
     "metadata": {},
     "output_type": "execute_result"
    }
   ],
   "source": [
    "precision = 5\n",
    "n_correct = (dones_mask * (next_obs == pred_next_obs.round(precision)).all(axis=-1)).sum()\n",
    "accuracy = n_correct.sum() / dones_mask.sum()\n",
    "accuracy"
   ]
  },
  {
   "cell_type": "code",
   "execution_count": 19,
   "metadata": {},
   "outputs": [],
   "source": [
    "pred_next_obs_logits = transition_model.apply(transition_model_train_state.params, inputs)\n",
    "# pred_next_obs = logits_to_real_obs(pred_next_obs_logits)[0].round()\n",
    "pi, *_ = pretrained_policy(obs)\n",
    "pred_act = pi.sample(seed=jax.random.PRNGKey(0))\n",
    "inputs = (jax.nn.one_hot(pred_act, 5), pred_next_obs)"
   ]
  },
  {
   "cell_type": "code",
   "execution_count": 20,
   "metadata": {},
   "outputs": [
    {
     "data": {
      "text/plain": [
       "Array([[0., 0., 0., 0., 1.],\n",
       "       [0., 0., 1., 0., 0.],\n",
       "       [0., 0., 1., 0., 0.],\n",
       "       [0., 0., 1., 0., 0.]], dtype=float32)"
      ]
     },
     "execution_count": 20,
     "metadata": {},
     "output_type": "execute_result"
    }
   ],
   "source": [
    "inputs[0][0]"
   ]
  },
  {
   "cell_type": "code",
   "execution_count": 21,
   "metadata": {},
   "outputs": [],
   "source": [
    "def compute_compounding_obs_preds(obs, inps, temp=0.1):\n",
    "    act_next_obs, dones_mask, actions = inps\n",
    "    # pi, *_ = pretrained_policy(obs)\n",
    "    # pred_act = pi.sample(seed=jax.random.PRNGKey(0))\n",
    "    # inputs = (jax.nn.one_hot(pred_act, 5), pred_obs)\n",
    "    inputs = (actions, obs)\n",
    "    pred_next_obs_logits = transition_model.apply(transition_model_train_state.params, inputs)\n",
    "    pred_next_obs = logits_to_real_obs(pred_next_obs_logits, temp=temp)[0]\n",
    "\n",
    "    next_obs = jnp.where(\n",
    "        (dones_mask == 0)[:, None], act_next_obs, pred_next_obs\n",
    "    )\n",
    "\n",
    "    return next_obs, pred_next_obs\n",
    "\n",
    "batch, _ = sample_obs_modelling_batch(_rng, rollout_steps=TEST_STEPS)\n",
    "(action, obs), next_obs, dones_mask = process_inps(batch)"
   ]
  },
  {
   "cell_type": "code",
   "execution_count": 22,
   "metadata": {},
   "outputs": [
    {
     "data": {
      "text/plain": [
       "Array(1., dtype=float32)"
      ]
     },
     "execution_count": 22,
     "metadata": {},
     "output_type": "execute_result"
    }
   ],
   "source": [
    "_, compounded_pred_next_obs = jax.lax.scan(\n",
    "    compute_compounding_obs_preds, obs[0], (next_obs, dones_mask, action)\n",
    ")\n",
    "\n",
    "precision = 5\n",
    "n_correct = (dones_mask * (next_obs == compounded_pred_next_obs.round(precision)).all(axis=-1)).sum()\n",
    "accuracy = n_correct.sum() / dones_mask.sum()\n",
    "accuracy"
   ]
  },
  {
   "cell_type": "code",
   "execution_count": 23,
   "metadata": {},
   "outputs": [
    {
     "name": "stdout",
     "output_type": "stream",
     "text": [
      "[1. 1. 0. 1.]\n",
      "---------------------\t---------------------\t---------------------\t---------------------\n",
      "|   |   |   |   |   |\t|   |   |   |   |   |\t|   |   |   |   |   |\t|   |   |   |   |   |\n",
      "---------------------\t---------------------\t---------------------\t---------------------\n",
      "|   |   |   |   | X |\t|   |   |   |   |   |\t|   |   |   |   |   |\t|   |   |   |   | G |\n",
      "---------------------\t---------------------\t---------------------\t---------------------\n",
      "|   |   |   | G |   |\t|   |   |   | G | X |\t|   |   |   | G |   |\t|   |   | X |   |   |\n",
      "---------------------\t---------------------\t---------------------\t---------------------\n",
      "|   |   |   |   |   |\t|   |   |   |   |   |\t|   |   |   |   |   |\t|   |   |   |   |   |\n",
      "---------------------\t---------------------\t---------------------\t---------------------\n",
      "|   |   |   |   |   |\t|   |   |   |   |   |\t|   |   |   |   |   |\t|   |   |   |   |   |\n",
      "---------------------\t---------------------\t---------------------\t---------------------\n",
      "\t\t\t\n"
     ]
    }
   ],
   "source": [
    "T = 4\n",
    "ENV_IDX = 1\n",
    "print(dones_mask[:T, ENV_IDX])\n",
    "goal_pos, agent_pos = get_goals_and_pos(pred_next_obs[:T])\n",
    "print_episode(goal_pos[:, ENV_IDX].tolist(), agent_pos[:, ENV_IDX].tolist())"
   ]
  },
  {
   "cell_type": "code",
   "execution_count": 24,
   "metadata": {},
   "outputs": [
    {
     "name": "stdout",
     "output_type": "stream",
     "text": [
      "---------------------\t---------------------\t---------------------\t---------------------\n",
      "|   |   |   |   |   |\t|   |   |   |   |   |\t|   |   |   |   |   |\t|   |   |   |   |   |\n",
      "---------------------\t---------------------\t---------------------\t---------------------\n",
      "|   |   |   |   | X |\t|   |   |   |   |   |\t|   |   |   |   | G |\t|   |   |   |   | G |\n",
      "---------------------\t---------------------\t---------------------\t---------------------\n",
      "|   |   |   | G |   |\t|   |   |   | G | X |\t|   | X |   |   |   |\t|   |   | X |   |   |\n",
      "---------------------\t---------------------\t---------------------\t---------------------\n",
      "|   |   |   |   |   |\t|   |   |   |   |   |\t|   |   |   |   |   |\t|   |   |   |   |   |\n",
      "---------------------\t---------------------\t---------------------\t---------------------\n",
      "|   |   |   |   |   |\t|   |   |   |   |   |\t|   |   |   |   |   |\t|   |   |   |   |   |\n",
      "---------------------\t---------------------\t---------------------\t---------------------\n",
      "\t\t\t\n"
     ]
    }
   ],
   "source": [
    "T = 4\n",
    "goal_pos, agent_pos = get_goals_and_pos(next_obs[:T])\n",
    "print_episode(goal_pos[:, ENV_IDX].tolist(), agent_pos[:, ENV_IDX].tolist())"
   ]
  },
  {
   "cell_type": "code",
   "execution_count": 25,
   "metadata": {},
   "outputs": [
    {
     "data": {
      "text/plain": [
       "Array(1.6535125, dtype=float32)"
      ]
     },
     "execution_count": 25,
     "metadata": {},
     "output_type": "execute_result"
    }
   ],
   "source": [
    "def actions_preds_loss(obs_preds, true_actions):\n",
    "    pred_action_dist, _ = pretrained_policy(obs_preds)\n",
    "    return categorical_cross_entropy(\n",
    "        pred_action_dist.logits, true_actions\n",
    "    ).mean()\n",
    "\n",
    "\n",
    "actions_preds_loss(compounded_pred_next_obs, action)"
   ]
  },
  {
   "cell_type": "code",
   "execution_count": 26,
   "metadata": {},
   "outputs": [
    {
     "data": {
      "text/plain": [
       "Array(0.41883767, dtype=float32)"
      ]
     },
     "execution_count": 26,
     "metadata": {},
     "output_type": "execute_result"
    }
   ],
   "source": [
    "def actions_preds_acc(obs_preds, true_actions):\n",
    "    pred_action_dist, _ = pretrained_policy(obs_preds)\n",
    "    pred_actions = pred_action_dist.logits.argmax(-1)\n",
    "    return (pred_actions == true_actions.argmax(-1)).mean()\n",
    "\n",
    "\n",
    "actions_preds_acc(compounded_pred_next_obs, action)"
   ]
  },
  {
   "cell_type": "code",
   "execution_count": 27,
   "metadata": {},
   "outputs": [],
   "source": [
    "import jax\n",
    "\n",
    "\n",
    "def sample_init_obs_batch(rng,\n",
    "                          noise_dim: int = 64,\n",
    "                          batch_size: int = 512):\n",
    "    noise_rng, _rng = jax.random.split(rng)\n",
    "    reset_rng = jax.random.split(_rng, batch_size)\n",
    "    init_obs, _ = jax.vmap(env.reset, in_axes=(0, None))(reset_rng, env_params)\n",
    "    noise = jax.random.normal(noise_rng, (batch_size, noise_dim))\n",
    "    return noise, init_obs"
   ]
  },
  {
   "cell_type": "code",
   "execution_count": 28,
   "metadata": {},
   "outputs": [
    {
     "data": {
      "text/plain": [
       "(Array([[-0.09888369,  2.506235  ,  0.7709646 , -2.566372  , -1.056678  ,\n",
       "         -0.08589505, -1.1263483 , -1.4746587 ,  1.0176736 , -0.08870202,\n",
       "         -2.2064896 , -1.8556206 , -0.42565253, -1.2255049 , -1.0866312 ,\n",
       "          1.1943948 ,  0.40512082, -1.7767317 ,  1.7513275 ,  1.5189085 ,\n",
       "          0.87630486,  0.39879364,  0.6973779 ,  0.12441269,  0.5953105 ,\n",
       "          1.0668632 , -0.2580644 , -0.5771248 ,  0.9866648 ,  1.110345  ,\n",
       "         -0.6736215 , -0.9863035 ,  0.14894868, -1.08898   , -0.03916076,\n",
       "         -0.6194477 ,  0.3279911 ,  0.5261584 ,  1.226813  ,  1.2293104 ,\n",
       "          1.6715007 , -0.58628327,  1.7278807 ,  0.32560784,  0.75145096,\n",
       "         -0.970783  ,  0.15815397,  0.52384853, -0.6927399 ,  1.363632  ,\n",
       "          1.0026302 ,  0.9920616 , -0.09005146,  1.4980816 ,  0.0134411 ,\n",
       "         -0.17539886,  1.4234868 , -0.90153   ,  0.5668088 , -0.35222855,\n",
       "          0.03952095,  1.1127486 , -0.0499901 , -2.106966  ],\n",
       "        [ 0.14152686,  0.8560746 , -0.6304051 , -0.2373084 , -1.73906   ,\n",
       "          0.22699504,  0.81124276,  0.7045455 ,  0.9094472 , -0.6991928 ,\n",
       "         -2.2214854 ,  0.35423848,  0.04505276, -0.45326993, -0.44592443,\n",
       "         -0.42468077,  0.24305741, -0.32235116, -1.375706  , -0.8291046 ,\n",
       "          0.09788757,  0.39761007, -0.78614736, -0.41507334,  1.2452054 ,\n",
       "         -0.6139353 ,  0.77524084, -1.6637058 , -1.6830332 , -0.2991459 ,\n",
       "         -0.27051267, -0.57108724,  0.56899124, -0.87653357,  0.86144066,\n",
       "         -1.0593435 ,  0.15340139, -0.8486997 ,  0.30813444, -0.759581  ,\n",
       "         -0.18614934,  0.41672796,  1.5265088 , -0.03676015, -2.467986  ,\n",
       "          2.2286873 ,  0.9148267 , -0.45325065,  0.7570469 , -0.89505905,\n",
       "          0.84645957, -0.36563808, -1.8416389 ,  0.34941924,  1.7743722 ,\n",
       "          1.3122737 ,  1.9002856 ,  1.1092567 , -0.515654  ,  0.4132526 ,\n",
       "         -0.47493562,  0.70154184, -1.7247006 ,  1.5905167 ]],      dtype=float32),\n",
       " Array([[1., 0., 0., 0., 0., 0., 0., 1., 0., 0., 0., 0., 0., 0., 1., 0.,\n",
       "         0., 1., 0., 0.],\n",
       "        [0., 0., 0., 1., 0., 0., 0., 0., 1., 0., 0., 0., 0., 1., 0., 1.,\n",
       "         0., 0., 0., 0.]], dtype=float32))"
      ]
     },
     "execution_count": 28,
     "metadata": {},
     "output_type": "execute_result"
    }
   ],
   "source": [
    "sample_init_obs_batch(jax.random.PRNGKey(0), batch_size=2)"
   ]
  },
  {
   "cell_type": "code",
   "execution_count": 29,
   "metadata": {},
   "outputs": [],
   "source": [
    "class InitObsModel(nn.Module):\n",
    "    obs_dim: int\n",
    "    hidden_dim: int = 256\n",
    "\n",
    "    @nn.compact\n",
    "    def __call__(self, noise):\n",
    "        \"\"\"\n",
    "        Args:\n",
    "            noise: (B, D)\n",
    "        \"\"\"\n",
    "        x = nn.Dense(self.hidden_dim)(noise)\n",
    "        x = nn.relu(x)\n",
    "        x = nn.Dense(self.hidden_dim)(x)\n",
    "        x = nn.relu(x)\n",
    "        x = nn.Dense(self.obs_dim)(x)\n",
    "\n",
    "        return x"
   ]
  },
  {
   "cell_type": "code",
   "execution_count": 30,
   "metadata": {},
   "outputs": [],
   "source": [
    "# from flax.training.train_state import TrainState\n",
    "# import optax\n",
    "# import chex\n",
    "\n",
    "# BATCH_SIZE = 512\n",
    "# N_TRAIN_STEPS = 300\n",
    "\n",
    "\n",
    "# @jax.jit\n",
    "# def update_fn(state: tuple, _):\n",
    "#     train_state, rng = state\n",
    "\n",
    "#     def compute_loss(params, batch):\n",
    "#         noise, obs = batch\n",
    "#         obs_preds_logits = train_state.apply_fn(params, noise)\n",
    "#         obs = obs.reshape((BATCH_SIZE, 1, -1))\n",
    "#         obs_preds_logits = obs_preds_logits.reshape((BATCH_SIZE, 1, -1))\n",
    "#         loss_vals = obs_loss_fn(obs, obs_preds_logits)\n",
    "#         return loss_vals.mean()\n",
    "\n",
    "#     rng, _rng = jax.random.split(rng)\n",
    "#     batch = sample_init_obs_batch(_rng, batch_size=BATCH_SIZE)\n",
    "#     loss, grads = jax.value_and_grad(compute_loss)(train_state.params, batch)\n",
    "#     new_train_state = train_state.apply_gradients(grads=grads)\n",
    "#     metrics = {'loss': loss}\n",
    "#     return (new_train_state, rng), metrics\n",
    "\n",
    "\n",
    "# rng = jax.random.PRNGKey(0)\n",
    "\n",
    "# rng, _rng = jax.random.split(rng)\n",
    "# noise, obs = sample_init_obs_batch(_rng, batch_size=BATCH_SIZE)\n",
    "# init_obs_model = InitObsModel(obs.shape[-1])\n",
    "# rng, _rng = jax.random.split(rng)\n",
    "# init_params = init_obs_model.init(_rng, noise)\n",
    "# optimizer = optax.adam(1e-3)\n",
    "# init_obs_train_state = TrainState.create(\n",
    "#     apply_fn=init_obs_model.apply,\n",
    "#     params=init_params,\n",
    "#     tx=optimizer\n",
    "# )\n",
    "\n",
    "# (init_obs_train_state, _), metrics = jax.lax.scan(\n",
    "#     update_fn, (init_obs_train_state, rng), None, length=N_TRAIN_STEPS\n",
    "# )\n",
    "\n",
    "# import matplotlib.pyplot as plt\n",
    "# import seaborn as sns\n",
    "# import pandas as pd\n",
    "\n",
    "# sns.set_theme()\n",
    "\n",
    "# df = pd.DataFrame({\n",
    "#     'loss': metrics['loss'],\n",
    "#     'step': np.arange(metrics['loss'].size)\n",
    "# })\n",
    "\n",
    "# sns.lineplot(df, x='step', y='loss')\n",
    "# plt.show()"
   ]
  },
  {
   "cell_type": "code",
   "execution_count": 31,
   "metadata": {},
   "outputs": [],
   "source": [
    "# rng = jax.random.PRNGKey(0)\n",
    "# rng, _rng = jax.random.split(rng)\n",
    "# noise, _ = sample_init_obs_batch(_rng, batch_size=5)\n",
    "# init_obs_pred = init_obs_model.apply(init_obs_train_state.params, noise)"
   ]
  },
  {
   "cell_type": "code",
   "execution_count": 32,
   "metadata": {},
   "outputs": [],
   "source": [
    "# init_obs_pred.round(2)"
   ]
  },
  {
   "cell_type": "code",
   "execution_count": 33,
   "metadata": {},
   "outputs": [],
   "source": [
    "def create_rollout_state_with_fixed_goal_pos(rng, n_seqs):\n",
    "    rng, _rng = jax.random.split(rng)\n",
    "    reset_rng = jax.random.split(_rng, n_seqs)\n",
    "    _, env_state = jax.vmap(env.reset,\n",
    "                            in_axes=(0, None))(reset_rng, env_params)\n",
    "\n",
    "    rng, _rng = jax.random.split(rng)\n",
    "    set_goal_pos = jax.random.randint(_rng, (2,), 0, env.grid_size)\n",
    "\n",
    "    env_state = env_state.replace(\n",
    "        env_state=env_state.env_state.replace(\n",
    "            goal_pos=jnp.repeat(set_goal_pos[None], n_seqs, axis=0)\n",
    "        )\n",
    "    )\n",
    "\n",
    "    obsv = jax.vmap(env.get_obs)(env_state.env_state)\n",
    "\n",
    "    ep_ids = jnp.arange(n_seqs)\n",
    "    return (env_state, obsv, rng, ep_ids)\n",
    "\n",
    "\n",
    "def sample_sequences(rng,\n",
    "                     n_seqs=64,\n",
    "                     seq_len=8,\n",
    "                     comm_policy_seed=0,\n",
    "                     fix_goal_pos_in_batch: bool = False):\n",
    "    \"\"\"\n",
    "    Returns:\n",
    "        (actions_1h, msgs_1h, seq_mask): 1h vectors for actions and messages,\n",
    "            and a mask for sequences.\n",
    "        obs: (T, n_envs, 20) shaped array of observations.\n",
    "    \"\"\"\n",
    "\n",
    "    rng, rollout_rng = jax.random.split(rng)\n",
    "\n",
    "    if fix_goal_pos_in_batch:\n",
    "        rollout_rng, _rng = jax.random.split(rollout_rng)\n",
    "        rollout_state = create_rollout_state_with_fixed_goal_pos(_rng, n_seqs)\n",
    "    else:\n",
    "        rollout_state = None\n",
    "\n",
    "    _, traj_batch, _ = rollout_with_msgs(\n",
    "        env, env_params, pretrained_policy,\n",
    "        steps=seq_len,\n",
    "        n_envs=n_seqs,\n",
    "        rng=rollout_rng,\n",
    "        comm_policy_seed=comm_policy_seed,\n",
    "        rollout_state=rollout_state\n",
    "    )\n",
    "\n",
    "    def compute_seq_mask(done_carry, done_t):\n",
    "        # when done_t is True, the sequence is finished\n",
    "        # but we want to include this in the sequence\n",
    "        # so we set the mask to False on the last step,\n",
    "        # we we can detect because done_carry is still false\n",
    "        not_carry = jnp.logical_not(done_carry)\n",
    "        is_last = jnp.logical_and(done_t, not_carry)\n",
    "        is_part_of_seq = jnp.logical_or(is_last, not_carry)\n",
    "        mask_val = jnp.logical_not(is_part_of_seq)\n",
    "        done_carry = jnp.logical_or(done_carry, done_t)\n",
    "        return done_carry, mask_val\n",
    "\n",
    "    done_carry = jnp.zeros((n_seqs,), dtype=bool)\n",
    "    _, seq_mask = jax.lax.scan(\n",
    "        compute_seq_mask, done_carry, traj_batch.done\n",
    "    )\n",
    "    # True = sequence finished, False = sequence not finished\n",
    "    too_short = jnp.repeat((seq_mask.argmax(0) < 2)[np.newaxis, ...], seq_len, axis=0)\n",
    "    # sequences that are too short should not be used\n",
    "    seq_mask = jnp.logical_or(too_short, seq_mask)\n",
    "\n",
    "    n_msgs = env_params.grid_size * env_params.grid_size\n",
    "    actions_1h = jax.nn.one_hot(traj_batch.action, N_ACTIONS)\n",
    "    msgs_1h = jax.nn.one_hot(traj_batch.message, n_msgs)\n",
    "\n",
    "    return (actions_1h, msgs_1h, rng, seq_mask), traj_batch"
   ]
  },
  {
   "cell_type": "code",
   "execution_count": 34,
   "metadata": {},
   "outputs": [],
   "source": [
    "import flax.linen as nn\n",
    "import numpy as np\n",
    "import jax.numpy as jnp\n",
    "import jax\n",
    "import functools\n",
    "\n",
    "\n",
    "class ScannedRNN(nn.Module):\n",
    "    hidden_size: int = 128\n",
    "\n",
    "    @functools.partial(\n",
    "        nn.scan,\n",
    "        variable_broadcast=\"params\",\n",
    "        in_axes=0,\n",
    "        out_axes=0,\n",
    "        split_rngs={\"params\": False},\n",
    "    )\n",
    "    @nn.compact\n",
    "    def __call__(self, rnn_state, x):\n",
    "        \"\"\"Applies the module.\"\"\"\n",
    "        ins, seq_mask = x\n",
    "        new_rnn_state, y = nn.GRUCell(features=self.hidden_size)(rnn_state, ins)\n",
    "        new_rnn_state = jnp.where(\n",
    "            seq_mask[:, np.newaxis],\n",
    "            rnn_state,\n",
    "            new_rnn_state,\n",
    "        )\n",
    "        return new_rnn_state, y\n",
    "\n",
    "    @staticmethod\n",
    "    def initialize_carry(n_envs, hidden_size):\n",
    "        # Use a dummy key since the default state init fn is just zeros.\n",
    "        cell = nn.GRUCell(features=hidden_size)\n",
    "        return cell.initialize_carry(jax.random.PRNGKey(0), (n_envs, hidden_size))\n",
    "\n",
    "\n",
    "class ActionsMsgsEncoder(nn.Module):\n",
    "    enc_size: int\n",
    "    hidden_size: int = 128\n",
    "\n",
    "    @nn.compact\n",
    "    def __call__(self, inputs):\n",
    "        actions, msgs, rng, seq_mask = inputs\n",
    "        feats = jnp.concatenate([actions, msgs], axis=-1)\n",
    "\n",
    "        x = nn.Dense(self.hidden_size)(feats)\n",
    "        x = nn.relu(x)\n",
    "\n",
    "        x = nn.Dense(self.hidden_size)(x)\n",
    "        x = nn.relu(x)\n",
    "\n",
    "        _, n_envs, _ = x.shape\n",
    "        carry = ScannedRNN.initialize_carry(n_envs, self.hidden_size)\n",
    "        action_enc, _ = ScannedRNN(self.hidden_size)(carry, (x, seq_mask))\n",
    "\n",
    "        return nn.Dense(self.enc_size)(action_enc)"
   ]
  },
  {
   "cell_type": "code",
   "execution_count": 35,
   "metadata": {},
   "outputs": [],
   "source": [
    "from tensorflow_probability.substrates import jax as tfp\n",
    "\n",
    "\n",
    "def relaxed_sample_real_obs(logits, rng, temp=0.1):\n",
    "    n_envs, *_ = logits.shape\n",
    "    env_states_logits = logits.reshape((n_envs, 2, 2, 5))\n",
    "\n",
    "    agent_pos_x_logits = env_states_logits[:, 0, 0]\n",
    "    agent_pos_y_logits = env_states_logits[:, 0, 1]\n",
    "    goal_pos_x_logits = env_states_logits[:, 1, 0]\n",
    "    goal_pos_y_logits = env_states_logits[:, 1, 1]\n",
    "\n",
    "    agent_x_dist = tfp.distributions.RelaxedOneHotCategorical(\n",
    "        temp, logits=agent_pos_x_logits\n",
    "    )\n",
    "    rng, _rng = jax.random.split(rng)\n",
    "    agent_pos_x = agent_x_dist.sample(seed=_rng)\n",
    "\n",
    "    agent_y_dist = tfp.distributions.RelaxedOneHotCategorical(\n",
    "        temp, logits=agent_pos_y_logits\n",
    "    )\n",
    "    rng, _rng = jax.random.split(rng)\n",
    "    agent_pos_y = agent_y_dist.sample(seed=_rng)\n",
    "\n",
    "    goal_x_dist = tfp.distributions.RelaxedOneHotCategorical(\n",
    "        temp, logits=goal_pos_x_logits\n",
    "    )\n",
    "    rng, _rng = jax.random.split(rng)\n",
    "    goal_pos_x = goal_x_dist.sample(seed=_rng)\n",
    "\n",
    "    goal_y_dist = tfp.distributions.RelaxedOneHotCategorical(\n",
    "        temp, logits=goal_pos_y_logits\n",
    "    )\n",
    "    rng, _rng = jax.random.split(rng)\n",
    "    goal_pos_y = goal_y_dist.sample(seed=_rng)\n",
    "\n",
    "    return jnp.concatenate(\n",
    "        [agent_pos_x, agent_pos_y, goal_pos_x, goal_pos_y],\n",
    "        axis=-1\n",
    "    )\n",
    "\n",
    "\n",
    "class ObsActionDecoder(nn.Module):\n",
    "    obs_dim: int\n",
    "    hidden_size: int = 128\n",
    "\n",
    "    @nn.compact\n",
    "    def __call__(self, inputs, temp: float = 0.1):\n",
    "        actions, msgs, rng, seq_mask = inputs\n",
    "        seq_len, n_seqs = seq_mask.shape\n",
    "\n",
    "        action_msgs_enc = ActionsMsgsEncoder(self.hidden_size)(inputs)\n",
    "        init_obs_logits = InitObsModel(self.obs_dim)(action_msgs_enc)\n",
    "        rng, _rng = jax.random.split(rng)\n",
    "        init_obs = relaxed_sample_real_obs(\n",
    "            init_obs_logits, _rng, temp=temp\n",
    "        )\n",
    "\n",
    "        def simulate_rollout_step(obs, step_rng):\n",
    "            \"\"\"\n",
    "            Uses the pretrained policy and transition function to simulate\n",
    "            a step of a rollout from the given observation.\n",
    "            \"\"\"\n",
    "            action_rng, obs_rng = jax.random.split(step_rng)\n",
    "            pi, *_ = pretrained_policy(obs)\n",
    "            action_logits = pi.logits\n",
    "            action_dist = tfp.distributions.RelaxedOneHotCategorical(\n",
    "                temp, logits=action_logits\n",
    "            )\n",
    "            action_probs = action_dist.sample(seed=action_rng)\n",
    "            # action_probs = jax.nn.softmax(action_logits / temp)\n",
    "            transition_inp = (action_probs, obs)\n",
    "            next_obs_logits = transition_model.apply(\n",
    "                transition_model_train_state.params,\n",
    "                transition_inp\n",
    "            )\n",
    "            next_obs = relaxed_sample_real_obs(\n",
    "                next_obs_logits, obs_rng, temp=temp\n",
    "            )\n",
    "            return next_obs, (next_obs, action_logits)\n",
    "\n",
    "        step_rngs = jax.random.split(rng, seq_len)\n",
    "        _, (obs_preds, action_logits) = jax.lax.scan(\n",
    "            simulate_rollout_step, init_obs, step_rngs\n",
    "        )\n",
    "\n",
    "        # include the initial observation in the predictions and remove\n",
    "        # the last prediction to match the shape of the input observations\n",
    "        obs_preds = jnp.concatenate([init_obs[None], obs_preds[:-1]], axis=0)\n",
    "\n",
    "        return obs_preds, action_logits"
   ]
  },
  {
   "cell_type": "code",
   "execution_count": 36,
   "metadata": {},
   "outputs": [],
   "source": [
    "inputs, traj_batch = sample_sequences(jax.random.PRNGKey(0), n_seqs=2, seq_len=8)\n",
    "obs_action_decoder = ObsActionDecoder(traj_batch.obs.shape[-1], 64)\n",
    "\n",
    "init_params = obs_action_decoder.init(jax.random.PRNGKey(0), inputs)\n",
    "\n",
    "obs_preds, action_pred_logits = obs_action_decoder.apply(init_params, inputs)\n",
    "\n",
    "true_actions, messages, rng, seq_mask = inputs"
   ]
  },
  {
   "cell_type": "code",
   "execution_count": 37,
   "metadata": {},
   "outputs": [
    {
     "data": {
      "text/plain": [
       "((8, 2, 20), (8, 2, 20), (8, 2, 5), (8, 2, 5))"
      ]
     },
     "execution_count": 37,
     "metadata": {},
     "output_type": "execute_result"
    }
   ],
   "source": [
    "traj_batch.obs.shape, obs_preds.shape, action_pred_logits.shape, true_actions.shape"
   ]
  },
  {
   "cell_type": "code",
   "execution_count": 38,
   "metadata": {},
   "outputs": [
    {
     "data": {
      "image/png": "[encoded data removed]",
      "text/plain": [
       "<Figure size 1400x500 with 2 Axes>"
      ]
     },
     "metadata": {},
     "output_type": "display_data"
    }
   ],
   "source": [
    "BATCH_SIZE = 512\n",
    "SEQ_LEN = 8\n",
    "N_TRAIN_STEPS = 20000\n",
    "\n",
    "HIGH_TEMP = 1.0\n",
    "LOW_TEMP = 0.75\n",
    "ROUND_FAC = 256\n",
    "SCHEDULE_STEPS = 10000\n",
    "FIX_GOAL_IN_BATCH = True\n",
    "\n",
    "\n",
    "def linear_temp_schedule(step,\n",
    "                         high_t = HIGH_TEMP,\n",
    "                         low_t = LOW_TEMP,\n",
    "                         schedule_steps = SCHEDULE_STEPS,\n",
    "                         round_fac = ROUND_FAC):\n",
    "    step = jnp.int32(jnp.round(step / round_fac, 0) * round_fac)\n",
    "    return jnp.clip(high_t - (high_t - low_t) * (step / schedule_steps), low_t)\n",
    "\n",
    "\n",
    "def exponential_temp_schedule(step,\n",
    "                              high_t = HIGH_TEMP,\n",
    "                              low_t = LOW_TEMP,\n",
    "                              schedule_steps = SCHEDULE_STEPS,\n",
    "                              round_fac = ROUND_FAC):\n",
    "    step = jnp.int32(jnp.round(step / round_fac, 0) * round_fac)\n",
    "    decay_fac = jnp.log(low_t / high_t) / schedule_steps\n",
    "    temp = high_t * jnp.exp(decay_fac * step)\n",
    "    return jnp.clip(temp, low_t, high_t)\n",
    "\n",
    "\n",
    "fig, axs = plt.subplots(1, 2, figsize=(14, 5))\n",
    "axs[0].plot(np.arange(N_TRAIN_STEPS), linear_temp_schedule(np.arange(N_TRAIN_STEPS)))\n",
    "axs[0].set_title('Linear Temp Schedule')\n",
    "axs[0].set_xlabel('Step')\n",
    "axs[0].set_ylabel('Temperature')\n",
    "axs[1].plot(np.arange(N_TRAIN_STEPS), exponential_temp_schedule(np.arange(N_TRAIN_STEPS)))\n",
    "axs[1].set_title('Exponential Temp Schedule')\n",
    "axs[1].set_xlabel('Step')\n",
    "plt.show()\n"
   ]
  },
  {
   "cell_type": "code",
   "execution_count": 39,
   "metadata": {},
   "outputs": [],
   "source": [
    "from flax.training.train_state import TrainState\n",
    "import optax\n",
    "\n",
    "\n",
    "@jax.jit\n",
    "def update_fn(state: tuple, _):\n",
    "    train_state, rng = state\n",
    "\n",
    "    # temp = exponential_temp_schedule(train_state.step)\n",
    "    temp = 1.0\n",
    "\n",
    "    def compute_loss(params, batch):\n",
    "        _, action_pred_logits = train_state.apply_fn(params, batch, temp=temp)\n",
    "        true_actions, _, _, seq_mask = batch\n",
    "        loss_vals = (1.0 - seq_mask) * categorical_cross_entropy(\n",
    "            action_pred_logits, true_actions\n",
    "        )\n",
    "        return loss_vals.mean()\n",
    "\n",
    "    rng, _rng = jax.random.split(rng)\n",
    "    batch, _ = sample_sequences(\n",
    "        _rng,\n",
    "        n_seqs=BATCH_SIZE,\n",
    "        seq_len=SEQ_LEN,\n",
    "        fix_goal_pos_in_batch=FIX_GOAL_IN_BATCH\n",
    "    )\n",
    "    loss, grads = jax.value_and_grad(compute_loss)(train_state.params, batch)\n",
    "    new_train_state = train_state.apply_gradients(grads=grads)\n",
    "    metrics = {'step': train_state.step, 'loss': loss}\n",
    "    return (new_train_state, rng), metrics\n",
    "\n",
    "\n",
    "rng = jax.random.PRNGKey(0)\n",
    "rng, _rng = jax.random.split(rng)\n",
    "inputs, traj_batch = sample_sequences(_rng, n_seqs=BATCH_SIZE, seq_len=SEQ_LEN)\n",
    "obs_action_decoder = ObsActionDecoder(traj_batch.obs.shape[-1], 64)\n",
    "init_params = obs_action_decoder.init(jax.random.PRNGKey(0), inputs)\n",
    "\n",
    "optimizer = optax.adam(1e-4)\n",
    "obs_action_decoder_train_state = TrainState.create(\n",
    "    apply_fn=obs_action_decoder.apply,\n",
    "    params=init_params,\n",
    "    tx=optimizer\n",
    ")\n",
    "\n",
    "(obs_action_decoder_train_state, _), metrics = jax.lax.scan(\n",
    "    update_fn, (obs_action_decoder_train_state, rng), None, length=N_TRAIN_STEPS\n",
    ")"
   ]
  },
  {
   "cell_type": "code",
   "execution_count": 40,
   "metadata": {},
   "outputs": [
    {
     "data": {
      "image/png": "[encoded data removed]",
      "text/plain": [
       "<Figure size 640x480 with 1 Axes>"
      ]
     },
     "metadata": {},
     "output_type": "display_data"
    }
   ],
   "source": [
    "import matplotlib.pyplot as plt\n",
    "import seaborn as sns\n",
    "import pandas as pd\n",
    "\n",
    "sns.set_theme()\n",
    "\n",
    "df = pd.DataFrame({\n",
    "    'loss': metrics['loss'],\n",
    "    'step': metrics['step']\n",
    "})\n",
    "\n",
    "sns.lineplot(df, x='step', y='loss')\n",
    "plt.show()"
   ]
  },
  {
   "cell_type": "code",
   "execution_count": 41,
   "metadata": {},
   "outputs": [],
   "source": [
    "rng = jax.random.PRNGKey(1)\n",
    "rng, _rng = jax.random.split(rng)\n",
    "inputs, traj_batch = sample_sequences(_rng, n_seqs=BATCH_SIZE, seq_len=SEQ_LEN, fix_goal_pos_in_batch=True)\n",
    "obs_preds, action_pred_logits = obs_action_decoder.apply(obs_action_decoder_train_state.params, inputs, temp=0.1)"
   ]
  },
  {
   "cell_type": "code",
   "execution_count": 42,
   "metadata": {},
   "outputs": [
    {
     "name": "stdout",
     "output_type": "stream",
     "text": [
      "Sequence Mask: [False False False False False False  True  True] (True = Not In Sequence)\n",
      "Dones: [False False False False False  True  True False]\n",
      "Episode Length: 6\n",
      "True Actions: [3 1 3 1 1 3]\n",
      "Predicted Actions: [3 3 3 3 1 3]\n",
      "Predicted Epsiode:\n",
      "---------------------\t---------------------\t---------------------\t---------------------\t---------------------\t---------------------\n",
      "|   |   |   |   |   |\t|   |   |   |   |   |\t|   |   |   |   |   |\t|   |   |   |   |   |\t|   |   |   |   |   |\t|   |   |   |   |   |\n",
      "---------------------\t---------------------\t---------------------\t---------------------\t---------------------\t---------------------\n",
      "|   | G |   |   |   |\t|   | G |   |   |   |\t|   | G |   |   |   |\t|   | G |   |   |   |\t|   | G |   |   |   |\t|   | G |   |   |   |\n",
      "---------------------\t---------------------\t---------------------\t---------------------\t---------------------\t---------------------\n",
      "|   |   |   |   |   |\t|   |   |   |   |   |\t|   |   |   | X |   |\t|   |   | X |   |   |\t|   | X |   |   |   |\t|   |   |   |   |   |\n",
      "---------------------\t---------------------\t---------------------\t---------------------\t---------------------\t---------------------\n",
      "|   |   |   |   | X |\t|   |   |   | X |   |\t|   |   |   |   |   |\t|   |   |   |   |   |\t|   |   |   |   |   |\t|   |   |   |   |   |\n",
      "---------------------\t---------------------\t---------------------\t---------------------\t---------------------\t---------------------\n",
      "|   |   |   |   |   |\t|   |   |   |   |   |\t|   |   |   |   |   |\t|   |   |   |   |   |\t|   |   |   |   |   |\t|   |   |   |   |   |\n",
      "---------------------\t---------------------\t---------------------\t---------------------\t---------------------\t---------------------\n",
      "\t\t\t\t\t\n",
      "Actual Episode:\n",
      "---------------------\t---------------------\t---------------------\t---------------------\t---------------------\t---------------------\n",
      "|   |   |   |   |   |\t|   |   |   |   |   |\t|   |   |   |   |   |\t|   |   |   |   |   |\t|   |   |   |   |   |\t|   |   |   |   |   |\n",
      "---------------------\t---------------------\t---------------------\t---------------------\t---------------------\t---------------------\n",
      "|   | G |   |   |   |\t|   | G |   |   |   |\t|   | G |   |   |   |\t|   | G |   |   |   |\t|   | G |   |   |   |\t|   | G | X |   |   |\n",
      "---------------------\t---------------------\t---------------------\t---------------------\t---------------------\t---------------------\n",
      "|   |   |   |   |   |\t|   |   |   |   |   |\t|   |   |   |   |   |\t|   |   |   |   |   |\t|   |   | X |   |   |\t|   |   |   |   |   |\n",
      "---------------------\t---------------------\t---------------------\t---------------------\t---------------------\t---------------------\n",
      "|   |   |   |   |   |\t|   |   |   |   |   |\t|   |   |   | X |   |\t|   |   | X |   |   |\t|   |   |   |   |   |\t|   |   |   |   |   |\n",
      "---------------------\t---------------------\t---------------------\t---------------------\t---------------------\t---------------------\n",
      "|   |   |   |   | X |\t|   |   |   | X |   |\t|   |   |   |   |   |\t|   |   |   |   |   |\t|   |   |   |   |   |\t|   |   |   |   |   |\n",
      "---------------------\t---------------------\t---------------------\t---------------------\t---------------------\t---------------------\n",
      "\t\t\t\t\t\n"
     ]
    }
   ],
   "source": [
    "actions, messages, _, seq_mask = inputs\n",
    "i = 9\n",
    "ep_len = seq_mask[:, i].argmax()\n",
    "print('Sequence Mask:', seq_mask[:, i], \"(True = Not In Sequence)\")\n",
    "print('Dones:', traj_batch.done[:, i])\n",
    "print('Episode Length:', ep_len)\n",
    "print('True Actions:', actions[:, i].argmax(-1)[:ep_len])\n",
    "print('Predicted Actions:', action_pred_logits[:, i].argmax(-1)[:ep_len])\n",
    "\n",
    "print('Predicted Epsiode:')\n",
    "predicted_ep = obs_preds[:, i].round(2)[:ep_len]\n",
    "goal_pos, agent_pos = get_goals_and_pos(predicted_ep[:, np.newaxis])\n",
    "print_episode(goal_pos[:, 0].tolist(), agent_pos[:, 0].tolist())\n",
    "\n",
    "print('Actual Episode:')\n",
    "actual_ep = traj_batch.obs[:, i].round(2)[:seq_mask[:, i].argmax()]\n",
    "goal_pos, agent_pos = get_goals_and_pos(actual_ep[:, np.newaxis])\n",
    "print_episode(goal_pos[:, 0].tolist(), agent_pos[:, 0].tolist())"
   ]
  },
  {
   "cell_type": "code",
   "execution_count": 45,
   "metadata": {},
   "outputs": [],
   "source": [
    "items = {\n",
    "    'seed': [],\n",
    "    'pred_goal_pos_x': [],\n",
    "    'pred_goal_pos_y': [],\n",
    "    'act_goal_pos_x': [],\n",
    "    'act_goal_pos_y': [],\n",
    "    'pred_correct': []\n",
    "}\n",
    "\n",
    "N_SEEDS = 10\n",
    "\n",
    "for seed in range(N_SEEDS):\n",
    "    rng = jax.random.PRNGKey(seed)\n",
    "    inputs, traj_batch = sample_sequences(rng, n_seqs=BATCH_SIZE, seq_len=SEQ_LEN)\n",
    "    obs_preds, action_pred_logits = obs_action_decoder.apply(\n",
    "        obs_action_decoder_train_state.params, inputs, temp=1.0\n",
    "    )\n",
    "\n",
    "    *_, seq_mask = inputs\n",
    "    pred_goal_pos, _ = get_goals_and_pos(obs_preds)\n",
    "    pred_goal_pos = pred_goal_pos[jnp.logical_not(seq_mask)]\n",
    "    act_goal_pos, _ = get_goals_and_pos(traj_batch.obs)\n",
    "    act_goal_pos = act_goal_pos[jnp.logical_not(seq_mask)]\n",
    "    goals_equal = (pred_goal_pos == act_goal_pos).all(axis=-1)\n",
    "\n",
    "    items['seed'].extend([seed] * goals_equal.shape[0])\n",
    "    items['pred_goal_pos_x'].extend(pred_goal_pos[:, 0].tolist())\n",
    "    items['pred_goal_pos_y'].extend(pred_goal_pos[:, 1].tolist())\n",
    "    items['act_goal_pos_x'].extend(act_goal_pos[:, 0].tolist())\n",
    "    items['act_goal_pos_y'].extend(act_goal_pos[:, 1].tolist())\n",
    "    items['pred_correct'].extend(goals_equal.tolist())\n",
    "\n",
    "\n",
    "acc_df = pd.DataFrame(items)"
   ]
  },
  {
   "cell_type": "code",
   "execution_count": 46,
   "metadata": {},
   "outputs": [
    {
     "data": {
      "image/png": "[encoded data removed]",
      "text/plain": [
       "<Figure size 1100x1000 with 30 Axes>"
      ]
     },
     "metadata": {},
     "output_type": "display_data"
    },
    {
     "name": "stderr",
     "output_type": "stream",
     "text": [
      "reformatted figures/prelim_run_results/goal_predictions/code.py\n",
      "\n",
      "All done! ✨ 🍰 ✨\n",
      "1 file reformatted.\n"
     ]
    }
   ],
   "source": [
    "import matplotlib.gridspec as gridspec\n",
    "\n",
    "def plot_goal_predictions(acc_df):\n",
    "    set_plotting_style(font_scale=1.5)\n",
    "\n",
    "    plt.figure(figsize=(11, 10))\n",
    "    gs = gridspec.GridSpec(5, 6, width_ratios=[1, 1, 1, 1, 1, 0.1])\n",
    "\n",
    "    for j in range(5):\n",
    "        for i in range(5):\n",
    "            true_x, true_y = j, i\n",
    "\n",
    "            df = acc_df[(acc_df['act_goal_pos_x'] == true_x) & (acc_df['act_goal_pos_y'] == true_y)]\n",
    "\n",
    "            preds_table = np.zeros((env_params.grid_size, env_params.grid_size))\n",
    "\n",
    "            for row in df.itertuples():\n",
    "                preds_table[row.pred_goal_pos_x, row.pred_goal_pos_y] += 1\n",
    "\n",
    "            preds_table /= preds_table.sum()\n",
    "\n",
    "            ax = plt.subplot(gs[j, i])\n",
    "            sns.heatmap(\n",
    "                preds_table,\n",
    "                ax=ax,\n",
    "                cbar=i == 4,\n",
    "                cbar_ax=None if i != 4 else plt.subplot(gs[j, 5]),\n",
    "                vmin=0, vmax=1,\n",
    "                square=True\n",
    "            )\n",
    "\n",
    "            if i != 0:\n",
    "                ax.set_yticks([])\n",
    "                ax.set_ylabel('')\n",
    "            else:\n",
    "                ax.set_yticks(np.array([0, 1, 2, 3, 4]) + 0.5)\n",
    "                ax.set_yticklabels(['0', '1', '2', '3', '4'])\n",
    "\n",
    "            if j != 4:\n",
    "                ax.set_xticks([])\n",
    "                ax.set_xlabel('')\n",
    "            else:\n",
    "                ax.set_xticks(np.array([0, 1, 2, 3, 4]) + 0.5)\n",
    "                ax.set_xticklabels(['0', '1', '2', '3', '4'])\n",
    "\n",
    "            width = 2\n",
    "            ax.plot([true_y, true_y + 1], [true_x, true_x], 'r', linewidth=width)\n",
    "            ax.plot([true_y, true_y + 1], [true_x + 1, true_x + 1], 'r', linewidth=width)\n",
    "            ax.plot([true_y, true_y], [true_x, true_x + 1], 'r', linewidth=width)\n",
    "            ax.plot([true_y + 1, true_y + 1], [true_x, true_x + 1], 'r', linewidth=width)\n",
    "\n",
    "        cbar_ax = plt.subplot(gs[j, 5])\n",
    "        cbar_ax.set_aspect(10)  # Adjust this value to fine-tune\n",
    "\n",
    "    plt.tight_layout()\n",
    "\n",
    "\n",
    "save_reproducible_figure(\n",
    "    'goal_predictions', acc_df, plot_goal_predictions, show=True,\n",
    "    figures_dir=f'figures/prelim_run_results'\n",
    ")"
   ]
  },
  {
   "cell_type": "code",
   "execution_count": 43,
   "metadata": {},
   "outputs": [
    {
     "data": {
      "text/plain": [
       "(0.16929404437541962, 0.5622243285179138)"
      ]
     },
     "execution_count": 43,
     "metadata": {},
     "output_type": "execute_result"
    }
   ],
   "source": [
    "predicted_ep = obs_preds.round(2)\n",
    "pred_goal_pos, _ = get_goals_and_pos(predicted_ep)\n",
    "act_goal_pos, _ = get_goals_and_pos(traj_batch.obs) \n",
    "\n",
    "delta_goal_pos = jnp.abs(pred_goal_pos - act_goal_pos)\n",
    "goal_pos_dist = jnp.linalg.norm(delta_goal_pos, ord=1, axis=-1)[jnp.logical_not(seq_mask)]\n",
    "goal_pos_dist_mean = goal_pos_dist.mean()\n",
    "goal_pos_dist_std = goal_pos_dist.std()\n",
    "goal_pos_dist_mean.item(), goal_pos_dist_std.item()"
   ]
  },
  {
   "cell_type": "code",
   "execution_count": 44,
   "metadata": {},
   "outputs": [
    {
     "data": {
      "text/plain": [
       "Array(0.9150103, dtype=float32)"
      ]
     },
     "execution_count": 44,
     "metadata": {},
     "output_type": "execute_result"
    }
   ],
   "source": [
    "from poclaps.rollout_fake_msgs import SimpleGridWorldCommPolicy\n",
    "\n",
    "COMM_POLICY_SEED = 0\n",
    "\n",
    "predicted_ep = obs_preds.round(2)\n",
    "goal_pos, _ = get_goals_and_pos(predicted_ep)\n",
    "*batch_shape, _ = goal_pos.shape\n",
    "goal_pos = goal_pos.reshape((np.prod(batch_shape), 2))\n",
    "\n",
    "comm_policy = SimpleGridWorldCommPolicy(COMM_POLICY_SEED, env_params)\n",
    "\n",
    "pred_msgs = jax.lax.map(\n",
    "    lambda g: comm_policy.get_msg(g),\n",
    "    goal_pos\n",
    ")\n",
    "pred_msgs = pred_msgs.reshape(batch_shape)\n",
    "(pred_msgs == traj_batch.message)[jnp.logical_not(seq_mask)].mean()"
   ]
  },
  {
   "cell_type": "code",
   "execution_count": 47,
   "metadata": {},
   "outputs": [
    {
     "data": {
      "text/plain": [
       "17"
      ]
     },
     "execution_count": 47,
     "metadata": {},
     "output_type": "execute_result"
    }
   ],
   "source": [
    "traj_batch.message[0, 0].item()"
   ]
  },
  {
   "cell_type": "code",
   "execution_count": 48,
   "metadata": {},
   "outputs": [
    {
     "name": "stdout",
     "output_type": "stream",
     "text": [
      "Seed 0: 0.38793694972991943\n",
      "Seed 10: 0.010281014256179333\n",
      "Seed 20: 0.6394791007041931\n",
      "Seed 30: 0.38930773735046387\n",
      "Seed 40: 0.00891021266579628\n",
      "Seed 50: 0.01507882121950388\n",
      "Seed 60: 0.010966415517032146\n",
      "Seed 70: 0.013022618368268013\n",
      "Seed 80: 0.004797806963324547\n",
      "Seed 90: 0.017135024070739746\n"
     ]
    }
   ],
   "source": [
    "# from tdqm import tqdm\n",
    "\n",
    "items = []\n",
    "\n",
    "N_SEEDS = 100\n",
    "\n",
    "# progress = tqdm(total=N_SEEDS)\n",
    "\n",
    "for seed in range(N_SEEDS):\n",
    "    rng = jax.random.PRNGKey(seed)\n",
    "    rng, _rng = jax.random.split(rng)\n",
    "    inputs, traj_batch = sample_sequences(_rng, n_seqs=BATCH_SIZE, seq_len=SEQ_LEN, fix_goal_pos_in_batch=True)\n",
    "    obs_preds, action_pred_logits = obs_action_decoder.apply(\n",
    "        obs_action_decoder_train_state.params, inputs, temp=0.1\n",
    "    )\n",
    "\n",
    "    predicted_ep = obs_preds.round(2)\n",
    "    goal_pos, _ = get_goals_and_pos(predicted_ep)\n",
    "    *batch_shape, _ = goal_pos.shape\n",
    "    goal_pos = goal_pos.reshape((np.prod(batch_shape), 2))\n",
    "\n",
    "    pred_msgs = jax.lax.map(\n",
    "        lambda g: comm_policy.get_msg(g),\n",
    "        goal_pos\n",
    "    )\n",
    "    pred_msgs = pred_msgs.reshape(batch_shape)\n",
    "    msg_acc = (pred_msgs == traj_batch.message)[jnp.logical_not(seq_mask)].mean()\n",
    "    msg = traj_batch.message[0, 0].item()\n",
    "\n",
    "    items.append({'Message': msg, 'Accuracy': msg_acc})\n",
    "\n",
    "    # progress.update()\n",
    "    if seed % 10 == 0:\n",
    "        print(f'Seed {seed}: {msg_acc}')\n",
    "\n",
    "\n",
    "msg_acc_df = pd.DataFrame(items)"
   ]
  },
  {
   "cell_type": "code",
   "execution_count": 49,
   "metadata": {},
   "outputs": [
    {
     "data": {
      "text/html": [
       "<div>\n",
       "<style scoped>\n",
       "    .dataframe tbody tr th:only-of-type {\n",
       "        vertical-align: middle;\n",
       "    }\n",
       "\n",
       "    .dataframe tbody tr th {\n",
       "        vertical-align: top;\n",
       "    }\n",
       "\n",
       "    .dataframe thead th {\n",
       "        text-align: right;\n",
       "    }\n",
       "</style>\n",
       "<table border=\"1\" class=\"dataframe\">\n",
       "  <thead>\n",
       "    <tr style=\"text-align: right;\">\n",
       "      <th></th>\n",
       "      <th>Message</th>\n",
       "      <th>Accuracy</th>\n",
       "    </tr>\n",
       "  </thead>\n",
       "  <tbody>\n",
       "    <tr>\n",
       "      <th>0</th>\n",
       "      <td>4</td>\n",
       "      <td>0.38793695</td>\n",
       "    </tr>\n",
       "    <tr>\n",
       "      <th>1</th>\n",
       "      <td>17</td>\n",
       "      <td>0.9150103</td>\n",
       "    </tr>\n",
       "    <tr>\n",
       "      <th>2</th>\n",
       "      <td>12</td>\n",
       "      <td>0.008224811</td>\n",
       "    </tr>\n",
       "    <tr>\n",
       "      <th>3</th>\n",
       "      <td>3</td>\n",
       "      <td>0.010281014</td>\n",
       "    </tr>\n",
       "    <tr>\n",
       "      <th>4</th>\n",
       "      <td>16</td>\n",
       "      <td>0.008224811</td>\n",
       "    </tr>\n",
       "  </tbody>\n",
       "</table>\n",
       "</div>"
      ],
      "text/plain": [
       "   Message     Accuracy\n",
       "0        4   0.38793695\n",
       "1       17    0.9150103\n",
       "2       12  0.008224811\n",
       "3        3  0.010281014\n",
       "4       16  0.008224811"
      ]
     },
     "execution_count": 49,
     "metadata": {},
     "output_type": "execute_result"
    }
   ],
   "source": [
    "msg_acc_df.head()"
   ]
  },
  {
   "cell_type": "code",
   "execution_count": 50,
   "metadata": {},
   "outputs": [
    {
     "data": {
      "image/png": "[encoded data removed]",
      "text/plain": [
       "<Figure size 640x480 with 2 Axes>"
      ]
     },
     "metadata": {},
     "output_type": "display_data"
    },
    {
     "name": "stderr",
     "output_type": "stream",
     "text": [
      "reformatted figures/goal_pos_acc_table/code.py\n",
      "\n",
      "All done! ✨ 🍰 ✨\n",
      "1 file reformatted.\n"
     ]
    }
   ],
   "source": [
    "from reproducible_figures import set_plotting_style, save_reproducible_figure\n",
    "\n",
    "\n",
    "def plot_acc_table(msg_acc_df):\n",
    "    msg_acc_df['Goal X'] = msg_acc_df['Message'] // env_params.grid_size\n",
    "    msg_acc_df['Goal Y'] = msg_acc_df['Message'] % env_params.grid_size\n",
    "\n",
    "    acc_table = msg_acc_df.groupby(['Goal X', 'Goal Y'])['Accuracy'].mean().reset_index().pivot(index='Goal X', columns='Goal Y', values='Accuracy')\n",
    "\n",
    "    set_plotting_style()\n",
    "\n",
    "    ax = sns.heatmap(\n",
    "        np.float32(acc_table.to_numpy()),\n",
    "        cmap='viridis', cbar=True, annot=True, fmt='.2f'\n",
    "    )\n",
    "    ax.set_xlabel('Goal X')\n",
    "    ax.set_ylabel('Goal Y')\n",
    "\n",
    "\n",
    "save_reproducible_figure(\n",
    "    'goal_pos_acc_table',\n",
    "    msg_acc_df,\n",
    "    plot_acc_table,\n",
    "    show=True\n",
    ")"
   ]
  },
  {
   "cell_type": "code",
   "execution_count": 51,
   "metadata": {},
   "outputs": [
    {
     "data": {
      "image/png": "[encoded data removed]",
      "text/plain": [
       "<Figure size 640x480 with 2 Axes>"
      ]
     },
     "metadata": {},
     "output_type": "display_data"
    },
    {
     "name": "stderr",
     "output_type": "stream",
     "text": [
      "reformatted figures/goal_pos_count_table/code.py\n",
      "\n",
      "All done! ✨ 🍰 ✨\n",
      "1 file reformatted.\n"
     ]
    }
   ],
   "source": [
    "from reproducible_figures import set_plotting_style, save_reproducible_figure\n",
    "\n",
    "\n",
    "def plot_count_table(msg_acc_df):\n",
    "    msg_acc_df['Goal X'] = msg_acc_df['Message'] // env_params.grid_size\n",
    "    msg_acc_df['Goal Y'] = msg_acc_df['Message'] % env_params.grid_size\n",
    "\n",
    "    count_table = msg_acc_df.groupby(['Goal X', 'Goal Y'])['Accuracy'].count().reset_index().pivot(index='Goal X', columns='Goal Y', values='Accuracy')\n",
    "    count_table = count_table / count_table.sum().sum()\n",
    "\n",
    "    set_plotting_style()\n",
    "\n",
    "    ax = sns.heatmap(\n",
    "        np.float32(count_table.to_numpy()),\n",
    "        cmap='viridis', cbar=True, annot=True\n",
    "    )\n",
    "    ax.set_xlabel('Goal X')\n",
    "    ax.set_ylabel('Goal Y')\n",
    "\n",
    "\n",
    "save_reproducible_figure(\n",
    "    'goal_pos_count_table',\n",
    "    msg_acc_df,\n",
    "    plot_count_table,\n",
    "    show=True\n",
    ")"
   ]
  },
  {
   "cell_type": "code",
   "execution_count": null,
   "metadata": {},
   "outputs": [],
   "source": [
    "from reproducible_figures import set_plotting_style, save_reproducible_figure\n",
    "\n",
    "\n",
    "def plot_acc_table(msg_acc_df):\n",
    "    msg_acc_df['Goal X'] = msg_acc_df['Message'] // env_params.grid_size\n",
    "    msg_acc_df['Goal Y'] = msg_acc_df['Message'] % env_params.grid_size\n",
    "\n",
    "    acc_table = msg_acc_df.groupby(['Goal X', 'Goal Y'])['Accuracy'].mean().reset_index().pivot(index='Goal X', columns='Goal Y', values='Accuracy')\n",
    "\n",
    "    set_plotting_style()\n",
    "\n",
    "    ax = sns.heatmap(\n",
    "        np.float32(acc_table.to_numpy()),\n",
    "        cmap='viridis', cbar=True, annot=True, fmt='.2f'\n",
    "    )\n",
    "    ax.set_xlabel('Goal X')\n",
    "    ax.set_ylabel('Goal Y')\n",
    "\n",
    "\n",
    "save_reproducible_figure(\n",
    "    'goal_pos_acc_table',\n",
    "    msg_acc_df,\n",
    "    plot_acc_table,\n",
    "    show=True\n",
    ")"
   ]
  }
 ],
 "metadata": {
  "kernelspec": {
   "display_name": "base",
   "language": "python",
   "name": "python3"
  },
  "language_info": {
   "codemirror_mode": {
    "name": "ipython",
    "version": 3
   },
   "file_extension": ".py",
   "mimetype": "text/x-python",
   "name": "python",
   "nbconvert_exporter": "python",
   "pygments_lexer": "ipython3",
   "version": "3.11.5"
  }
 },
 "nbformat": 4,
 "nbformat_minor": 2
}
