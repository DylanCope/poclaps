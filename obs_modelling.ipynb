{
 "cells": [
  {
   "cell_type": "code",
   "execution_count": 2,
   "metadata": {},
   "outputs": [
    {
     "name": "stderr",
     "output_type": "stream",
     "text": [
      "WARNING: All log messages before absl::InitializeLog() is called are written to STDERR\n",
      "I0000 00:00:1719942213.388569 3119386 tfrt_cpu_pjrt_client.cc:349] TfrtCpuClient created.\n"
     ]
    }
   ],
   "source": [
    "import os\n",
    "os.environ['XLA_PYTHON_CLIENT_PREALLOCATE'] = 'false'\n",
    "\n",
    "\n",
    "from poclaps.train.ppo import reload\n",
    "\n",
    "policy_dir = 'outputs/2024-06-14/15-39-35/'\n",
    "config, pretrained_policy, env, env_params, _ = reload(policy_dir)"
   ]
  },
  {
   "cell_type": "code",
   "execution_count": 3,
   "metadata": {},
   "outputs": [],
   "source": [
    "from poclaps.rollout_fake_msgs import rollout_with_msgs\n",
    "# from poclaps.models.scanned_rnn import ScannedBiRNN, ScannedRNN\n",
    "\n",
    "import flax.linen as nn\n",
    "import jax\n",
    "import functools\n",
    "\n",
    "\n",
    "class ScannedRNN(nn.Module):\n",
    "    hidden_size: int = 128\n",
    "\n",
    "    @functools.partial(\n",
    "        nn.scan,\n",
    "        variable_broadcast=\"params\",\n",
    "        in_axes=0,\n",
    "        out_axes=0,\n",
    "        split_rngs={\"params\": False},\n",
    "    )\n",
    "    @nn.compact\n",
    "    def __call__(self, carry, x):\n",
    "        \"\"\"Applies the module.\"\"\"\n",
    "        rnn_state = carry\n",
    "        ins, resets = x\n",
    "        rnn_state = jnp.where(\n",
    "            resets[:, np.newaxis],\n",
    "            self.initialize_carry(*rnn_state.shape),\n",
    "            rnn_state,\n",
    "        )\n",
    "        new_rnn_state, y = nn.GRUCell(features=self.hidden_size)(rnn_state, ins)\n",
    "        return new_rnn_state, y\n",
    "\n",
    "    @staticmethod\n",
    "    def initialize_carry(n_envs, hidden_size):\n",
    "        # Use a dummy key since the default state init fn is just zeros.\n",
    "        cell = nn.GRUCell(features=hidden_size)\n",
    "        return cell.initialize_carry(jax.random.PRNGKey(0), (n_envs, hidden_size))\n",
    "\n",
    "\n",
    "\n",
    "class ScannedBiRNN(nn.Module):\n",
    "    hidden_size: int = 128\n",
    "\n",
    "    @nn.compact\n",
    "    def __call__(self, carry, inputs):\n",
    "        forward_carry, backward_carry = carry\n",
    "        forward_carry, forward_embs = ScannedRNN(self.hidden_size)(\n",
    "            forward_carry, inputs\n",
    "        )\n",
    "        feats, resets = inputs\n",
    "        backward_inputs = (feats[::-1], resets[::-1])\n",
    "        backward_carry, backward_embs = ScannedRNN(self.hidden_size)(\n",
    "            backward_carry, backward_inputs\n",
    "        )\n",
    "        carry = (forward_carry, backward_carry)\n",
    "        embs = jnp.concatenate([forward_embs, backward_embs], axis=-1)\n",
    "        return carry, embs\n",
    "\n",
    "    @staticmethod\n",
    "    def initialize_carry(n_envs, hidden_size):\n",
    "        return (\n",
    "            ScannedRNN.initialize_carry(n_envs, hidden_size),\n",
    "            ScannedRNN.initialize_carry(n_envs, hidden_size)\n",
    "        )"
   ]
  },
  {
   "cell_type": "code",
   "execution_count": 4,
   "metadata": {},
   "outputs": [],
   "source": [
    "import jax\n",
    "import numpy as np\n",
    "\n",
    "\n",
    "N_ACTIONS = env.action_space(env_params).n\n",
    "\n",
    "\n",
    "def sample_obs_modelling_batch(rng,\n",
    "                               noise_dim: int = 64,\n",
    "                               rollout_steps: int = 500,\n",
    "                               return_traj: bool = False):\n",
    "    rng, rollout_rng = jax.random.split(rng)\n",
    "    _, traj_batch, metrics = rollout_with_msgs(\n",
    "        env, env_params, pretrained_policy,\n",
    "        steps=rollout_steps,\n",
    "        rng=rollout_rng\n",
    "    )\n",
    "\n",
    "    n_msgs = env_params.grid_size * env_params.grid_size\n",
    "    actions = jax.nn.one_hot(traj_batch.action, N_ACTIONS)\n",
    "    msgs = jax.nn.one_hot(traj_batch.message, n_msgs)\n",
    "\n",
    "    *batch_shape, _ = traj_batch.obs.shape\n",
    "    noise = jax.random.normal(rng, (*batch_shape, noise_dim))\n",
    "    inputs = (actions, msgs, noise, traj_batch.obs, traj_batch.done)\n",
    "    if return_traj:\n",
    "        return inputs, metrics, traj_batch\n",
    "    return inputs, metrics"
   ]
  },
  {
   "cell_type": "code",
   "execution_count": 5,
   "metadata": {},
   "outputs": [],
   "source": [
    "inputs, _ = sample_obs_modelling_batch(jax.random.PRNGKey(0), rollout_steps=5)"
   ]
  },
  {
   "cell_type": "code",
   "execution_count": 6,
   "metadata": {},
   "outputs": [
    {
     "data": {
      "text/plain": [
       "(Array([1, 1, 4, 1], dtype=int32),\n",
       " Array([17, 17, 17, 17], dtype=int32),\n",
       " Array([False, False, False,  True], dtype=bool),\n",
       " Array([[[0, 4],\n",
       "         [1, 1]],\n",
       " \n",
       "        [[0, 3],\n",
       "         [1, 1]],\n",
       " \n",
       "        [[0, 2],\n",
       "         [1, 1]],\n",
       " \n",
       "        [[1, 2],\n",
       "         [1, 1]]], dtype=int32))"
      ]
     },
     "execution_count": 6,
     "metadata": {},
     "output_type": "execute_result"
    }
   ],
   "source": [
    "actions, msgs, noise, obs, dones = inputs\n",
    "T = 4\n",
    "actions[:T, 0].argmax(-1), msgs[:T, 0].argmax(-1), dones[:T, 0], obs[:T, 0].reshape(-1, 2, 2, 5).argmax(-1)"
   ]
  },
  {
   "cell_type": "code",
   "execution_count": 55,
   "metadata": {},
   "outputs": [],
   "source": [
    "import flax.linen as nn\n",
    "import jax\n",
    "import jax.numpy as jnp\n",
    "import numpy as np\n",
    "import functools\n",
    "\n",
    "\n",
    "class ObsModel(nn.Module):\n",
    "    obs_size: int\n",
    "    hidden_size: int = 128\n",
    "\n",
    "    @nn.compact\n",
    "    def __call__(self, inputs: tuple, train: bool=False):\n",
    "        actions, msgs, noise, obs, dones = inputs\n",
    "        feats = jnp.concatenate([actions, msgs, noise], axis=-1)\n",
    "\n",
    "        x = nn.Dense(self.hidden_size)(feats)\n",
    "        x = nn.BatchNorm(use_running_average=not train)(x)\n",
    "        x = nn.leaky_relu(x)\n",
    "\n",
    "        x = nn.Dense(self.hidden_size)(x)\n",
    "        x = nn.BatchNorm(use_running_average=not train)(x)\n",
    "        x = nn.leaky_relu(x)\n",
    "\n",
    "        _, n_envs, _ = x.shape\n",
    "        carry = ScannedBiRNN.initialize_carry(n_envs, self.hidden_size)\n",
    "        bi_rnn = ScannedBiRNN(self.hidden_size)\n",
    "        _, x = bi_rnn(carry, (x, dones))\n",
    "\n",
    "        x = nn.Dense(self.hidden_size)(x)\n",
    "        x = nn.BatchNorm(use_running_average=not train)(x)\n",
    "        x = nn.leaky_relu(x)\n",
    "\n",
    "        obs_preds = nn.Dense(self.obs_size)(x)\n",
    "        # obs_preds = nn.sigmoid(obs_preds)\n",
    "\n",
    "        *batch_shape, _ = obs_preds.shape\n",
    "        obs_preds_reshaped = obs_preds.reshape((*batch_shape, 2, 2, -1))\n",
    "        obs_preds = nn.softmax(obs_preds_reshaped).reshape(obs_preds.shape)\n",
    "\n",
    "        return obs_preds\n",
    "\n",
    "\n",
    "class Discriminator(nn.Module):\n",
    "    hidden_size: int = 128\n",
    "\n",
    "    @nn.compact\n",
    "    def __call__(self, inputs):\n",
    "        x, dones = inputs\n",
    "        x = nn.Dense(self.hidden_size)(x)\n",
    "        x = nn.leaky_relu(x)\n",
    "        x = nn.Dense(self.hidden_size)(x)\n",
    "        x = nn.leaky_relu(x)\n",
    "\n",
    "        _, n_envs, _ = x.shape\n",
    "        carry = ScannedBiRNN.initialize_carry(n_envs, self.hidden_size)\n",
    "        bi_rnn = ScannedBiRNN(self.hidden_size)\n",
    "        _, x = bi_rnn(carry, (x, dones))\n",
    "\n",
    "        x = nn.Dense(self.hidden_size)(x)\n",
    "        x = nn.leaky_relu(x)\n",
    "        x = nn.Dense(self.hidden_size)(x)\n",
    "        x = nn.leaky_relu(x)\n",
    "        y = nn.Dense(1)(x)\n",
    "        return y.squeeze()"
   ]
  },
  {
   "cell_type": "code",
   "execution_count": 56,
   "metadata": {},
   "outputs": [],
   "source": [
    "hidden_size = 128\n",
    "obs_space = env.observation_space(env_params)\n",
    "obs_size = obs_space.shape[0]\n",
    "discriminator = Discriminator(4 * hidden_size)\n",
    "obs_model = ObsModel(obs_size, 4 * hidden_size)\n",
    "\n",
    "inputs, _ = sample_obs_modelling_batch(jax.random.PRNGKey(0), rollout_steps=5)\n",
    "obs_model_vars = obs_model.init(jax.random.PRNGKey(0), inputs)"
   ]
  },
  {
   "cell_type": "code",
   "execution_count": 119,
   "metadata": {},
   "outputs": [],
   "source": [
    "hidden_size = 128\n",
    "obs_space = env.observation_space(env_params)\n",
    "obs_size = obs_space.shape[0]\n",
    "discriminator = Discriminator(4 * hidden_size)\n",
    "obs_model = ObsModel(obs_size, 4 * hidden_size)\n",
    "\n",
    "\n",
    "from typing import Any, Tuple, Callable\n",
    "from flax import core\n",
    "from flax import struct\n",
    "import optax\n",
    "from optax.losses import sigmoid_binary_cross_entropy\n",
    "\n",
    "from poclaps.train.losses import categorical_cross_entropy\n",
    "from poclaps.train.training_cb import TrainerCallback\n",
    "\n",
    "\n",
    "def create_discriminator_sample(obs_model_vars, batch_inputs):\n",
    "    # compute obs preds\n",
    "    actions, msgs, noise, obs, dones = batch_inputs\n",
    "    # n_envs, steps, obs_dim = obs.shape\n",
    "    # batch_size = steps * n_envs\n",
    "    obs_preds = obs_model.apply(obs_model_vars, batch_inputs)\n",
    "    # obs_preds = obs_preds.reshape((batch_size, obs_dim))\n",
    "    # obs_batch = obs.reshape((batch_size, obs_dim))\n",
    "    # obs_inputs = jnp.concatenate([obs_batch, obs_preds], axis=0)\n",
    "    real_inputs = (obs, dones)\n",
    "    fake_inputs = (obs_preds, dones)\n",
    "    inputs = (real_inputs, fake_inputs)\n",
    "\n",
    "    # compute inputs and labels\n",
    "    *batch_size, _ = obs.shape\n",
    "    real_labels = jnp.ones(batch_size)\n",
    "    fake_labels = jnp.zeros(batch_size)\n",
    "    labels = (real_labels, fake_labels)\n",
    "\n",
    "    return inputs, labels\n",
    "\n",
    "\n",
    "def compute_discriminator_loss(model_vars, inputs):\n",
    "    discriminator_vars, obs_model_vars = model_vars\n",
    "    discr_inputs, labels = create_discriminator_sample(obs_model_vars, inputs)\n",
    "\n",
    "    (real_inps, fake_inps) = discr_inputs\n",
    "    real_label_pred = discriminator.apply(discriminator_vars, real_inps)\n",
    "    fake_label_pred = discriminator.apply(discriminator_vars, fake_inps)\n",
    "    real_labels, fake_labels = labels\n",
    "    return (\n",
    "        sigmoid_binary_cross_entropy(real_label_pred, real_labels).mean() +\n",
    "        sigmoid_binary_cross_entropy(fake_label_pred, fake_labels).mean()\n",
    "    )\n",
    "\n",
    "\n",
    "def compute_adv_obs_model_loss(model_vars, inputs, adv_factor: float = 1.0):\n",
    "    discriminator_vars, obs_model_vars = model_vars\n",
    "\n",
    "    # # compute action preds loss\n",
    "    obs_preds, updates = obs_model.apply(\n",
    "        obs_model_vars, inputs, train=True,\n",
    "        mutable=['batch_stats']\n",
    "    )\n",
    "    pred_action_dist, _ = pretrained_policy(obs_preds)\n",
    "    actions, msgs, noise, obs, dones = inputs\n",
    "    act_pred_loss = categorical_cross_entropy(\n",
    "        pred_action_dist.logits, actions\n",
    "    ).mean()\n",
    "\n",
    "    # compute adversarial loss\n",
    "    discr_inputs = (obs_preds, dones)\n",
    "    discr_pred = discriminator.apply(\n",
    "        discriminator_vars, discr_inputs\n",
    "    )\n",
    "    discr_labels = jnp.ones_like(discr_pred)\n",
    "    adv_loss = sigmoid_binary_cross_entropy(\n",
    "        discr_pred, discr_labels\n",
    "    ).mean()\n",
    "\n",
    "    loss = act_pred_loss + adv_factor * adv_loss\n",
    "\n",
    "    return loss, updates['batch_stats']"
   ]
  },
  {
   "cell_type": "code",
   "execution_count": 120,
   "metadata": {},
   "outputs": [],
   "source": [
    "inputs, _ = sample_obs_modelling_batch(jax.random.PRNGKey(0), rollout_steps=5)\n",
    "obs_model_vars = obs_model.init(jax.random.PRNGKey(0), inputs)\n",
    "discr_inputs, discr_labels = create_discriminator_sample(obs_model_vars, inputs)\n",
    "real_inputs, fake_inputs = discr_inputs\n",
    "discriminator_vars = discriminator.init(jax.random.PRNGKey(0), real_inputs)"
   ]
  },
  {
   "cell_type": "code",
   "execution_count": 121,
   "metadata": {},
   "outputs": [
    {
     "data": {
      "text/plain": [
       "Array([[-0.03858063, -0.01554855, -0.01474997, -0.03223686],\n",
       "       [-0.03081314, -0.03662924, -0.05100304, -0.05855938],\n",
       "       [-0.04888095, -0.03152376,  0.00942264, -0.08796997],\n",
       "       [-0.07728817, -0.07077217,  0.02342237, -0.06025029],\n",
       "       [-0.05246701, -0.04197737,  0.02714791, -0.05074279]],      dtype=float32)"
      ]
     },
     "execution_count": 121,
     "metadata": {},
     "output_type": "execute_result"
    }
   ],
   "source": [
    "x, dones = real_inputs\n",
    "label_preds = discriminator.apply(discriminator_vars, real_inputs)\n",
    "label_preds"
   ]
  },
  {
   "cell_type": "code",
   "execution_count": 122,
   "metadata": {},
   "outputs": [],
   "source": [
    "class TrainState(struct.PyTreeNode):\n",
    "    step: int\n",
    "    rng: jnp.ndarray\n",
    "    tx: optax.GradientTransformation = struct.field(pytree_node=False)\n",
    "\n",
    "    # obs model\n",
    "    obs_model_apply_fn: Callable = struct.field(pytree_node=False)\n",
    "    obs_model_vars: core.FrozenDict[str, Any] = struct.field(pytree_node=True)\n",
    "    obs_model_opt_state: optax.OptState = struct.field(pytree_node=True)\n",
    "\n",
    "    # discriminator\n",
    "    discriminator_apply_fn: Callable = struct.field(pytree_node=False)\n",
    "    discriminator_vars: core.FrozenDict[str, Any] = struct.field(pytree_node=True)\n",
    "    discriminator_opt_state: optax.OptState = struct.field(pytree_node=True)\n",
    "\n",
    "\n",
    "class AdversarialObsModellingTrainer:\n",
    "\n",
    "    def __init__(self,\n",
    "                 obs_model: ObsModel,\n",
    "                 discriminator: Discriminator,\n",
    "                 config: dict,\n",
    "                 callback: TrainerCallback = None):\n",
    "        self.obs_model = obs_model\n",
    "        self.discriminator = discriminator\n",
    "        self.callback = callback or TrainerCallback()\n",
    "        self.config = config\n",
    "\n",
    "        if 'seed' not in config:\n",
    "            self.config['seed'] = 0\n",
    "        if 'learning_rate' not in config:\n",
    "            self.config['learning_rate'] = 1e-3\n",
    "        if 'discriminator_updates_per_step' not in config:\n",
    "            self.config['discriminator_updates_per_step'] = 1\n",
    "        if 'obs_model_updates_per_step' not in config:\n",
    "            self.config['obs_model_updates_per_step'] = 1\n",
    "        if 'rollout_steps' not in config:\n",
    "            self.config['rollout_steps'] = 100\n",
    "\n",
    "    def update_obs_model(self, tx, opt_state, model_vars, inputs):\n",
    "        _, obs_model_vars = model_vars\n",
    "        grad_fn = jax.value_and_grad(compute_adv_obs_model_loss, has_aux=True)\n",
    "        (loss, batch_stats), (_, grad) = grad_fn(model_vars, inputs)\n",
    "        updates, new_opt_state = tx.update(grad, opt_state)\n",
    "        new_params = optax.apply_updates(obs_model_vars['params'], updates['params'])\n",
    "        new_variables = {'params': new_params, 'batch_stats': batch_stats}\n",
    "        return loss, new_variables, new_opt_state\n",
    "\n",
    "    def update_discriminator(self, tx, opt_state, model_vars, inputs):\n",
    "        discriminator_vars, _ = model_vars\n",
    "        grad_fn = jax.value_and_grad(compute_discriminator_loss)\n",
    "        loss, (grad, _) = grad_fn(model_vars, inputs)\n",
    "        updates, new_opt_state = tx.update(grad, opt_state)\n",
    "        new_variables = optax.apply_updates(discriminator_vars, updates)\n",
    "        return loss, new_variables, new_opt_state\n",
    "\n",
    "    def train_step(self, train_state: TrainState) -> TrainState:\n",
    "        rng, _rng = jax.random.split(train_state.rng)\n",
    "        inputs, metrics = sample_obs_modelling_batch(_rng)\n",
    "\n",
    "        metrics = {\n",
    "            f'sample/{k}': v for k, v in metrics.items()\n",
    "        }\n",
    "\n",
    "        def run_obs_model_substep(substep_state, _):\n",
    "            obs_model_vars, opt_state = substep_state\n",
    "            model_vars = (train_state.discriminator_vars, obs_model_vars)\n",
    "            loss, new_params, new_opt_state = self.update_obs_model(\n",
    "                train_state.tx, opt_state, model_vars, inputs\n",
    "            )\n",
    "            return (new_params, new_opt_state), loss\n",
    "        \n",
    "        (new_obs_model_vars, new_obs_model_opt_state), obs_model_loss = jax.lax.scan(\n",
    "            run_obs_model_substep,\n",
    "            (train_state.obs_model_vars, train_state.obs_model_opt_state),\n",
    "            None,\n",
    "            self.config['obs_model_updates_per_step']\n",
    "        )\n",
    "        metrics['train/obs_model_loss'] = obs_model_loss.mean()\n",
    "\n",
    "        def run_discriminator_substep(substep_state, _):\n",
    "            discr_vars, opt_state = substep_state\n",
    "            model_vars = (discr_vars, train_state.obs_model_vars)\n",
    "            loss, new_discr_vars, new_opt_state = self.update_discriminator(\n",
    "                train_state.tx, opt_state, model_vars, inputs\n",
    "            )\n",
    "            return (new_discr_vars, new_opt_state), loss\n",
    "\n",
    "        (new_discr_vars, new_discr_opt_state), discr_loss = jax.lax.scan(\n",
    "            run_discriminator_substep,\n",
    "            (train_state.discriminator_vars, train_state.discriminator_opt_state),\n",
    "            None,\n",
    "            self.config['discriminator_updates_per_step']\n",
    "        )\n",
    "        metrics['train/discriminator_loss'] = discr_loss.mean()\n",
    "\n",
    "        new_params = (new_discr_vars, new_obs_model_vars)\n",
    "        metrics.update(self.compute_eval_metrics(new_params, inputs))\n",
    "\n",
    "        jax.experimental.io_callback(\n",
    "            self.callback.on_iteration_end, None,\n",
    "            train_state.step, train_state, metrics\n",
    "        )\n",
    "\n",
    "        train_state = train_state.replace(\n",
    "            rng=rng,\n",
    "            step=train_state.step + 1,\n",
    "            obs_model_vars=new_obs_model_vars,\n",
    "            obs_model_opt_state=new_obs_model_opt_state,\n",
    "            discriminator_vars=new_discr_vars,\n",
    "            discriminator_opt_state=new_discr_opt_state\n",
    "        )\n",
    "\n",
    "        return train_state, metrics\n",
    "\n",
    "    def compute_eval_metrics(self, model_vars: tuple, inputs: tuple) -> dict:\n",
    "        eval_metrics = {}\n",
    "\n",
    "        discr_vars, obs_model_vars = model_vars\n",
    "        \n",
    "        obs_preds = self.obs_model.apply(obs_model_vars, inputs)\n",
    "        mean_var = jnp.mean(jnp.var(obs_preds, axis=0))\n",
    "        eval_metrics['eval/obs_pred_var'] = mean_var\n",
    "\n",
    "        actions, msgs, noise, obs, dones = inputs\n",
    "        eval_metrics['eval/obs_pred_err'] = jnp.square(obs_preds - obs).mean()\n",
    "\n",
    "        pred_action_dist, _ = pretrained_policy(obs_preds)\n",
    "        eval_metrics['eval/action_pred_acc'] = (\n",
    "            (pred_action_dist.probs.argmax(axis=-1) == actions.argmax(axis=-1)).mean()\n",
    "        )\n",
    "\n",
    "        (_, fake_inputs), (_, fake_labels) = create_discriminator_sample(obs_model_vars, inputs)\n",
    "        label_pred = self.discriminator.apply(discr_vars, fake_inputs)\n",
    "        eval_metrics['eval/discr_acc'] = (\n",
    "            ((label_pred > 0) == fake_labels).mean()\n",
    "        )\n",
    "\n",
    "        return eval_metrics\n",
    "\n",
    "    def create_init_state(self) -> TrainState:\n",
    "        optimizer = optax.adam(self.config['learning_rate'])\n",
    "        rng = jax.random.PRNGKey(self.config['seed'])\n",
    "\n",
    "        rng, _rng = jax.random.split(rng)\n",
    "        inputs, _ = sample_obs_modelling_batch(\n",
    "            _rng, rollout_steps=self.config['rollout_steps']\n",
    "        )\n",
    "\n",
    "        rng, _rng = jax.random.split(rng)\n",
    "        obs_model_vars = self.obs_model.init(_rng, inputs, train=False)\n",
    "        obs_model_opt_state = optimizer.init(obs_model_vars)\n",
    "\n",
    "        rng, _rng = jax.random.split(rng)\n",
    "        (discr_inp, _), *_ = create_discriminator_sample(obs_model_vars, inputs)\n",
    "        discr_vars = self.discriminator.init(_rng, discr_inp)\n",
    "        discr_opt_state = optimizer.init(discr_vars)\n",
    "\n",
    "        return TrainState(\n",
    "            step=0,\n",
    "            rng=rng,\n",
    "            tx=optimizer,\n",
    "            obs_model_apply_fn=self.obs_model.apply,\n",
    "            obs_model_vars=obs_model_vars,\n",
    "            obs_model_opt_state=obs_model_opt_state,\n",
    "            discriminator_apply_fn=self.discriminator.apply,\n",
    "            discriminator_vars=discr_vars,\n",
    "            discriminator_opt_state=discr_opt_state,\n",
    "        )\n",
    "\n",
    "    def train(self, n_steps: int) -> Tuple[TrainState, dict]:\n",
    "\n",
    "        try:\n",
    "            init_train_state = self.create_init_state()\n",
    "            self.callback.on_train_begin(self.config)\n",
    "            train_results = jax.lax.scan(\n",
    "                jax.jit(lambda s, _: self.train_step(s)),\n",
    "                init_train_state, None, n_steps\n",
    "            )\n",
    "        except KeyboardInterrupt:\n",
    "            print('Training interrupted.')\n",
    "        finally:\n",
    "            self.callback.on_train_end(None)\n",
    "\n",
    "        return train_results"
   ]
  },
  {
   "cell_type": "code",
   "execution_count": 123,
   "metadata": {},
   "outputs": [],
   "source": [
    "from poclaps.train.wandb_cb import WandbCallback\n",
    "\n",
    "\n",
    "cb = WandbCallback(['OBS-GAN'])\n",
    "config = {\n",
    "    'seed': 0,\n",
    "    'learning_rate': 1e-4,\n",
    "    'discriminator_updates_per_step': 1,\n",
    "    'obs_model_updates_per_step': 1,\n",
    "    'wandb_entity': 'drcope',\n",
    "    'wandb_project': 'poclaps-obs-modelling',\n",
    "    'wandb_mode': 'online',\n",
    "    'rollout_steps': 256\n",
    "}\n",
    "aom_trainer = AdversarialObsModellingTrainer(obs_model, discriminator, config, cb)"
   ]
  },
  {
   "cell_type": "code",
   "execution_count": 124,
   "metadata": {},
   "outputs": [
    {
     "name": "stdout",
     "output_type": "stream",
     "text": [
      "Logged in to wandb using secrets/wandb_api_key.\n"
     ]
    },
    {
     "data": {
      "text/html": [
       "wandb version 0.17.3 is available!  To upgrade, please run:\n",
       " $ pip install wandb --upgrade"
      ],
      "text/plain": [
       "<IPython.core.display.HTML object>"
      ]
     },
     "metadata": {},
     "output_type": "display_data"
    },
    {
     "data": {
      "text/html": [
       "Tracking run with wandb version 0.16.1"
      ],
      "text/plain": [
       "<IPython.core.display.HTML object>"
      ]
     },
     "metadata": {},
     "output_type": "display_data"
    },
    {
     "data": {
      "text/html": [
       "Run data is saved locally in <code>/nas/ucb/dylancope/poclaps/wandb/run-20240702_181713-dsgqs2qa</code>"
      ],
      "text/plain": [
       "<IPython.core.display.HTML object>"
      ]
     },
     "metadata": {},
     "output_type": "display_data"
    },
    {
     "data": {
      "text/html": [
       "Syncing run <strong><a href='https://wandb.ai/drcope/poclaps-obs-modelling/runs/dsgqs2qa' target=\"_blank\">decent-hill-34</a></strong> to <a href='https://wandb.ai/drcope/poclaps-obs-modelling' target=\"_blank\">Weights & Biases</a> (<a href='https://wandb.me/run' target=\"_blank\">docs</a>)<br/>"
      ],
      "text/plain": [
       "<IPython.core.display.HTML object>"
      ]
     },
     "metadata": {},
     "output_type": "display_data"
    },
    {
     "data": {
      "text/html": [
       " View project at <a href='https://wandb.ai/drcope/poclaps-obs-modelling' target=\"_blank\">https://wandb.ai/drcope/poclaps-obs-modelling</a>"
      ],
      "text/plain": [
       "<IPython.core.display.HTML object>"
      ]
     },
     "metadata": {},
     "output_type": "display_data"
    },
    {
     "data": {
      "text/html": [
       " View run at <a href='https://wandb.ai/drcope/poclaps-obs-modelling/runs/dsgqs2qa' target=\"_blank\">https://wandb.ai/drcope/poclaps-obs-modelling/runs/dsgqs2qa</a>"
      ],
      "text/plain": [
       "<IPython.core.display.HTML object>"
      ]
     },
     "metadata": {},
     "output_type": "display_data"
    },
    {
     "name": "stderr",
     "output_type": "stream",
     "text": [
      "wandb: WARNING Source type is set to 'repo' but some required information is missing from the environment. A job will not be created from this run. See https://docs.wandb.ai/guides/launch/create-job\n"
     ]
    },
    {
     "data": {
      "application/vnd.jupyter.widget-view+json": {
       "model_id": "79401e845c774ffdaf5cd533d0c4df20",
       "version_major": 2,
       "version_minor": 0
      },
      "text/plain": [
       "VBox(children=(Label(value='0.015 MB of 0.015 MB uploaded\\r'), FloatProgress(value=1.0, max=1.0)))"
      ]
     },
     "metadata": {},
     "output_type": "display_data"
    },
    {
     "data": {
      "text/html": [
       "<style>\n",
       "    table.wandb td:nth-child(1) { padding: 0 10px; text-align: left ; width: auto;} td:nth-child(2) {text-align: left ; width: 100%}\n",
       "    .wandb-row { display: flex; flex-direction: row; flex-wrap: wrap; justify-content: flex-start; width: 100% }\n",
       "    .wandb-col { display: flex; flex-direction: column; flex-basis: 100%; flex: 1; padding: 10px; }\n",
       "    </style>\n",
       "<div class=\"wandb-row\"><div class=\"wandb-col\"><h3>Run history:</h3><br/><table class=\"wandb\"><tr><td>eval/action_pred_acc</td><td>▂▃▄▁▃▅▄▄▄▃▂▁▂▂▂▂▂▃▅▆▆▆▆▅███▆█▇▇█████████</td></tr><tr><td>eval/discr_acc</td><td>████▇▇▇███▁█████▆███████████████████████</td></tr><tr><td>eval/obs_pred_err</td><td>▁▁▄▅▆▆▇▆▆▇▇▇████▇▇▇▇▆▆▇▇▇█▇▇▆▆▆▆▆▇▇▇████</td></tr><tr><td>eval/obs_pred_var</td><td>▁▁▁▂▄▄▄▅▆▅▆▆▇▇▇▆▆▆▄▅▆▇▇▇▇██▅▅▄▅▆▆▇▇█████</td></tr><tr><td>sample/mean_episode_len</td><td>▃▄▄▅▃▁▇▅▃▃▄▄▅▅█▃▅▁▂▄▄▂▄▆█▃▅▂▅▆▅▄▆▅▃▄▅▅▄▄</td></tr><tr><td>sample/mean_reward</td><td>▆▅▅▄▆█▂▄▆▆▅▅▄▄▁▆▄█▇▅▅▇▅▃▁▆▄▇▄▃▄▅▃▄▆▅▄▄▅▅</td></tr><tr><td>sample/n_episodes</td><td>▆▅▅▄▆█▂▄▅▅▅▅▄▄▁▆▄█▇▄▅▇▅▃▁▆▄▆▄▃▄▅▃▄▆▅▄▄▅▄</td></tr><tr><td>train/discriminator_loss</td><td>█▂▁▁▁▁▁▁▁▁▂▁▁▁▁▁▁▁▁▁▁▁▁▁▁▁▁▁▁▁▁▁▁▁▁▁▁▁▁▁</td></tr><tr><td>train/obs_model_loss</td><td>▂▂▂▃▃▃▃▇▅▆▆▄▆▇▇█▇▇▁▂▂▄▇▆▆▆▆▂▂▁▁▁▂▁▃▆▇█▇█</td></tr></table><br/></div><div class=\"wandb-col\"><h3>Run summary:</h3><br/><table class=\"wandb\"><tr><td>eval/action_pred_acc</td><td>0.9295</td></tr><tr><td>eval/discr_acc</td><td>1.0</td></tr><tr><td>eval/obs_pred_err</td><td>0.29331</td></tr><tr><td>eval/obs_pred_var</td><td>0.13108</td></tr><tr><td>sample/mean_episode_len</td><td>3.5212</td></tr><tr><td>sample/mean_reward</td><td>-1.5212</td></tr><tr><td>sample/n_episodes</td><td>566</td></tr><tr><td>train/discriminator_loss</td><td>0.00016</td></tr><tr><td>train/obs_model_loss</td><td>14.34692</td></tr></table><br/></div></div>"
      ],
      "text/plain": [
       "<IPython.core.display.HTML object>"
      ]
     },
     "metadata": {},
     "output_type": "display_data"
    },
    {
     "data": {
      "text/html": [
       " View run <strong style=\"color:#cdcd00\">decent-hill-34</strong> at: <a href='https://wandb.ai/drcope/poclaps-obs-modelling/runs/dsgqs2qa' target=\"_blank\">https://wandb.ai/drcope/poclaps-obs-modelling/runs/dsgqs2qa</a><br/>Synced 5 W&B file(s), 0 media file(s), 0 artifact file(s) and 0 other file(s)"
      ],
      "text/plain": [
       "<IPython.core.display.HTML object>"
      ]
     },
     "metadata": {},
     "output_type": "display_data"
    },
    {
     "data": {
      "text/html": [
       "Find logs at: <code>./wandb/run-20240702_181713-dsgqs2qa/logs</code>"
      ],
      "text/plain": [
       "<IPython.core.display.HTML object>"
      ]
     },
     "metadata": {},
     "output_type": "display_data"
    }
   ],
   "source": [
    "train_state, metrics = aom_trainer.train(1000)"
   ]
  },
  {
   "cell_type": "code",
   "execution_count": 209,
   "metadata": {},
   "outputs": [
    {
     "data": {
      "image/png": "[encoded data removed]",
      "text/plain": [
       "<Figure size 1400x400 with 3 Axes>"
      ]
     },
     "metadata": {},
     "output_type": "display_data"
    }
   ],
   "source": [
    "import matplotlib.pyplot as plt\n",
    "import seaborn as sns\n",
    "import pandas as pd\n",
    "\n",
    "sns.set_theme()\n",
    "\n",
    "_, (ax1, ax2, ax3) = plt.subplots(1, 3, figsize=(14, 4))\n",
    "\n",
    "df = pd.DataFrame({\n",
    "    'discriminator_loss': metrics['train/discriminator_loss'],\n",
    "    'obs_model_loss': metrics['train/obs_model_loss'],\n",
    "    'action_acc': metrics['eval/action_pred_acc'],\n",
    "    'step': np.arange(metrics['train/discriminator_loss'].size)\n",
    "})\n",
    "\n",
    "sns.lineplot(df, x='step', y='discriminator_loss', ax=ax1)\n",
    "ax1.set_title('Discriminator Loss')\n",
    "ax1.set_ylabel('Loss')\n",
    "ax1.set_xlabel('Training Step')\n",
    "\n",
    "sns.lineplot(df, x='step', y='obs_model_loss', ax=ax2)\n",
    "ax2.set_title('Observation Model Loss')\n",
    "ax2.set_ylabel('Loss')\n",
    "ax2.set_xlabel('Training Step')\n",
    "\n",
    "sns.lineplot(df, x='step', y='action_acc', ax=ax3)\n",
    "ax3.set_title('Action Prediction Accuracy')\n",
    "ax3.set_ylabel('Accuracy')\n",
    "ax3.set_xlabel('Training Step')\n",
    "\n",
    "plt.tight_layout()\n",
    "plt.show()"
   ]
  },
  {
   "cell_type": "code",
   "execution_count": 125,
   "metadata": {},
   "outputs": [
    {
     "data": {
      "text/plain": [
       "(Array([1, 1, 4, 1, 1], dtype=int32), Array([1, 1, 4, 1, 1], dtype=int32))"
      ]
     },
     "execution_count": 125,
     "metadata": {},
     "output_type": "execute_result"
    }
   ],
   "source": [
    "inputs, _ = sample_obs_modelling_batch(jax.random.PRNGKey(0))\n",
    "obs_preds = obs_model.apply(train_state.obs_model_vars, inputs).round(2)\n",
    "\n",
    "actions, msgs, noise, obs, dones = inputs\n",
    "action_preds = pretrained_policy(obs_preds)[0].probs.argmax(-1)\n",
    "action_preds[:5, 0], actions[:5, 0].argmax(-1)"
   ]
  },
  {
   "cell_type": "code",
   "execution_count": 145,
   "metadata": {},
   "outputs": [
    {
     "data": {
      "text/plain": [
       "Array([[[0, 4],\n",
       "        [1, 1]],\n",
       "\n",
       "       [[0, 3],\n",
       "        [1, 1]],\n",
       "\n",
       "       [[0, 2],\n",
       "        [1, 1]],\n",
       "\n",
       "       [[1, 2],\n",
       "        [1, 1]],\n",
       "\n",
       "       [[4, 3],\n",
       "        [4, 2]]], dtype=int32)"
      ]
     },
     "execution_count": 145,
     "metadata": {},
     "output_type": "execute_result"
    }
   ],
   "source": [
    "obs.reshape((-1, 4, 2, 2, 5))[:5, 0].argmax(-1)"
   ]
  },
  {
   "cell_type": "code",
   "execution_count": 126,
   "metadata": {},
   "outputs": [
    {
     "data": {
      "text/plain": [
       "(Array([[0, 1],\n",
       "        [0, 1],\n",
       "        [0, 1],\n",
       "        [1, 1],\n",
       "        [4, 4]], dtype=int32),\n",
       " Array([[2, 0],\n",
       "        [3, 1],\n",
       "        [1, 1],\n",
       "        [2, 0],\n",
       "        [2, 0]], dtype=int32),\n",
       " Array([False, False, False,  True,  True], dtype=bool))"
      ]
     },
     "execution_count": 126,
     "metadata": {},
     "output_type": "execute_result"
    }
   ],
   "source": [
    "env_states = obs.reshape((-1, 4, 2, 2, 5)).argmax(-1)\n",
    "env_state_preds = obs_preds.reshape((-1, 4, 2, 2, 5)).argmax(-1)\n",
    "\n",
    "agent_pos = env_states[:, :, :, 0]\n",
    "goal_pos = env_states[:, :, :, 1]\n",
    "\n",
    "agent_pos_pred = env_state_preds[:, :, :, 0]\n",
    "goal_pos_pred = env_state_preds[:, :, :, 1]\n",
    "\n",
    "agent_pos[:5, 0], goal_pos_pred[:5, 0], dones[:5, 0]"
   ]
  },
  {
   "cell_type": "code",
   "execution_count": 148,
   "metadata": {},
   "outputs": [
    {
     "data": {
      "text/plain": [
       "Array([[0, 1],\n",
       "       [2, 1],\n",
       "       [2, 3],\n",
       "       [0, 1]], dtype=int32)"
      ]
     },
     "execution_count": 148,
     "metadata": {},
     "output_type": "execute_result"
    }
   ],
   "source": [
    "agent_pos_pred[:4, 0]"
   ]
  },
  {
   "cell_type": "code",
   "execution_count": 135,
   "metadata": {},
   "outputs": [
    {
     "data": {
      "text/plain": [
       "(Array([[4, 1],\n",
       "        [3, 1],\n",
       "        [2, 1]], dtype=int32),\n",
       " Array([[2, 0],\n",
       "        [3, 1],\n",
       "        [1, 1]], dtype=int32))"
      ]
     },
     "execution_count": 135,
     "metadata": {},
     "output_type": "execute_result"
    }
   ],
   "source": [
    "goal_pos[:3, 0], goal_pos_pred[:3, 0]"
   ]
  },
  {
   "cell_type": "code",
   "execution_count": 150,
   "metadata": {},
   "outputs": [],
   "source": [
    "from typing import Iterable\n",
    "from poclaps.simple_gridworld_game import stringify_grid\n",
    "\n",
    "\n",
    "def format_side_by_side(strings: Iterable[str]) -> str:\n",
    "    \"\"\"\n",
    "    Format strings side by side. Assumes all strings have the same number of\n",
    "    lines and each line has the same number of characters.\n",
    "    \"\"\"\n",
    "    return '\\n'.join([\n",
    "        '\\t'.join(lines)\n",
    "        for lines in zip(*[g.split('\\n') for g in strings])\n",
    "    ])\n",
    "\n",
    "\n",
    "def print_episode(goals, agent_pos):\n",
    "    grid_strings = []\n",
    "\n",
    "    for g, p in zip(goals, agent_pos):\n",
    "        grid_str = stringify_grid(env_params.grid_size, {\n",
    "            tuple(p.tolist()): 'X', tuple(g.tolist()): 'G'\n",
    "        })\n",
    "        grid_strings.append(grid_str)\n",
    "\n",
    "    print(format_side_by_side(grid_strings))"
   ]
  },
  {
   "cell_type": "code",
   "execution_count": 178,
   "metadata": {},
   "outputs": [
    {
     "data": {
      "text/plain": [
       "Array([False, False, False,  True,  True], dtype=bool)"
      ]
     },
     "execution_count": 178,
     "metadata": {},
     "output_type": "execute_result"
    }
   ],
   "source": [
    "dones[:5, 0]"
   ]
  },
  {
   "cell_type": "code",
   "execution_count": 184,
   "metadata": {},
   "outputs": [
    {
     "data": {
      "text/plain": [
       "(1, 4, 2, 2, 5)"
      ]
     },
     "execution_count": 184,
     "metadata": {},
     "output_type": "execute_result"
    }
   ],
   "source": [
    "obs[:T, 0].reshape((-1, 4, 2, 2, 5)).shape"
   ]
  },
  {
   "cell_type": "code",
   "execution_count": 202,
   "metadata": {},
   "outputs": [],
   "source": [
    "T = 4\n",
    "ep_inputs = (actions[:T, :1], msgs[:T, :1], noise[:T, :1], obs[:T, :1], dones[:T, :1] * False)\n",
    "ep_obs_preds = obs_model.apply(train_state.obs_model_vars, ep_inputs)\n",
    "\n",
    "\n",
    "env_states = obs[:T, 0].reshape((-1, 4, 2, 2, 5)).argmax(-1)\n",
    "env_state_preds = ep_obs_preds.reshape((-1, 4, 2, 2, 5)).argmax(-1)\n",
    "\n",
    "agent_pos = env_states[0, :, 0]\n",
    "goal_pos = env_states[0, :, 1]\n",
    "\n",
    "agent_pos_pred = env_state_preds[0, :, 0]\n",
    "goal_pos_pred = env_state_preds[0, :, 1]"
   ]
  },
  {
   "cell_type": "code",
   "execution_count": 203,
   "metadata": {},
   "outputs": [
    {
     "name": "stdout",
     "output_type": "stream",
     "text": [
      "True episode:\n",
      "---------------------\t---------------------\t---------------------\t---------------------\n",
      "|   |   |   |   |   |\t|   |   |   |   |   |\t|   |   |   |   |   |\t|   |   |   |   |   |\n",
      "---------------------\t---------------------\t---------------------\t---------------------\n",
      "|   | G |   |   |   |\t|   | G |   |   |   |\t|   | G |   |   |   |\t|   | G |   |   |   |\n",
      "---------------------\t---------------------\t---------------------\t---------------------\n",
      "|   |   |   |   |   |\t|   |   |   |   |   |\t| X |   |   |   |   |\t|   | X |   |   |   |\n",
      "---------------------\t---------------------\t---------------------\t---------------------\n",
      "|   |   |   |   |   |\t| X |   |   |   |   |\t|   |   |   |   |   |\t|   |   |   |   |   |\n",
      "---------------------\t---------------------\t---------------------\t---------------------\n",
      "| X |   |   |   |   |\t|   |   |   |   |   |\t|   |   |   |   |   |\t|   |   |   |   |   |\n",
      "---------------------\t---------------------\t---------------------\t---------------------\n",
      "\t\t\t\n"
     ]
    }
   ],
   "source": [
    "print('True episode:')\n",
    "print_episode(goal_pos, agent_pos)"
   ]
  },
  {
   "cell_type": "code",
   "execution_count": 204,
   "metadata": {},
   "outputs": [
    {
     "name": "stdout",
     "output_type": "stream",
     "text": [
      "Predicted episode:\n",
      "---------------------\t---------------------\t---------------------\t---------------------\n",
      "|   | G |   |   |   |\t|   |   |   |   |   |\t|   |   |   |   |   |\t|   |   |   |   |   |\n",
      "---------------------\t---------------------\t---------------------\t---------------------\n",
      "|   |   |   |   |   |\t|   | G |   |   |   |\t|   |   | X | G |   |\t|   | G |   |   |   |\n",
      "---------------------\t---------------------\t---------------------\t---------------------\n",
      "| X |   |   |   |   |\t|   |   |   |   |   |\t|   |   |   |   |   |\t|   |   |   |   |   |\n",
      "---------------------\t---------------------\t---------------------\t---------------------\n",
      "|   |   |   |   |   |\t|   |   | X |   |   |\t|   |   |   |   |   |\t|   |   | X |   |   |\n",
      "---------------------\t---------------------\t---------------------\t---------------------\n",
      "|   |   |   |   |   |\t|   |   |   |   |   |\t|   |   |   |   |   |\t|   |   |   |   |   |\n",
      "---------------------\t---------------------\t---------------------\t---------------------\n",
      "\t\t\t\n"
     ]
    }
   ],
   "source": [
    "print('Predicted episode:')\n",
    "print_episode(goal_pos_pred, agent_pos_pred)"
   ]
  },
  {
   "cell_type": "code",
   "execution_count": null,
   "metadata": {},
   "outputs": [],
   "source": []
  }
 ],
 "metadata": {
  "kernelspec": {
   "display_name": "base",
   "language": "python",
   "name": "python3"
  },
  "language_info": {
   "codemirror_mode": {
    "name": "ipython",
    "version": 3
   },
   "file_extension": ".py",
   "mimetype": "text/x-python",
   "name": "python",
   "nbconvert_exporter": "python",
   "pygments_lexer": "ipython3",
   "version": "3.11.5"
  }
 },
 "nbformat": 4,
 "nbformat_minor": 2
}
