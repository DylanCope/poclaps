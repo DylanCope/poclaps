{
 "cells": [
  {
   "cell_type": "code",
   "execution_count": 3,
   "metadata": {},
   "outputs": [],
   "source": [
    "# from poclaps import environments\n",
    "\n",
    "# game, params = environments.make('SimpleGridWorld-v0')"
   ]
  },
  {
   "cell_type": "code",
   "execution_count": 4,
   "metadata": {},
   "outputs": [],
   "source": [
    "# import jax\n",
    "# key = jax.random.PRNGKey(1)\n",
    "# obs, state = game.reset(key, params)\n",
    "# print(game.to_string(state, params))"
   ]
  },
  {
   "cell_type": "code",
   "execution_count": 5,
   "metadata": {},
   "outputs": [],
   "source": [
    "# key = jax.random.PRNGKey(0)\n",
    "# from poclaps.simple_gridworld_game import GridAction\n",
    "# next_obs, next_state, reward, done, info = game.step_env(key, state, GridAction.UP, params)\n",
    "# print(game.to_string(next_state, params))"
   ]
  },
  {
   "cell_type": "code",
   "execution_count": 6,
   "metadata": {},
   "outputs": [],
   "source": [
    "import numpy as np\n",
    "import pandas as pd\n",
    "import matplotlib.pyplot as plt\n",
    "import seaborn as sns"
   ]
  },
  {
   "cell_type": "code",
   "execution_count": 7,
   "metadata": {},
   "outputs": [],
   "source": [
    "def print_grid(grid_size: int, symbols_on_grid: dict):\n",
    "    print(\"-\" * (grid_size * 4 + 1))\n",
    "    for y in range(grid_size):\n",
    "        print(\"|\", end=\"\")\n",
    "        for x in range(grid_size):\n",
    "            symbol = symbols_on_grid.get((x, y), \" \")\n",
    "            print(f\" {symbol} |\", end=\"\")\n",
    "        print(\"\\n\" + \"-\" * (grid_size * 4 + 1))"
   ]
  },
  {
   "cell_type": "code",
   "execution_count": 8,
   "metadata": {},
   "outputs": [],
   "source": [
    "class GridWorldGame:\n",
    "\n",
    "    def __init__(self, grid_size: int):\n",
    "        self.grid_size = grid_size\n",
    "        self.goal_pos = None\n",
    "        self.agent_pos = None\n",
    "\n",
    "    def reset(self):\n",
    "        self.goal_pos = np.random.randint(0, self.grid_size, size=2)\n",
    "        self.agent_pos = np.random.randint(0, self.grid_size, size=2)\n",
    "\n",
    "    def step(self, action: int):\n",
    "        if action == 0:\n",
    "            self.agent_pos[0] = np.clip(self.agent_pos[0] - 1, 0, self.grid_size - 1)\n",
    "        elif action == 1:\n",
    "            self.agent_pos[0] = np.clip(self.agent_pos[0] + 1, 0, self.grid_size - 1)\n",
    "        elif action == 2:\n",
    "            self.agent_pos[1] = np.clip(self.agent_pos[1] - 1, 0, self.grid_size - 1)\n",
    "        elif action == 3:\n",
    "            self.agent_pos[1] = np.clip(self.agent_pos[1] + 1, 0, self.grid_size - 1)\n",
    "\n",
    "        reward = 0\n",
    "        done = np.all(self.agent_pos == self.goal_pos)\n",
    "\n",
    "        if done:\n",
    "            reward = 1\n",
    "        elif np.any(self.agent_pos < 0) or np.any(self.agent_pos >= self.grid_size):\n",
    "            reward = -1\n",
    "\n",
    "        return reward, done\n",
    "\n",
    "    def print(self):\n",
    "        symbols_on_grid = {\n",
    "            tuple(self.goal_pos): \"G\",\n",
    "            tuple(self.agent_pos): \"A\"\n",
    "        }\n",
    "        print_grid(self.grid_size, symbols_on_grid)"
   ]
  },
  {
   "cell_type": "code",
   "execution_count": 15,
   "metadata": {},
   "outputs": [],
   "source": [
    "def optimal_policy_1(game) -> int:\n",
    "    \"\"\" Implements an optimal-policy for the game \"\"\"\n",
    "    if game.agent_pos[0] < game.goal_pos[0]:\n",
    "        return 1\n",
    "    elif game.agent_pos[0] > game.goal_pos[0]:\n",
    "        return 0\n",
    "    elif game.agent_pos[1] < game.goal_pos[1]:\n",
    "        return 3\n",
    "    elif game.agent_pos[1] > game.goal_pos[1]:\n",
    "        return 2\n",
    "\n",
    "def optimal_policy_2(game) -> int:\n",
    "    \"\"\" Implements an optimal-policy for the game \"\"\"\n",
    "    if game.agent_pos[1] < game.goal_pos[1]:\n",
    "        return 3\n",
    "    elif game.agent_pos[1] > game.goal_pos[1]:\n",
    "        return 2\n",
    "    elif game.agent_pos[0] < game.goal_pos[0]:\n",
    "        return 1\n",
    "    elif game.agent_pos[0] > game.goal_pos[0]:\n",
    "        return 0\n",
    "\n",
    "import random\n",
    "\n",
    "def stochastic_optimal_policy(game, seed: int) -> int:\n",
    "    random.seed(hash((seed, *game.agent_pos, *game.goal_pos)))\n",
    "    if random.random() < 0.5:\n",
    "        return optimal_policy_1(game)\n",
    "    else:\n",
    "        return optimal_policy_2(game)"
   ]
  },
  {
   "cell_type": "code",
   "execution_count": 17,
   "metadata": {},
   "outputs": [
    {
     "name": "stdout",
     "output_type": "stream",
     "text": [
      "-----------------\n",
      "| A |   |   |   |\n",
      "-----------------\n",
      "|   |   | G |   |\n",
      "-----------------\n",
      "|   |   |   |   |\n",
      "-----------------\n",
      "|   |   |   |   |\n",
      "-----------------\n",
      "Taking action 1\n",
      "Reward: 0, Done: False\n",
      "-----------------\n",
      "|   | A |   |   |\n",
      "-----------------\n",
      "|   |   | G |   |\n",
      "-----------------\n",
      "|   |   |   |   |\n",
      "-----------------\n",
      "|   |   |   |   |\n",
      "-----------------\n",
      "Taking action 1\n",
      "Reward: 0, Done: False\n",
      "-----------------\n",
      "|   |   | A |   |\n",
      "-----------------\n",
      "|   |   | G |   |\n",
      "-----------------\n",
      "|   |   |   |   |\n",
      "-----------------\n",
      "|   |   |   |   |\n",
      "-----------------\n",
      "Taking action 3\n",
      "Reward: 1, Done: True\n",
      "-----------------\n",
      "|   |   |   |   |\n",
      "-----------------\n",
      "|   |   | A |   |\n",
      "-----------------\n",
      "|   |   |   |   |\n",
      "-----------------\n",
      "|   |   |   |   |\n",
      "-----------------\n"
     ]
    }
   ],
   "source": [
    "game = GridWorldGame(4)\n",
    "game.reset()\n",
    "game.print()\n",
    "done = False\n",
    "while not done:\n",
    "    action = optimal_policy_1(game)\n",
    "    print(f\"Taking action {action}\")\n",
    "    reward, done = game.step(action)\n",
    "    print(f\"Reward: {reward}, Done: {done}\")\n",
    "    game.print()\n"
   ]
  },
  {
   "cell_type": "code",
   "execution_count": null,
   "metadata": {},
   "outputs": [],
   "source": [
    "action_arrow_symbols = [\"←\", \"→\", \"↑\", \"↓\"]\n",
    "\n",
    "\n",
    "def visualise_policy(game: GridWorldGame, policy: callable):\n",
    "    actions_taken = {\n",
    "        tuple(game.goal_pos): \"G\"\n",
    "    }\n",
    "\n",
    "    for x in range(game.grid_size):\n",
    "        for y in range(game.grid_size):\n",
    "            if x == game.goal_pos[0] and y == game.goal_pos[1]:\n",
    "                continue\n",
    "            game.agent_pos = np.array([x, y])\n",
    "            action = policy(game)\n",
    "            actions_taken[(x, y)] = action_arrow_symbols[action]\n",
    "\n",
    "    print_grid(game.grid_size, actions_taken)"
   ]
  },
  {
   "cell_type": "markdown",
   "metadata": {},
   "source": [
    "### Visualising Optimal Policies\n",
    "\n",
    "In this game, consider two optimal policies. One in which the player prioritises moving along the x-axis, and another in which the player prioritises moving along the y-axis."
   ]
  },
  {
   "cell_type": "code",
   "execution_count": null,
   "metadata": {},
   "outputs": [
    {
     "name": "stdout",
     "output_type": "stream",
     "text": [
      "---------------------\n",
      "| → | → | ↓ | ← | ← |\n",
      "---------------------\n",
      "| → | → | ↓ | ← | ← |\n",
      "---------------------\n",
      "| → | → | G | ← | ← |\n",
      "---------------------\n",
      "| → | → | ↑ | ← | ← |\n",
      "---------------------\n",
      "| → | → | ↑ | ← | ← |\n",
      "---------------------\n"
     ]
    }
   ],
   "source": [
    "game = GridWorldGame(5)\n",
    "game.reset()\n",
    "game.goal_pos = np.array([2, 2])\n",
    "visualise_policy(game, optimal_policy_1)"
   ]
  },
  {
   "cell_type": "code",
   "execution_count": 20,
   "metadata": {},
   "outputs": [
    {
     "name": "stdout",
     "output_type": "stream",
     "text": [
      "---------------------\n",
      "| ↓ | ↓ | ↓ | ↓ | ↓ |\n",
      "---------------------\n",
      "| ↓ | ↓ | ↓ | ↓ | ↓ |\n",
      "---------------------\n",
      "| → | → | G | ← | ← |\n",
      "---------------------\n",
      "| ↑ | ↑ | ↑ | ↑ | ↑ |\n",
      "---------------------\n",
      "| ↑ | ↑ | ↑ | ↑ | ↑ |\n",
      "---------------------\n"
     ]
    }
   ],
   "source": [
    "visualise_policy(game, optimal_policy_2)"
   ]
  },
  {
   "cell_type": "code",
   "execution_count": 27,
   "metadata": {},
   "outputs": [
    {
     "name": "stdout",
     "output_type": "stream",
     "text": [
      "---------------------\n",
      "| → | → | ↓ | ↓ | ← |\n",
      "---------------------\n",
      "| → | ↓ | ↓ | ↓ | ↓ |\n",
      "---------------------\n",
      "| → | → | G | ← | ← |\n",
      "---------------------\n",
      "| ↑ | → | ↑ | ↑ | ← |\n",
      "---------------------\n",
      "| → | ↑ | ↑ | ← | ← |\n",
      "---------------------\n",
      "---------------------\n",
      "| → | ↓ | ↓ | ↓ | ← |\n",
      "---------------------\n",
      "| ↓ | ↓ | ↓ | ↓ | ← |\n",
      "---------------------\n",
      "| → | → | G | ← | ← |\n",
      "---------------------\n",
      "| → | ↑ | ↑ | ← | ← |\n",
      "---------------------\n",
      "| ↑ | → | ↑ | ← | ← |\n",
      "---------------------\n",
      "---------------------\n",
      "| → | ↓ | ↓ | ← | ← |\n",
      "---------------------\n",
      "| → | ↓ | ↓ | ← | ← |\n",
      "---------------------\n",
      "| → | → | G | ← | ← |\n",
      "---------------------\n",
      "| ↑ | ↑ | ↑ | ↑ | ↑ |\n",
      "---------------------\n",
      "| → | ↑ | ↑ | ← | ↑ |\n",
      "---------------------\n"
     ]
    }
   ],
   "source": [
    "from functools import partial\n",
    "\n",
    "visualise_policy(game, partial(stochastic_optimal_policy, seed=0))\n",
    "visualise_policy(game, partial(stochastic_optimal_policy, seed=1))\n",
    "visualise_policy(game, partial(stochastic_optimal_policy, seed=2))"
   ]
  },
  {
   "cell_type": "code",
   "execution_count": 41,
   "metadata": {},
   "outputs": [],
   "source": [
    "from itertools import product\n",
    "\n",
    "\n",
    "def policy_executes_actions(game: GridWorldGame,\n",
    "                            policy: callable,\n",
    "                            actions: int | list):\n",
    "    actions = actions if isinstance(actions, list) else [actions]\n",
    "    for a in actions:\n",
    "        if isinstance(a, str):\n",
    "            a = action_arrow_symbols.index(a)\n",
    "        if policy(game) != a:\n",
    "            return False\n",
    "        game.step(a)\n",
    "    return True\n",
    "\n",
    "\n",
    "def get_possible_goal_locations(game: GridWorldGame, actions: int | list, policy: callable):\n",
    "    actions = actions if isinstance(actions, list) else [actions]\n",
    "    if isinstance(actions[0], list):\n",
    "        return set.intersection(*[set(get_possible_goal_locations(game, a, policy)) for a in actions])\n",
    "\n",
    "    goal_locations = []\n",
    "    for agent_pos in product(range(game.grid_size), repeat=2):\n",
    "        for goal_pos in product(range(game.grid_size), repeat=2):\n",
    "            game.agent_pos = np.array(agent_pos)\n",
    "            game.goal_pos = np.array(goal_pos)\n",
    "            if policy_executes_actions(game, policy, actions):\n",
    "                goal_locations.append(goal_pos)\n",
    "\n",
    "    return goal_locations"
   ]
  },
  {
   "cell_type": "code",
   "execution_count": 37,
   "metadata": {},
   "outputs": [
    {
     "data": {
      "text/plain": [
       "{'agent_positions': [array([0, 1]),\n",
       "  array([1, 1]),\n",
       "  array([2, 1]),\n",
       "  array([3, 1]),\n",
       "  array([3, 2]),\n",
       "  array([3, 3])],\n",
       " 'actions': [1, 1, 1, 3, 3, 3],\n",
       " 'goal_position': array([3, 4])}"
      ]
     },
     "execution_count": 37,
     "metadata": {},
     "output_type": "execute_result"
    }
   ],
   "source": [
    "def generate_poclap_sample(policy, grid_size: int = 5, seed: int = 0):\n",
    "    game = GridWorldGame(grid_size)\n",
    "    np.random.seed(seed)\n",
    "    game.reset()\n",
    "    agent_pos = [game.agent_pos.copy()]\n",
    "    actions = []\n",
    "    goal_pos = game.goal_pos.copy()\n",
    "    done = False\n",
    "    while not done:\n",
    "        action = policy(game)\n",
    "        actions.append(action)\n",
    "        _, done = game.step(action)\n",
    "        if not done:\n",
    "            agent_pos.append(game.agent_pos.copy())\n",
    "    \n",
    "    return {\n",
    "        'agent_positions': agent_pos,\n",
    "        'actions': actions,\n",
    "        'goal_position': goal_pos\n",
    "    }\n",
    "\n",
    "\n",
    "generate_poclap_sample(optimal_policy_1, seed=1)"
   ]
  },
  {
   "cell_type": "code",
   "execution_count": 38,
   "metadata": {},
   "outputs": [
    {
     "data": {
      "text/plain": [
       "{'agent_positions': [array([0, 1]),\n",
       "  array([0, 2]),\n",
       "  array([0, 3]),\n",
       "  array([0, 4]),\n",
       "  array([1, 4]),\n",
       "  array([2, 4])],\n",
       " 'actions': [3, 3, 3, 1, 1, 1],\n",
       " 'goal_position': array([3, 4])}"
      ]
     },
     "execution_count": 38,
     "metadata": {},
     "output_type": "execute_result"
    }
   ],
   "source": [
    "generate_poclap_sample(optimal_policy_2, seed=1)"
   ]
  },
  {
   "cell_type": "code",
   "execution_count": null,
   "metadata": {},
   "outputs": [
    {
     "data": {
      "text/plain": [
       "{'agent_positions': [array([0, 1]),\n",
       "  array([1, 1]),\n",
       "  array([1, 2]),\n",
       "  array([2, 2]),\n",
       "  array([3, 2]),\n",
       "  array([3, 3])],\n",
       " 'actions': [1, 3, 1, 1, 3, 3],\n",
       " 'goal_position': array([3, 4])}"
      ]
     },
     "execution_count": 39,
     "metadata": {},
     "output_type": "execute_result"
    }
   ],
   "source": [
    "poclap_sample = generate_poclap_sample(partial(stochastic_optimal_policy, seed=0), seed=1)"
   ]
  },
  {
   "cell_type": "code",
   "execution_count": null,
   "metadata": {},
   "outputs": [
    {
     "data": {
      "text/plain": [
       "[(3, 3), (3, 4), (3, 4), (4, 3), (4, 4), (4, 4)]"
      ]
     },
     "execution_count": 44,
     "metadata": {},
     "output_type": "execute_result"
    }
   ],
   "source": [
    "poclap_sample = generate_poclap_sample(optimal_policy_1, seed=1)\n",
    "possible_goals = get_possible_goal_locations(\n",
    "    game, poclap_sample['actions'], optimal_policy_1\n",
    ")\n",
    "possible_goals"
   ]
  },
  {
   "cell_type": "code",
   "execution_count": 43,
   "metadata": {},
   "outputs": [
    {
     "data": {
      "text/plain": [
       "[]"
      ]
     },
     "execution_count": 43,
     "metadata": {},
     "output_type": "execute_result"
    }
   ],
   "source": [
    "poclap_sample = generate_poclap_sample(optimal_policy_1, seed=1)\n",
    "possible_goals = get_possible_goal_locations(\n",
    "    game, poclap_sample['actions'], optimal_policy_2\n",
    ")\n",
    "possible_goals"
   ]
  },
  {
   "cell_type": "code",
   "execution_count": 51,
   "metadata": {},
   "outputs": [
    {
     "data": {
      "text/plain": [
       "(array([3, 4]), {(3, 3), (3, 4), (4, 3), (4, 4)})"
      ]
     },
     "execution_count": 51,
     "metadata": {},
     "output_type": "execute_result"
    }
   ],
   "source": [
    "poclap_sample = generate_poclap_sample(optimal_policy_1, seed=1)\n",
    "possible_goals = set()\n",
    "for seed in range(1000):\n",
    "    possible_goals_seed = get_possible_goal_locations(\n",
    "        game, poclap_sample['actions'], partial(stochastic_optimal_policy, seed=seed)\n",
    "    )\n",
    "    possible_goals = set(possible_goals_seed) | possible_goals\n",
    "\n",
    "poclap_sample['goal_position'], possible_goals"
   ]
  },
  {
   "cell_type": "code",
   "execution_count": 53,
   "metadata": {},
   "outputs": [],
   "source": [
    "actions_seqs = [\n",
    "    ['→', '→', '↑'],\n",
    "    ['↑', '↑', '↑'],\n",
    "    ['→', '→','→', '↑', '↑'],\n",
    "    ['←', '↓'],\n",
    "]"
   ]
  },
  {
   "cell_type": "code",
   "execution_count": 54,
   "metadata": {},
   "outputs": [
    {
     "name": "stdout",
     "output_type": "stream",
     "text": [
      "Action Sequence: → → ↑\n",
      "Goal locations consistent with sequence:\n",
      "---------------------\n",
      "|   |   | X | X | X |\n",
      "---------------------\n",
      "|   |   | X | X | X |\n",
      "---------------------\n",
      "|   |   | X | X | X |\n",
      "---------------------\n",
      "|   |   | X | X | X |\n",
      "---------------------\n",
      "|   |   |   |   |   |\n",
      "---------------------\n",
      "\n",
      "Action Sequence: ↑ ↑ ↑\n",
      "Goal locations consistent with sequence:\n",
      "---------------------\n",
      "| X | X | X | X | X |\n",
      "---------------------\n",
      "| X | X | X | X | X |\n",
      "---------------------\n",
      "|   |   |   |   |   |\n",
      "---------------------\n",
      "|   |   |   |   |   |\n",
      "---------------------\n",
      "|   |   |   |   |   |\n",
      "---------------------\n",
      "\n",
      "Action Sequence: → → → ↑ ↑\n",
      "Goal locations consistent with sequence:\n",
      "---------------------\n",
      "|   |   |   | X | X |\n",
      "---------------------\n",
      "|   |   |   | X | X |\n",
      "---------------------\n",
      "|   |   |   | X | X |\n",
      "---------------------\n",
      "|   |   |   |   |   |\n",
      "---------------------\n",
      "|   |   |   |   |   |\n",
      "---------------------\n",
      "\n",
      "Action Sequence: ← ↓\n",
      "Goal locations consistent with sequence:\n",
      "---------------------\n",
      "|   |   |   |   |   |\n",
      "---------------------\n",
      "| X | X | X | X |   |\n",
      "---------------------\n",
      "| X | X | X | X |   |\n",
      "---------------------\n",
      "| X | X | X | X |   |\n",
      "---------------------\n",
      "| X | X | X | X |   |\n",
      "---------------------\n",
      "\n",
      "Goal locations consistent with all sequences:\n",
      "---------------------\n",
      "|   |   |   |   |   |\n",
      "---------------------\n",
      "|   |   |   | X |   |\n",
      "---------------------\n",
      "|   |   |   |   |   |\n",
      "---------------------\n",
      "|   |   |   |   |   |\n",
      "---------------------\n",
      "|   |   |   |   |   |\n",
      "---------------------\n"
     ]
    }
   ],
   "source": [
    "for action_seq in actions_seqs:\n",
    "    seq_str = ' '.join(action_seq)\n",
    "    print('Action Sequence:', seq_str)\n",
    "    possible_goals = get_possible_goal_locations(\n",
    "        game, action_seq, optimal_policy_1\n",
    "    )\n",
    "    print('Goal locations consistent with sequence:')\n",
    "    print_grid(game.grid_size, {\n",
    "        pos: 'X' for pos in possible_goals\n",
    "    })\n",
    "    print()\n",
    "\n",
    "possible_goals = get_possible_goal_locations(game, actions_seqs, optimal_policy_1)\n",
    "print('Goal locations consistent with all sequences:')\n",
    "print_grid(game.grid_size, {\n",
    "    pos: 'X' for pos in possible_goals\n",
    "})"
   ]
  },
  {
   "cell_type": "code",
   "execution_count": 71,
   "metadata": {},
   "outputs": [],
   "source": [
    "def information_gain(grid_size, n_possibilities):\n",
    "    if n_possibilities == 0:\n",
    "        return 0\n",
    "    return np.log2(grid_size * grid_size) - np.log2(n_possibilities)"
   ]
  },
  {
   "cell_type": "code",
   "execution_count": 72,
   "metadata": {},
   "outputs": [
    {
     "data": {
      "text/plain": [
       "4.643856189774724"
      ]
     },
     "execution_count": 72,
     "metadata": {},
     "output_type": "execute_result"
    }
   ],
   "source": [
    "information_gain(game.grid_size, 1)"
   ]
  },
  {
   "cell_type": "code",
   "execution_count": 73,
   "metadata": {},
   "outputs": [],
   "source": [
    "action_seq_samples = []\n",
    "\n",
    "game.reset()\n",
    "game.goal_pos = np.array([2, 2])\n",
    "\n",
    "\n",
    "def rollout_policy(game: GridWorldGame, policy: callable):\n",
    "    actions = []\n",
    "    done = False\n",
    "    while not done:\n",
    "        action = policy(game)\n",
    "        if action is None:\n",
    "            break\n",
    "        actions.append(action)\n",
    "        _, done = game.step(action)\n",
    "    return actions\n",
    "\n",
    "\n",
    "for x, y in product(range(game.grid_size), repeat=2):\n",
    "    game.agent_pos = np.array([x, y])\n",
    "    actions = rollout_policy(game, optimal_policy_1)\n",
    "    if actions:\n",
    "        action_seq_samples.append(actions)"
   ]
  },
  {
   "cell_type": "code",
   "execution_count": 74,
   "metadata": {},
   "outputs": [
    {
     "data": {
      "text/plain": [
       "[[1, 1, 3, 3],\n",
       " [1, 1, 3],\n",
       " [1, 1],\n",
       " [1, 1, 2],\n",
       " [1, 1, 2, 2],\n",
       " [1, 3, 3],\n",
       " [1, 3],\n",
       " [1],\n",
       " [1, 2],\n",
       " [1, 2, 2],\n",
       " [3, 3],\n",
       " [3],\n",
       " [2],\n",
       " [2, 2],\n",
       " [0, 3, 3],\n",
       " [0, 3],\n",
       " [0],\n",
       " [0, 2],\n",
       " [0, 2, 2],\n",
       " [0, 0, 3, 3],\n",
       " [0, 0, 3],\n",
       " [0, 0],\n",
       " [0, 0, 2],\n",
       " [0, 0, 2, 2]]"
      ]
     },
     "execution_count": 74,
     "metadata": {},
     "output_type": "execute_result"
    }
   ],
   "source": [
    "action_seq_samples"
   ]
  },
  {
   "cell_type": "code",
   "execution_count": 75,
   "metadata": {},
   "outputs": [
    {
     "name": "stderr",
     "output_type": "stream",
     "text": [
      " 96%|█████████▌| 24/25 [02:16<00:05,  5.69s/it]\n",
      " 96%|█████████▌| 24/25 [00:39<00:02,  2.80s/it]"
     ]
    }
   ],
   "source": [
    "import random\n",
    "from tqdm import tqdm\n",
    "\n",
    "sample_trials = 25\n",
    "items = []\n",
    "\n",
    "k_total = 25\n",
    "\n",
    "random.seed(0)\n",
    "\n",
    "prog_bar = tqdm(total=k_total)\n",
    "\n",
    "for k in range(1, k_total):\n",
    "    for _ in range(sample_trials):\n",
    "        data_sample = random.sample(action_seq_samples, k)\n",
    "        possible_goals = get_possible_goal_locations(game, data_sample, optimal_policy_1)\n",
    "        gain = information_gain(game.grid_size, len(possible_goals))\n",
    "        items.append({\n",
    "            'k': k,\n",
    "            'gain': gain\n",
    "        })\n",
    "    prog_bar.update()\n",
    "\n",
    "df = pd.DataFrame(items)"
   ]
  },
  {
   "cell_type": "code",
   "execution_count": 76,
   "metadata": {},
   "outputs": [
    {
     "name": "stderr",
     "output_type": "stream",
     "text": [
      " 96%|█████████▌| 24/25 [00:39<00:01,  1.63s/it]\n"
     ]
    }
   ],
   "source": [
    "import random\n",
    "from tqdm import tqdm\n",
    "\n",
    "sample_trials = 25\n",
    "items = []\n",
    "\n",
    "k_total = 25\n",
    "\n",
    "random.seed(0)\n",
    "\n",
    "prog_bar = tqdm(total=k_total)\n",
    "\n",
    "for k in range(1, k_total):\n",
    "    for _ in range(sample_trials):\n",
    "        data_sample = random.sample(action_seq_samples, k)\n",
    "        possible_goals = get_possible_goal_locations(game, data_sample, optimal_policy_2)\n",
    "        gain = information_gain(game.grid_size, len(possible_goals))\n",
    "        items.append({\n",
    "            'k': k,\n",
    "            'gain': gain\n",
    "        })\n",
    "    prog_bar.update()\n",
    "\n",
    "wrong_policy_df = pd.DataFrame(items)"
   ]
  },
  {
   "cell_type": "code",
   "execution_count": 130,
   "metadata": {},
   "outputs": [
    {
     "name": "stderr",
     "output_type": "stream",
     "text": [
      " 96%|█████████▌| 24/25 [12:33<00:31, 31.41s/it]\n"
     ]
    }
   ],
   "source": [
    "import random\n",
    "from tqdm import tqdm\n",
    "\n",
    "sample_trials = 10\n",
    "policy_samples = 10\n",
    "items = []\n",
    "\n",
    "k_total = 25\n",
    "\n",
    "random.seed(0)\n",
    "\n",
    "prog_bar = tqdm(total=k_total)\n",
    "\n",
    "for k in range(1, k_total):\n",
    "    for sample_seed in range(sample_trials):\n",
    "        random.seed(sample_seed)\n",
    "        data_sample = random.sample(action_seq_samples, k)\n",
    "        possible_goals = set()\n",
    "        for policy_seed in range(policy_samples):\n",
    "            policy_possible_goals = get_possible_goal_locations(\n",
    "                game, data_sample, partial(stochastic_optimal_policy, seed=policy_seed)\n",
    "            )\n",
    "            possible_goals = set(policy_possible_goals) | possible_goals\n",
    "            gain = information_gain(game.grid_size, len(possible_goals))\n",
    "            items.append({\n",
    "                'k': k,\n",
    "                'gain': gain,\n",
    "                'policy_samples': policy_seed\n",
    "            })\n",
    "    prog_bar.update()\n",
    "\n",
    "stochastic_policy_df = pd.DataFrame(items)"
   ]
  },
  {
   "cell_type": "code",
   "execution_count": 162,
   "metadata": {},
   "outputs": [
    {
     "data": {
      "image/png": "[encoded data removed]",
      "text/plain": [
       "<Figure size 1000x600 with 1 Axes>"
      ]
     },
     "metadata": {},
     "output_type": "display_data"
    },
    {
     "name": "stderr",
     "output_type": "stream",
     "text": [
      "reformatted figures/information_gain_vs_samples_both_policies/code.py\n",
      "\n",
      "All done! ✨ 🍰 ✨\n",
      "1 file reformatted.\n"
     ]
    }
   ],
   "source": [
    "def plot_information_gain(df: pd.DataFrame, wrong_policy_df, stochastic_policy_df, max_gain: float):\n",
    "    set_plotting_style(font_scale=2)\n",
    "    plt.figure(figsize=(10, 6))\n",
    "    ax = sns.lineplot(data=df, x='k', y='gain', errorbar=lambda x: (x.min(), x.max()), label='Correct Optimal Policy')\n",
    "    sns.lineplot(data=wrong_policy_df, x='k', y='gain', ax=ax, errorbar=lambda x: (x.min(), x.max()), label='Incorrect Optimal Policy')\n",
    "    sns.lineplot(data=stochastic_policy_df[stochastic_policy_df.policy_samples == 9],\n",
    "                 x='k', y='gain', ax=ax, errorbar=lambda x: (x.min(), x.max()),\n",
    "                 label='10 Randomly Sampled\\nOptimal Policies')\n",
    "    # sns.lineplot(data=stochastic_policy_df[stochastic_policy_df.policy_samples == 9], x='k', y='gain', ax=ax, errorbar=lambda x: (x.min(), x.max()))\n",
    "    ax.axhline(max_gain, color='black', linestyle='--', label='Max Gain', alpha=0.5)\n",
    "    ax.set_xlabel('Number of Samples')\n",
    "    ax.set_ylabel('Information Gain (bits)')\n",
    "    ax.legend(loc='upper right', bbox_to_anchor=(1.7, 1))\n",
    "\n",
    "\n",
    "from reproducible_figures import save_reproducible_figure, set_plotting_style\n",
    "\n",
    "save_reproducible_figure(\n",
    "    'information_gain_vs_samples_both_policies',\n",
    "    (df, wrong_policy_df, stochastic_policy_df),\n",
    "    plot_information_gain,\n",
    "    show=True,\n",
    "    max_gain=information_gain(game.grid_size, 1)\n",
    ")"
   ]
  },
  {
   "cell_type": "code",
   "execution_count": 138,
   "metadata": {},
   "outputs": [],
   "source": [
    "heatmap = (stochastic_policy_df\\\n",
    "    .groupby(['k', 'policy_samples']).gain.mean()\\\n",
    "    .reset_index()\\\n",
    "    .pivot(index='k', columns='policy_samples', values='gain')\n",
    ")"
   ]
  },
  {
   "cell_type": "code",
   "execution_count": 139,
   "metadata": {},
   "outputs": [
    {
     "data": {
      "text/plain": [
       "<Axes: xlabel='policy_samples', ylabel='k'>"
      ]
     },
     "execution_count": 139,
     "metadata": {},
     "output_type": "execute_result"
    },
    {
     "data": {
      "image/png": "[encoded data removed]",
      "text/plain": [
       "<Figure size 640x480 with 2 Axes>"
      ]
     },
     "metadata": {},
     "output_type": "display_data"
    }
   ],
   "source": [
    "sns.heatmap(heatmap, cmap='viridis', square=True)"
   ]
  }
 ],
 "metadata": {
  "kernelspec": {
   "display_name": "base",
   "language": "python",
   "name": "python3"
  },
  "language_info": {
   "codemirror_mode": {
    "name": "ipython",
    "version": 3
   },
   "file_extension": ".py",
   "mimetype": "text/x-python",
   "name": "python",
   "nbconvert_exporter": "python",
   "pygments_lexer": "ipython3",
   "version": "3.11.5"
  }
 },
 "nbformat": 4,
 "nbformat_minor": 2
}
