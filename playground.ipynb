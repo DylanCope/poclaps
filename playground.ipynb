{
 "cells": [
  {
   "cell_type": "code",
   "execution_count": 1,
   "metadata": {},
   "outputs": [],
   "source": [
    "import os\n",
    "os.environ['XLA_PYTHON_CLIENT_PREALLOCATE'] = 'false'"
   ]
  },
  {
   "cell_type": "code",
   "execution_count": 2,
   "metadata": {},
   "outputs": [
    {
     "name": "stderr",
     "output_type": "stream",
     "text": [
      "WARNING: All log messages before absl::InitializeLog() is called are written to STDERR\n",
      "I0000 00:00:1719350014.353666 3129485 tfrt_cpu_pjrt_client.cc:349] TfrtCpuClient created.\n"
     ]
    },
    {
     "name": "stdout",
     "output_type": "stream",
     "text": [
      "{'algorithm': 'PPO', 'learning_rate': 0.00025, 'num_envs': 4, 'num_steps': 128, 'total_timesteps': 100000.0, 'update_epochs': 4, 'num_minibatches': 4, 'gamma': 0.99, 'gae_lambda': 0.95, 'clip_eps': 0.2, 'ent_coef': 0.01, 'vf_coef': 0.5, 'max_grad_norm': 0.5, 'activation': 'tanh', 'anneal_lr': True, 'seed': 0, 'env_name': 'SimpleGridWorld-v0', 'env_kwargs': {'grid_size': 5, 'max_steps_in_episode': 20}, 'wandb_entity': 'drcope', 'wandb_project': 'ppo-gridworld-example', 'wandb_mode': 'online', 'output_dir': PosixPath('outputs/2024-06-14/15-39-35'), 'num_updates': 195.0, 'minibatch_size': 128}\n",
      "Loaded policy checkpoint.\n"
     ]
    }
   ],
   "source": [
    "from typing import Iterable, NamedTuple\n",
    "from poclaps.train.ckpt_cb import load_ckpt\n",
    "from poclaps.train.ppo import make_train as make_ppo_train\n",
    "from poclaps.train.ppo import FlattenObservationWrapper, LogWrapper\n",
    "from poclaps import environments\n",
    "\n",
    "from pathlib import Path\n",
    "import yaml\n",
    "\n",
    "\n",
    "# run_dir = Path('outputs/2024-06-11/19-46-55')\n",
    "run_dir = Path('outputs/2024-06-14/15-39-35/')\n",
    "run_dir2 = Path('outputs/2024-06-15/00-58-28/')\n",
    "\n",
    "\n",
    "def load_config(run_dir):\n",
    "    with open(f'{run_dir}/.hydra/config.yaml') as f:\n",
    "        config = yaml.safe_load(f)\n",
    "        config['output_dir'] = run_dir\n",
    "    return config\n",
    "\n",
    "config = load_config(run_dir)\n",
    "config2 = load_config(run_dir2)\n",
    "\n",
    "init_state, train_fn = make_ppo_train(config)\n",
    "\n",
    "print(config)\n",
    "\n",
    "def load_pretrained_policy(run_dir, config, ckpt_step=195):\n",
    "    init_state, _ = make_ppo_train(config)\n",
    "    ckpt = load_ckpt(run_dir / 'checkpoints', ckpt_step, init_state)\n",
    "    train_state, *_ = ckpt\n",
    "\n",
    "    def pretrained_policy(obs):\n",
    "        return train_state.apply_fn(train_state.params, obs)\n",
    "\n",
    "    return pretrained_policy\n",
    "\n",
    "pretrained_policy = load_pretrained_policy(run_dir, config)\n",
    "pretrained_policy2 = load_pretrained_policy(run_dir2, config2)\n",
    "print('Loaded policy checkpoint.')\n",
    "\n",
    "env, env_params = environments.make(config[\"env_name\"],\n",
    "                                    **config.get('env_kwargs', {}))\n",
    "env = FlattenObservationWrapper(env)\n",
    "env = LogWrapper(env)\n",
    "\n",
    "\n",
    "import jax\n",
    "from flax import struct\n",
    "from chex import Array\n",
    "import jax.numpy as jnp"
   ]
  },
  {
   "cell_type": "code",
   "execution_count": 3,
   "metadata": {},
   "outputs": [],
   "source": [
    "import numpy as np\n",
    "from poclaps.simple_gridworld_game import (\n",
    "    EnvState as SimpleGridWorldEnvState,\n",
    "    EnvParams as SimpleGridWorldEnvParams,\n",
    ")\n",
    "\n",
    "\n",
    "class Transition(NamedTuple):\n",
    "    env_state: struct.PyTreeNode\n",
    "    done: Array\n",
    "    action: Array\n",
    "    message: Array\n",
    "    reward: Array\n",
    "    log_prob: Array\n",
    "    obs: Array\n",
    "    info: dict\n",
    "    episode_id: int\n",
    "\n",
    "\n",
    "class SimpleGridWorldCommPolicy:\n",
    "    \"\"\"\n",
    "    \"\"\"\n",
    "\n",
    "    def __init__(self, seed: int, env_params: SimpleGridWorldEnvParams):\n",
    "        self.seed = seed\n",
    "        self.env_params = env_params\n",
    "        self.n_msgs = env_params.grid_size * env_params.grid_size\n",
    "        grid_indices = list(range(self.n_msgs))\n",
    "        np.random.seed(seed)\n",
    "        np.random.shuffle(grid_indices)\n",
    "        self.msg_map = dict(enumerate(grid_indices))\n",
    "        self.mapping = jnp.array(list(self.msg_map.values()))\n",
    "\n",
    "    def get_msg(self, goal_pos: jnp.array) -> int:\n",
    "        pos_idx = goal_pos[0] * self.env_params.grid_size + goal_pos[1]\n",
    "        return self.mapping[pos_idx]\n",
    "\n",
    "comm_policy = SimpleGridWorldCommPolicy(0, env_params)\n",
    "\n",
    "\n",
    "def rollout_with_msgs(env, policy, comm_policy, steps, n_envs=4, rng=None, rollout_state=None):\n",
    "\n",
    "    @jax.jit\n",
    "    def _env_step(rollout_state, _):\n",
    "        env_state, last_obs, rng, ep_ids = rollout_state\n",
    "\n",
    "        # SELECT ACTION\n",
    "        rng, _rng = jax.random.split(rng)\n",
    "        pi, _ = policy(last_obs)\n",
    "        action = pi.sample(seed=_rng)\n",
    "        log_prob = pi.log_prob(action)\n",
    "\n",
    "        # STEP ENV\n",
    "        rng, _rng = jax.random.split(rng)\n",
    "        rng_step = jax.random.split(_rng, n_envs)\n",
    "        obsv, env_state, reward, done, info = jax.vmap(\n",
    "            env.step, in_axes=(0, 0, 0, None)\n",
    "        )(rng_step, env_state, action, env_params)\n",
    "        ep_ids = jnp.where(done, ep_ids + n_envs, ep_ids)\n",
    "\n",
    "        msg = jax.lax.map(\n",
    "            lambda g: comm_policy.get_msg(g),\n",
    "            env_state.env_state.goal_pos\n",
    "        )\n",
    "\n",
    "        transition = Transition(\n",
    "            env_state, done, action, msg, reward, log_prob, last_obs, info, ep_ids\n",
    "        )\n",
    "        rollout_state = (env_state, obsv, rng, ep_ids)\n",
    "        return rollout_state, transition\n",
    "\n",
    "    if rollout_state is None:\n",
    "        if rng is None:\n",
    "            rng = jax.random.PRNGKey(0)\n",
    "        rng, _rng = jax.random.split(rng)\n",
    "        reset_rng = jax.random.split(_rng, n_envs)\n",
    "        obsv, env_state = jax.vmap(env.reset,\n",
    "                                   in_axes=(0, None))(reset_rng, env_params)\n",
    "        ep_ids = jnp.arange(n_envs)\n",
    "        rollout_state = (env_state, obsv, rng, ep_ids)\n",
    "\n",
    "    rollout_state, traj_batch = jax.lax.scan(\n",
    "        _env_step, rollout_state, None, steps\n",
    "    )\n",
    "\n",
    "    metrics = {}\n",
    "\n",
    "    metrics['mean_reward'] = (\n",
    "        (traj_batch.info[\"returned_episode_returns\"] * traj_batch.info[\"returned_episode\"]).sum()\n",
    "        / traj_batch.info[\"returned_episode\"].sum()\n",
    "    )\n",
    "\n",
    "    metrics['mean_episode_len'] = (\n",
    "        (traj_batch.info[\"returned_episode_lengths\"] * traj_batch.info[\"returned_episode\"]).sum()\n",
    "        / traj_batch.info[\"returned_episode\"].sum()\n",
    "    )\n",
    "\n",
    "    metrics['n_episodes'] = traj_batch.info[\"returned_episode\"].sum()\n",
    "\n",
    "    return rollout_state, traj_batch, metrics\n",
    "\n",
    "\n",
    "rollout_state, traj_batch, metrics = rollout_with_msgs(env, pretrained_policy, comm_policy, 500)"
   ]
  },
  {
   "cell_type": "code",
   "execution_count": 4,
   "metadata": {},
   "outputs": [],
   "source": [
    "import flax.linen as nn\n",
    "import jax\n",
    "import functools\n",
    "\n",
    "\n",
    "class ScannedRNN(nn.Module):\n",
    "    hidden_size: int = 128\n",
    "\n",
    "    @functools.partial(\n",
    "        nn.scan,\n",
    "        variable_broadcast=\"params\",\n",
    "        in_axes=0,\n",
    "        out_axes=0,\n",
    "        split_rngs={\"params\": False},\n",
    "    )\n",
    "    @nn.compact\n",
    "    def __call__(self, carry, x):\n",
    "        \"\"\"Applies the module.\"\"\"\n",
    "        rnn_state = carry\n",
    "        ins, resets = x\n",
    "        rnn_state = jnp.where(\n",
    "            resets[:, np.newaxis],\n",
    "            self.initialize_carry(*rnn_state.shape),\n",
    "            rnn_state,\n",
    "        )\n",
    "        new_rnn_state, y = nn.GRUCell(features=self.hidden_size)(rnn_state, ins)\n",
    "        return new_rnn_state, y\n",
    "\n",
    "    @staticmethod\n",
    "    def initialize_carry(n_envs, hidden_size):\n",
    "        # Use a dummy key since the default state init fn is just zeros.\n",
    "        cell = nn.GRUCell(features=hidden_size)\n",
    "        return cell.initialize_carry(jax.random.PRNGKey(0), (n_envs, hidden_size))\n"
   ]
  },
  {
   "cell_type": "code",
   "execution_count": 5,
   "metadata": {},
   "outputs": [],
   "source": [
    "import flax.linen as nn\n",
    "import jax\n",
    "\n",
    "\n",
    "class ScannedBiRNN(nn.Module):\n",
    "    hidden_size: int = 128\n",
    "\n",
    "    @nn.compact\n",
    "    def __call__(self, carry, inputs):\n",
    "        forward_carry, backward_carry = carry\n",
    "        forward_carry, forward_embs = ScannedRNN(self.hidden_size)(\n",
    "            forward_carry, inputs\n",
    "        )\n",
    "        feats, resets = inputs\n",
    "        backward_inputs = (feats[::-1], resets[::-1])\n",
    "        backward_carry, backward_embs = ScannedRNN(self.hidden_size)(\n",
    "            backward_carry, backward_inputs\n",
    "        )\n",
    "        carry = (forward_carry, backward_carry)\n",
    "        embs = jnp.concatenate([forward_embs, backward_embs], axis=-1)\n",
    "        return carry, embs\n",
    "\n",
    "    @staticmethod\n",
    "    def initialize_carry(n_envs, hidden_size):\n",
    "        return (\n",
    "            ScannedRNN.initialize_carry(n_envs, hidden_size),\n",
    "            ScannedRNN.initialize_carry(n_envs, hidden_size)\n",
    "        )"
   ]
  },
  {
   "cell_type": "code",
   "execution_count": 48,
   "metadata": {},
   "outputs": [],
   "source": [
    "class ObsModel(nn.Module):\n",
    "    obs_size: int\n",
    "    hidden_size: int = 128\n",
    "\n",
    "    @nn.compact\n",
    "    def __call__(self, inputs: tuple):\n",
    "        actions, messages, dones, *_ = inputs\n",
    "        feats = jnp.concatenate([actions, messages], axis=-1)\n",
    "        # *_, dones, obs = inputs\n",
    "        # feats = obs\n",
    "        x = nn.Dense(self.hidden_size)(feats)\n",
    "        x = nn.relu(x)\n",
    "        x = nn.Dense(self.hidden_size)(x)\n",
    "        x = nn.relu(x)\n",
    "        _, n_envs, _ = x.shape\n",
    "        carry = ScannedBiRNN.initialize_carry(n_envs, self.hidden_size)\n",
    "        bi_lstm = ScannedBiRNN(self.hidden_size)\n",
    "        _, x = bi_lstm(carry, (x, dones))\n",
    "        x = nn.Dense(self.hidden_size)(x)\n",
    "        x = nn.relu(x)\n",
    "        obs_preds = nn.Dense(self.obs_size)(x)\n",
    "        obs_preds = nn.sigmoid(obs_preds)\n",
    "        return obs_preds"
   ]
  },
  {
   "cell_type": "code",
   "execution_count": 49,
   "metadata": {},
   "outputs": [
    {
     "data": {
      "text/plain": [
       "(500, 4, 20)"
      ]
     },
     "execution_count": 49,
     "metadata": {},
     "output_type": "execute_result"
    }
   ],
   "source": [
    "N_ACTIONS = 5\n",
    "actions_1h = jax.nn.one_hot(traj_batch.action, N_ACTIONS)\n",
    "msgs_1h = jax.nn.one_hot(traj_batch.message, comm_policy.n_msgs)\n",
    "\n",
    "hidden_size = 128\n",
    "obs_space = env.observation_space(env_params)\n",
    "obs_size = obs_space.shape[0]\n",
    "\n",
    "model = ObsModel(obs_size, hidden_size)\n",
    "inputs = (actions_1h, msgs_1h, traj_batch.done, traj_batch.obs)\n",
    "init_obs_model_variables = model.init(jax.random.PRNGKey(0), inputs)\n",
    "obs_preds = model.apply(init_obs_model_variables, inputs)\n",
    "obs_preds.shape"
   ]
  },
  {
   "cell_type": "code",
   "execution_count": 50,
   "metadata": {},
   "outputs": [],
   "source": [
    "class Discriminator(nn.Module):\n",
    "    hidden_size: int = 128\n",
    "\n",
    "    @nn.compact\n",
    "    def __call__(self, x):\n",
    "        if isinstance(x, tuple):\n",
    "            x, *_ = x\n",
    "        x = nn.Dense(self.hidden_size)(x)\n",
    "        x = nn.relu(x)\n",
    "        x = nn.Dense(self.hidden_size)(x)\n",
    "        x = nn.relu(x)\n",
    "        x = nn.Dense(self.hidden_size)(x)\n",
    "        x = nn.relu(x)\n",
    "        x = nn.Dense(self.hidden_size)(x)\n",
    "        x = nn.relu(x)\n",
    "        y = nn.Dense(1)(x)\n",
    "        return y.squeeze()"
   ]
  },
  {
   "cell_type": "code",
   "execution_count": 9,
   "metadata": {},
   "outputs": [],
   "source": [
    "steps, n_envs, obs_dim = traj_batch.obs.shape\n",
    "batch_size = steps * n_envs\n",
    "obs_batch = traj_batch.obs.reshape((batch_size, obs_dim))\n",
    "obs_preds = obs_preds.reshape((batch_size, obs_dim))\n",
    "# rng = jax.random.PRNGKey(0)\n",
    "# shuffle_permutation = jax.random.permutation(rng, batch_size)\n",
    "# obs_batch = obs_batch[shuffle_permutation]\n",
    "label = jnp.concatenate([jnp.ones(batch_size), jnp.zeros(batch_size)])\n",
    "inputs = jnp.concatenate([obs_batch, obs_preds], axis=0)"
   ]
  },
  {
   "cell_type": "code",
   "execution_count": 10,
   "metadata": {},
   "outputs": [
    {
     "data": {
      "text/plain": [
       "(4000, 20)"
      ]
     },
     "execution_count": 10,
     "metadata": {},
     "output_type": "execute_result"
    }
   ],
   "source": [
    "inputs.shape"
   ]
  },
  {
   "cell_type": "code",
   "execution_count": 11,
   "metadata": {},
   "outputs": [
    {
     "data": {
      "text/plain": [
       "((4000,), Array([-0.24943858,  0.14367834,  0.31567287], dtype=float32))"
      ]
     },
     "execution_count": 11,
     "metadata": {},
     "output_type": "execute_result"
    }
   ],
   "source": [
    "discriminator = Discriminator(hidden_size)\n",
    "init_variables = discriminator.init(jax.random.PRNGKey(0), inputs)\n",
    "label_pred = discriminator.apply(init_variables, inputs)\n",
    "label_pred.shape, label_pred[:3]"
   ]
  },
  {
   "cell_type": "code",
   "execution_count": 12,
   "metadata": {},
   "outputs": [
    {
     "data": {
      "text/plain": [
       "Array(0.66747767, dtype=float32)"
      ]
     },
     "execution_count": 12,
     "metadata": {},
     "output_type": "execute_result"
    }
   ],
   "source": [
    "import optax\n",
    "optax.losses.sigmoid_binary_cross_entropy(label_pred, label).mean()"
   ]
  },
  {
   "cell_type": "code",
   "execution_count": 13,
   "metadata": {},
   "outputs": [
    {
     "data": {
      "text/plain": [
       "((4000,), (4000,))"
      ]
     },
     "execution_count": 13,
     "metadata": {},
     "output_type": "execute_result"
    }
   ],
   "source": [
    "label_pred.shape, label.shape"
   ]
  },
  {
   "cell_type": "code",
   "execution_count": 51,
   "metadata": {},
   "outputs": [
    {
     "data": {
      "text/plain": [
       "Array(0.370797, dtype=float32)"
      ]
     },
     "execution_count": 51,
     "metadata": {},
     "output_type": "execute_result"
    }
   ],
   "source": [
    "from poclaps.train.losses import categorical_cross_entropy\n",
    "\n",
    "pred_action_dist, _ = pretrained_policy(traj_batch.obs)\n",
    "loss = categorical_cross_entropy(pred_action_dist.logits, actions_1h)\n",
    "loss.mean()"
   ]
  },
  {
   "cell_type": "code",
   "execution_count": 52,
   "metadata": {},
   "outputs": [],
   "source": [
    "from poclaps.train.losses import categorical_cross_entropy\n",
    "\n",
    "import optax\n",
    "from flax.training.train_state import TrainState\n",
    "\n",
    "\n",
    "class TrainerState(NamedTuple):\n",
    "    train_state: TrainState\n",
    "    rng: jnp.ndarray\n",
    "\n",
    "\n",
    "class Trainer:\n",
    "\n",
    "    def __init__(self,\n",
    "                 model,\n",
    "                 loss_fn: callable,\n",
    "                 sample_batch: callable):\n",
    "        self.model = model\n",
    "        self.loss_fn = loss_fn\n",
    "        self.sample_batch = sample_batch\n",
    "\n",
    "    def train_step(self, trainer_state: TrainerState) -> TrainerState:\n",
    "        train_state = trainer_state.train_state\n",
    "        rng, _rng = jax.random.split(trainer_state.rng)\n",
    "        inputs, metrics = self.sample_batch(_rng)\n",
    "        loss, grad = jax.value_and_grad(self.loss_fn)(train_state.params, inputs)\n",
    "        metrics['loss'] = loss\n",
    "        updates, new_opt_state = train_state.tx.update(grad, train_state.opt_state)\n",
    "        new_variables = optax.apply_updates(train_state.params, updates)\n",
    "        train_state = train_state.replace(\n",
    "            step=train_state.step + 1,\n",
    "            params=new_variables,\n",
    "            opt_state=new_opt_state,\n",
    "        )\n",
    "        trainer_state = TrainerState(train_state, rng)\n",
    "        return trainer_state, metrics\n",
    "\n",
    "    def train(self, n_steps: int):\n",
    "        optimizer = optax.adam(1e-3)\n",
    "        rng = jax.random.PRNGKey(0)\n",
    "\n",
    "        rng, _rng = jax.random.split(rng)\n",
    "        inputs, _ = self.sample_batch(_rng)\n",
    "\n",
    "        rng, _rng = jax.random.split(rng)\n",
    "        init_variables = self.model.init(_rng, inputs)\n",
    "        opt_state = optimizer.init(init_variables)\n",
    "\n",
    "        init_train_state = TrainState(\n",
    "            step=0,\n",
    "            apply_fn=self.model.apply,\n",
    "            params=init_variables,\n",
    "            tx=optimizer,\n",
    "            opt_state=opt_state\n",
    "        )\n",
    "        trainer_state = TrainerState(init_train_state, rng)\n",
    "\n",
    "        return jax.lax.scan(\n",
    "            jax.jit(lambda s, _: self.train_step(s)),\n",
    "            trainer_state, None, n_steps\n",
    "        )"
   ]
  },
  {
   "cell_type": "code",
   "execution_count": null,
   "metadata": {},
   "outputs": [],
   "source": []
  },
  {
   "cell_type": "code",
   "execution_count": 16,
   "metadata": {},
   "outputs": [],
   "source": [
    "# discriminator_trainer = Trainer(\n",
    "#     discriminator,\n",
    "#     compute_basic_obs_modelling_loss,\n",
    "#     sample_discriminator_batch\n",
    "# )"
   ]
  },
  {
   "cell_type": "code",
   "execution_count": 17,
   "metadata": {},
   "outputs": [],
   "source": [
    "# discriminator_trainer_state, discriminator_metrics = discriminator_trainer.train(100)"
   ]
  },
  {
   "cell_type": "code",
   "execution_count": 18,
   "metadata": {},
   "outputs": [],
   "source": [
    "# loss = discriminator_metrics['loss']\n",
    "# epochs = np.arange(len(loss))\n",
    "\n",
    "# import matplotlib.pyplot as plt\n",
    "\n",
    "# plt.plot(epochs, loss)\n",
    "# plt.show()"
   ]
  },
  {
   "cell_type": "code",
   "execution_count": 53,
   "metadata": {},
   "outputs": [],
   "source": [
    "model = ObsModel(obs_size, hidden_size)\n",
    "\n",
    "\n",
    "def sample_obs_modelling_batch(rng, rollout_steps=500, return_traj=False):\n",
    "    _, traj_batch, metrics = rollout_with_msgs(\n",
    "        env, pretrained_policy, comm_policy, steps=rollout_steps, rng=rng\n",
    "    )\n",
    "    actions = jax.nn.one_hot(traj_batch.action, N_ACTIONS)\n",
    "    msgs = jax.nn.one_hot(traj_batch.message, comm_policy.n_msgs)\n",
    "    dones = traj_batch.done\n",
    "    inputs = (actions, msgs, dones, traj_batch.obs)\n",
    "    if return_traj:\n",
    "        return inputs, metrics, traj_batch\n",
    "    return inputs, metrics\n",
    "\n",
    "\n",
    "def compute_basic_obs_modelling_loss(variables, inputs):\n",
    "    obs_preds = model.apply(variables, inputs)\n",
    "    pred_action_dist, _ = pretrained_policy(obs_preds)\n",
    "    actions, *_ = inputs\n",
    "    loss = categorical_cross_entropy(pred_action_dist.logits, actions)\n",
    "    # *_, obs = inputs\n",
    "    # loss = jnp.square(obs_preds - obs)\n",
    "    return loss.mean()"
   ]
  },
  {
   "cell_type": "code",
   "execution_count": 16,
   "metadata": {},
   "outputs": [],
   "source": [
    "obs_model_trainer = Trainer(\n",
    "    model,\n",
    "    compute_basic_obs_modelling_loss,\n",
    "    sample_obs_modelling_batch\n",
    ")"
   ]
  },
  {
   "cell_type": "code",
   "execution_count": 17,
   "metadata": {},
   "outputs": [],
   "source": [
    "trainer_state, metrics = obs_model_trainer.train(200)"
   ]
  },
  {
   "cell_type": "code",
   "execution_count": 18,
   "metadata": {},
   "outputs": [
    {
     "data": {
      "image/png": "[encoded data removed]",
      "text/plain": [
       "<Figure size 640x480 with 1 Axes>"
      ]
     },
     "metadata": {},
     "output_type": "display_data"
    }
   ],
   "source": [
    "loss = metrics['loss']\n",
    "epochs = np.arange(len(loss))\n",
    "\n",
    "import matplotlib.pyplot as plt\n",
    "\n",
    "plt.plot(epochs, loss)\n",
    "plt.show()"
   ]
  },
  {
   "cell_type": "code",
   "execution_count": 26,
   "metadata": {},
   "outputs": [
    {
     "data": {
      "text/plain": [
       "Array([[0., 1., 0., 0., 0.],\n",
       "       [0., 0., 1., 0., 0.],\n",
       "       [0., 0., 1., 0., 0.],\n",
       "       [0., 1., 0., 0., 0.]], dtype=float32)"
      ]
     },
     "execution_count": 26,
     "metadata": {},
     "output_type": "execute_result"
    }
   ],
   "source": [
    "inputs_batch, _, traj_batch = sample_obs_modelling_batch(jax.random.PRNGKey(0), return_traj=True)\n",
    "obs_pred = model.apply(trainer_state.train_state.params, inputs_batch)\n",
    "pred_action_dist, _ = pretrained_policy(obs_pred)\n",
    "pred_action_dist.probs[0].round()"
   ]
  },
  {
   "cell_type": "code",
   "execution_count": 27,
   "metadata": {},
   "outputs": [
    {
     "data": {
      "text/plain": [
       "Array(0.99250007, dtype=float32)"
      ]
     },
     "execution_count": 27,
     "metadata": {},
     "output_type": "execute_result"
    }
   ],
   "source": [
    "(pred_action_dist.probs.argmax(axis=-1) == traj_batch.action).mean()"
   ]
  },
  {
   "cell_type": "code",
   "execution_count": null,
   "metadata": {},
   "outputs": [],
   "source": [
    "inputs_batch, _, traj_batch = sample_obs_modelling_batch(jax.random.PRNGKey(0), return_traj=True)\n",
    "obs_pred = model.apply(trainer_state.train_state.params, inputs_batch)\n",
    "pred_action_dist, _ = pretrained_policy(obs_pred)\n",
    "pred_action_dist.probs[0].round()\n",
    "(pred_action_dist.probs.argmax(axis=-1) == traj_batch.action).mean()"
   ]
  },
  {
   "cell_type": "code",
   "execution_count": 82,
   "metadata": {},
   "outputs": [],
   "source": [
    "discriminator = Discriminator(4 * hidden_size)\n",
    "obs_model = ObsModel(obs_size, 4 * hidden_size)\n",
    "\n",
    "\n",
    "from poclaps.train.losses import categorical_cross_entropy\n",
    "from typing import Any, List, Tuple, Callable\n",
    "from flax.training.train_state import TrainState\n",
    "from flax import core\n",
    "from flax import struct\n",
    "import optax\n",
    "\n",
    "from poclaps.train.training_cb import TrainerCallback\n",
    "\n",
    "\n",
    "def create_discriminator_sample(obs_model_params, batch_inputs):\n",
    "    # compute obs preds\n",
    "    *_, obs = batch_inputs\n",
    "    steps, n_envs, obs_dim = obs.shape\n",
    "    batch_size = steps * n_envs\n",
    "    obs_preds = obs_model.apply(obs_model_params, batch_inputs)\n",
    "    obs_preds = obs_preds.reshape((batch_size, obs_dim))\n",
    "    obs_batch = obs.reshape((batch_size, obs_dim))\n",
    "\n",
    "    # compute inputs and labels\n",
    "    labels = jnp.concatenate([jnp.zeros(batch_size),\n",
    "                              jnp.ones(batch_size)])\n",
    "    obs_inputs = jnp.concatenate([obs_batch, obs_preds], axis=0)\n",
    "\n",
    "    return obs_inputs, labels\n",
    "\n",
    "\n",
    "def compute_discriminator_loss(params, inputs):\n",
    "    discriminator_params, obs_model_params = params\n",
    "    obs_inputs, labels = create_discriminator_sample(obs_model_params, inputs)\n",
    "    label_pred = discriminator.apply(discriminator_params, obs_inputs)\n",
    "    return optax.losses.sigmoid_binary_cross_entropy(label_pred, labels).mean()\n",
    "\n",
    "\n",
    "def compute_adv_obs_model_loss(params, inputs):\n",
    "    discriminator_params, obs_model_params = params\n",
    "\n",
    "    # compute action preds loss\n",
    "    obs_preds = obs_model.apply(obs_model_params, inputs)\n",
    "    pred_action_dist, _ = pretrained_policy(obs_preds)\n",
    "    actions, *_ = inputs\n",
    "    act_pred_loss = categorical_cross_entropy(\n",
    "        pred_action_dist.logits, actions\n",
    "    ).mean()\n",
    "\n",
    "    # compute adversarial loss\n",
    "    discr_pred = discriminator.apply(\n",
    "        discriminator_params, obs_preds\n",
    "    )\n",
    "    discr_labels = jnp.ones_like(discr_pred)\n",
    "    adv_loss = optax.losses.sigmoid_binary_cross_entropy(discr_pred, discr_labels).mean()\n",
    "\n",
    "    adv_factor = 0.5\n",
    "\n",
    "    return act_pred_loss + adv_factor * adv_loss\n",
    "\n",
    "\n",
    "class AdvObsModellingTrainState(struct.PyTreeNode):\n",
    "    step: int\n",
    "    rng: jnp.ndarray\n",
    "    tx: optax.GradientTransformation = struct.field(pytree_node=False)\n",
    "\n",
    "    # obs model\n",
    "    obs_model_apply_fn: Callable = struct.field(pytree_node=False)\n",
    "    obs_model_params: core.FrozenDict[str, Any] = struct.field(pytree_node=True)\n",
    "    obs_model_opt_state: optax.OptState = struct.field(pytree_node=True)\n",
    "\n",
    "    # discriminator\n",
    "    discriminator_apply_fn: Callable = struct.field(pytree_node=False)\n",
    "    discriminator_params: core.FrozenDict[str, Any] = struct.field(pytree_node=True)\n",
    "    discriminator_opt_state: optax.OptState = struct.field(pytree_node=True)\n",
    "\n",
    "\n",
    "class AdversarialObsModellingTrainer:\n",
    "\n",
    "    def __init__(self,\n",
    "                 obs_model: ObsModel,\n",
    "                 discriminator: Discriminator,\n",
    "                 config: dict,\n",
    "                 callback: TrainerCallback = None):\n",
    "        self.obs_model = obs_model\n",
    "        self.discriminator = discriminator\n",
    "        self.callback = callback or TrainerCallback()\n",
    "        self.config = config\n",
    "\n",
    "        if 'seed' not in config:\n",
    "            self.config['seed'] = 0\n",
    "        if 'learning_rate' not in config:\n",
    "            self.config['learning_rate'] = 1e-3\n",
    "        if 'discriminator_updates_per_step' not in config:\n",
    "            self.config['discriminator_updates_per_step'] = 10\n",
    "        if 'obs_model_updates_per_step' not in config:\n",
    "            self.config['obs_model_updates_per_step'] = 10\n",
    "\n",
    "    def update_obs_model(self, tx, opt_state, params, inputs):\n",
    "        _, obs_model_params = params\n",
    "        loss, (_, grad) = jax.value_and_grad(compute_adv_obs_model_loss)(params, inputs)\n",
    "        updates, new_opt_state = tx.update(grad, opt_state)\n",
    "        new_variables = optax.apply_updates(obs_model_params, updates)\n",
    "        return loss, new_variables, new_opt_state\n",
    "\n",
    "    def update_discriminator(self, tx, opt_state, params, inputs):\n",
    "        discriminator_params, _ = params\n",
    "        loss, (grad, _) = jax.value_and_grad(compute_discriminator_loss)(params, inputs)\n",
    "        updates, new_opt_state = tx.update(grad, opt_state)\n",
    "        new_variables = optax.apply_updates(discriminator_params, updates)\n",
    "        return loss, new_variables, new_opt_state\n",
    "\n",
    "    def train_step(self, train_state: AdvObsModellingTrainState) -> AdvObsModellingTrainState:\n",
    "        rng, _rng = jax.random.split(train_state.rng)\n",
    "        inputs, metrics = sample_obs_modelling_batch(_rng)\n",
    "\n",
    "        metrics = {\n",
    "            f'sample/{k}': v for k, v in metrics.items()\n",
    "        }\n",
    "\n",
    "        def run_obs_model_substep(substep_state, _):\n",
    "            obs_model_params, opt_state = substep_state\n",
    "            params = (train_state.discriminator_params, obs_model_params)\n",
    "            loss, new_params, new_opt_state = self.update_obs_model(\n",
    "                train_state.tx, opt_state, params, inputs\n",
    "            )\n",
    "            return (new_params, new_opt_state), loss\n",
    "        \n",
    "        (new_obs_model_params, new_obs_model_opt_state), obs_model_loss = jax.lax.scan(\n",
    "            run_obs_model_substep,\n",
    "            (train_state.obs_model_params, train_state.obs_model_opt_state),\n",
    "            None,\n",
    "            self.config['obs_model_updates_per_step']\n",
    "        )\n",
    "        metrics['train/obs_model_loss'] = obs_model_loss.mean()\n",
    "\n",
    "        def run_discriminator_substep(substep_state, _):\n",
    "            discr_params, opt_state = substep_state\n",
    "            params = (discr_params, new_obs_model_params)\n",
    "            loss, new_discr_params, new_opt_state = self.update_discriminator(\n",
    "                train_state.tx, opt_state, params, inputs\n",
    "            )\n",
    "            return (new_discr_params, new_opt_state), loss\n",
    "\n",
    "        (new_discr_params, new_discr_opt_state), discr_loss = jax.lax.scan(\n",
    "            run_discriminator_substep,\n",
    "            (train_state.discriminator_params, train_state.discriminator_opt_state),\n",
    "            None,\n",
    "            self.config['discriminator_updates_per_step']\n",
    "        )\n",
    "        metrics['train/discriminator_loss'] = discr_loss.mean()\n",
    "\n",
    "        new_params = (new_discr_params, new_obs_model_params)\n",
    "        metrics.update(self.compute_eval_metrics(new_params, inputs))\n",
    "\n",
    "        jax.experimental.io_callback(\n",
    "            self.callback.on_iteration_end, None,\n",
    "            train_state.step, train_state, metrics\n",
    "        )\n",
    "\n",
    "        train_state = train_state.replace(\n",
    "            rng=rng,\n",
    "            step=train_state.step + 1,\n",
    "            obs_model_params=new_obs_model_params,\n",
    "            obs_model_opt_state=new_obs_model_opt_state,\n",
    "            discriminator_params=new_discr_params,\n",
    "            discriminator_opt_state=new_discr_opt_state\n",
    "        )\n",
    "\n",
    "        return train_state, metrics\n",
    "\n",
    "    def compute_eval_metrics(self, params: tuple, inputs: tuple) -> dict:\n",
    "        eval_metrics = {}\n",
    "\n",
    "        discr_params, obs_model_params = params\n",
    "        \n",
    "        obs_preds = self.obs_model.apply(obs_model_params, inputs)\n",
    "        actions, msgs, dones, obs = inputs\n",
    "        eval_metrics['eval/obs_pred_err'] = jnp.square(obs_preds - obs).mean()\n",
    "\n",
    "        pred_action_dist, _ = pretrained_policy(obs_preds)\n",
    "        eval_metrics['eval/action_pred_acc'] = (\n",
    "            (pred_action_dist.probs.argmax(axis=-1) == actions.argmax(axis=-1)).mean()\n",
    "        )\n",
    "\n",
    "        obs_inputs, labels = create_discriminator_sample(obs_model_params, inputs)\n",
    "        label_pred = self.discriminator.apply(discr_params, obs_inputs)\n",
    "        eval_metrics['eval/discr_acc'] = (\n",
    "            ((label_pred > 0) == labels).mean()\n",
    "        )\n",
    "\n",
    "        return eval_metrics\n",
    "\n",
    "    def train(self, n_steps: int) -> Tuple[AdvObsModellingTrainState, dict]:\n",
    "        optimizer = optax.adam(self.config['learning_rate'])\n",
    "        rng = jax.random.PRNGKey(self.config['seed'])\n",
    "\n",
    "        rng, _rng = jax.random.split(rng)\n",
    "        inputs, _ = sample_obs_modelling_batch(_rng)\n",
    "\n",
    "        rng, _rng = jax.random.split(rng)\n",
    "        obs_model_params = self.obs_model.init(_rng, inputs)\n",
    "        obs_model_opt_state = optimizer.init(obs_model_params)\n",
    "\n",
    "        rng, _rng = jax.random.split(rng)\n",
    "        discr_inp, *_ = create_discriminator_sample(obs_model_params, inputs)\n",
    "        discr_params = self.discriminator.init(_rng, discr_inp)\n",
    "        discr_opt_state = optimizer.init(discr_params)\n",
    "\n",
    "        init_train_state = AdvObsModellingTrainState(\n",
    "            step=0,\n",
    "            rng=rng,\n",
    "            tx=optimizer,\n",
    "            obs_model_apply_fn=self.obs_model.apply,\n",
    "            obs_model_params=obs_model_params,\n",
    "            obs_model_opt_state=obs_model_opt_state,\n",
    "            discriminator_apply_fn=self.discriminator.apply,\n",
    "            discriminator_params=discr_params,\n",
    "            discriminator_opt_state=discr_opt_state,\n",
    "        )\n",
    "\n",
    "        self.callback.on_train_begin(self.config)\n",
    "\n",
    "        try:\n",
    "            train_results = jax.lax.scan(\n",
    "                jax.jit(lambda s, _: self.train_step(s)),\n",
    "                init_train_state, None, n_steps\n",
    "            )\n",
    "        finally:\n",
    "            self.callback.on_train_end(train_results)\n",
    "\n",
    "        return train_results"
   ]
  },
  {
   "cell_type": "code",
   "execution_count": 83,
   "metadata": {},
   "outputs": [],
   "source": [
    "from poclaps.train.wandb_cb import WandbCallback\n",
    "\n",
    "\n",
    "cb = WandbCallback()\n",
    "config = {\n",
    "    'seed': 0,\n",
    "    'learning_rate': 1e-4,\n",
    "    'discriminator_updates_per_step': 10,\n",
    "    'obs_model_updates_per_step': 10,\n",
    "    'wandb_entity': 'drcope',\n",
    "    'wandb_project': 'poclaps-obs-modelling',\n",
    "    'wandb_mode': 'online',\n",
    "}\n",
    "aom_trainer = AdversarialObsModellingTrainer(obs_model, discriminator, config, cb)"
   ]
  },
  {
   "cell_type": "code",
   "execution_count": 84,
   "metadata": {},
   "outputs": [
    {
     "name": "stderr",
     "output_type": "stream",
     "text": [
      "\u001b[34m\u001b[1mwandb\u001b[0m: \u001b[33mWARNING\u001b[0m Calling wandb.login() after wandb.init() has no effect.\n"
     ]
    },
    {
     "name": "stdout",
     "output_type": "stream",
     "text": [
      "Logged in to wandb using secrets/wandb_api_key.\n"
     ]
    },
    {
     "data": {
      "text/html": [
       "Finishing last run (ID:phihzcih) before initializing another..."
      ],
      "text/plain": [
       "<IPython.core.display.HTML object>"
      ]
     },
     "metadata": {},
     "output_type": "display_data"
    },
    {
     "data": {
      "application/vnd.jupyter.widget-view+json": {
       "model_id": "996217247964433b8c1ddee2121da9e2",
       "version_major": 2,
       "version_minor": 0
      },
      "text/plain": [
       "VBox(children=(Label(value='0.015 MB of 0.015 MB uploaded\\r'), FloatProgress(value=1.0, max=1.0)))"
      ]
     },
     "metadata": {},
     "output_type": "display_data"
    },
    {
     "name": "stderr",
     "output_type": "stream",
     "text": [
      "wandb: WARNING Source type is set to 'repo' but some required information is missing from the environment. A job will not be created from this run. See https://docs.wandb.ai/guides/launch/create-job\n"
     ]
    },
    {
     "data": {
      "text/html": [
       "<style>\n",
       "    table.wandb td:nth-child(1) { padding: 0 10px; text-align: left ; width: auto;} td:nth-child(2) {text-align: left ; width: 100%}\n",
       "    .wandb-row { display: flex; flex-direction: row; flex-wrap: wrap; justify-content: flex-start; width: 100% }\n",
       "    .wandb-col { display: flex; flex-direction: column; flex-basis: 100%; flex: 1; padding: 10px; }\n",
       "    </style>\n",
       "<div class=\"wandb-row\"><div class=\"wandb-col\"><h3>Run history:</h3><br/><table class=\"wandb\"><tr><td>eval/action_pred_acc</td><td>██▇████▁███████████▅██████▄█▄▄▄▄▄▄▄▃▃▄▄▄</td></tr><tr><td>eval/discr_acc</td><td>█▅▁▇▁▇█▅█████████▇█▅██▆█▇▇▆█████████████</td></tr><tr><td>eval/obs_pred_err</td><td>▁▂▂▂▇▂▂▁▂▂▁▁▁▁▁▁▁▃█▅▄▄▄▄▅▅▄▄▄▄▄▄▄▄▄▄▄▄▄▄</td></tr><tr><td>sample/mean_episode_len</td><td>█▄▅▄▄▄▄▄▇█▄▃▄▆▅▆▄▅▄▆▄▄▅▆▅▁▃▄▆▆▅▄▅▄▄▄▅▅▆▅</td></tr><tr><td>sample/mean_reward</td><td>▁▅▄▅▅▅▅▅▂▁▅▆▅▃▄▃▅▄▅▃▅▅▄▃▄█▆▅▃▃▄▅▄▅▅▅▄▄▃▄</td></tr><tr><td>sample/n_episodes</td><td>▁▄▄▅▅▅▅▅▂▁▅▅▅▃▄▃▅▄▅▃▅▅▃▃▄█▆▄▃▂▄▅▄▅▅▅▄▄▃▄</td></tr><tr><td>train/discriminator_loss</td><td>▄▃█▂▇▂▁▃▁▁▁▁▁▁▁▁▁▂▁▂▁▁▂▁▁▁▂▁▁▁▁▁▁▁▁▁▁▁▁▁</td></tr><tr><td>train/obs_model_loss</td><td>▁▂▁▁▃▂▃▃▄▄▅▅▅▅▆▆▆█▄▃▃▄▂▄▆▄▅▄▅▆▆▇▇▇▇█████</td></tr></table><br/></div><div class=\"wandb-col\"><h3>Run summary:</h3><br/><table class=\"wandb\"><tr><td>eval/action_pred_acc</td><td>0.7495</td></tr><tr><td>eval/discr_acc</td><td>1.0</td></tr><tr><td>eval/obs_pred_err</td><td>0.27298</td></tr><tr><td>sample/mean_episode_len</td><td>3.39966</td></tr><tr><td>sample/mean_reward</td><td>-1.39966</td></tr><tr><td>sample/n_episodes</td><td>588</td></tr><tr><td>train/discriminator_loss</td><td>6e-05</td></tr><tr><td>train/obs_model_loss</td><td>6.08937</td></tr></table><br/></div></div>"
      ],
      "text/plain": [
       "<IPython.core.display.HTML object>"
      ]
     },
     "metadata": {},
     "output_type": "display_data"
    },
    {
     "data": {
      "text/html": [
       " View run <strong style=\"color:#cdcd00\">decent-shadow-4</strong> at: <a href='https://wandb.ai/drcope/poclaps-obs-modelling/runs/phihzcih' target=\"_blank\">https://wandb.ai/drcope/poclaps-obs-modelling/runs/phihzcih</a><br/>Synced 6 W&B file(s), 0 media file(s), 0 artifact file(s) and 0 other file(s)"
      ],
      "text/plain": [
       "<IPython.core.display.HTML object>"
      ]
     },
     "metadata": {},
     "output_type": "display_data"
    },
    {
     "data": {
      "text/html": [
       "Find logs at: <code>./wandb/run-20240625_153902-phihzcih/logs</code>"
      ],
      "text/plain": [
       "<IPython.core.display.HTML object>"
      ]
     },
     "metadata": {},
     "output_type": "display_data"
    },
    {
     "data": {
      "text/html": [
       "Successfully finished last run (ID:phihzcih). Initializing new run:<br/>"
      ],
      "text/plain": [
       "<IPython.core.display.HTML object>"
      ]
     },
     "metadata": {},
     "output_type": "display_data"
    },
    {
     "data": {
      "application/vnd.jupyter.widget-view+json": {
       "model_id": "c346840977ac47909dee80885fd14928",
       "version_major": 2,
       "version_minor": 0
      },
      "text/plain": [
       "VBox(children=(Label(value='Waiting for wandb.init()...\\r'), FloatProgress(value=0.011112821402235164, max=1.0…"
      ]
     },
     "metadata": {},
     "output_type": "display_data"
    },
    {
     "data": {
      "text/html": [
       "wandb version 0.17.3 is available!  To upgrade, please run:\n",
       " $ pip install wandb --upgrade"
      ],
      "text/plain": [
       "<IPython.core.display.HTML object>"
      ]
     },
     "metadata": {},
     "output_type": "display_data"
    },
    {
     "data": {
      "text/html": [
       "Tracking run with wandb version 0.16.1"
      ],
      "text/plain": [
       "<IPython.core.display.HTML object>"
      ]
     },
     "metadata": {},
     "output_type": "display_data"
    },
    {
     "data": {
      "text/html": [
       "Run data is saved locally in <code>/nas/ucb/dylancope/poclaps/wandb/run-20240625_155728-rfqcln88</code>"
      ],
      "text/plain": [
       "<IPython.core.display.HTML object>"
      ]
     },
     "metadata": {},
     "output_type": "display_data"
    },
    {
     "data": {
      "text/html": [
       "Syncing run <strong><a href='https://wandb.ai/drcope/poclaps-obs-modelling/runs/rfqcln88' target=\"_blank\">efficient-field-5</a></strong> to <a href='https://wandb.ai/drcope/poclaps-obs-modelling' target=\"_blank\">Weights & Biases</a> (<a href='https://wandb.me/run' target=\"_blank\">docs</a>)<br/>"
      ],
      "text/plain": [
       "<IPython.core.display.HTML object>"
      ]
     },
     "metadata": {},
     "output_type": "display_data"
    },
    {
     "data": {
      "text/html": [
       " View project at <a href='https://wandb.ai/drcope/poclaps-obs-modelling' target=\"_blank\">https://wandb.ai/drcope/poclaps-obs-modelling</a>"
      ],
      "text/plain": [
       "<IPython.core.display.HTML object>"
      ]
     },
     "metadata": {},
     "output_type": "display_data"
    },
    {
     "data": {
      "text/html": [
       " View run at <a href='https://wandb.ai/drcope/poclaps-obs-modelling/runs/rfqcln88' target=\"_blank\">https://wandb.ai/drcope/poclaps-obs-modelling/runs/rfqcln88</a>"
      ],
      "text/plain": [
       "<IPython.core.display.HTML object>"
      ]
     },
     "metadata": {},
     "output_type": "display_data"
    },
    {
     "name": "stderr",
     "output_type": "stream",
     "text": [
      "wandb: WARNING Source type is set to 'repo' but some required information is missing from the environment. A job will not be created from this run. See https://docs.wandb.ai/guides/launch/create-job\n"
     ]
    },
    {
     "data": {
      "application/vnd.jupyter.widget-view+json": {
       "model_id": "190891e50a954937aa930a84aca55817",
       "version_major": 2,
       "version_minor": 0
      },
      "text/plain": [
       "VBox(children=(Label(value='0.015 MB of 0.015 MB uploaded\\r'), FloatProgress(value=1.0, max=1.0)))"
      ]
     },
     "metadata": {},
     "output_type": "display_data"
    },
    {
     "data": {
      "text/html": [
       "<style>\n",
       "    table.wandb td:nth-child(1) { padding: 0 10px; text-align: left ; width: auto;} td:nth-child(2) {text-align: left ; width: 100%}\n",
       "    .wandb-row { display: flex; flex-direction: row; flex-wrap: wrap; justify-content: flex-start; width: 100% }\n",
       "    .wandb-col { display: flex; flex-direction: column; flex-basis: 100%; flex: 1; padding: 10px; }\n",
       "    </style>\n",
       "<div class=\"wandb-row\"><div class=\"wandb-col\"><h3>Run history:</h3><br/><table class=\"wandb\"><tr><td>eval/action_pred_acc</td><td>▅▇▅▄▅▆█▆▆▆▄▄▅█▁▆▃▄▅▄▅▇▅▄▅▆▄▅▆▄▄▆▅▄▄▆▅▆▂▅</td></tr><tr><td>eval/discr_acc</td><td>▁▁▁▁▁▁▁▁▁▁▁▁▁▁▁▁▁▁▁▁▁▁▁▁▁▁▁▁▁▁▁▁▁▁▁▁▁▁▁▁</td></tr><tr><td>eval/obs_pred_err</td><td>▄▄▂▁▁▁▁▂▂▃▃▃▄▄▅▅▅▅▆▆▆▇▇▇▇▇▇▇▇███████████</td></tr><tr><td>sample/mean_episode_len</td><td>█▄▅▃▃▃▅▂▄▅▁▄▆▅▆▃▄▄▆▄▄▅▆▃▄▆▅▅▆▇▅▅▅▄▄▅▆▄▃▅</td></tr><tr><td>sample/mean_reward</td><td>▁▅▄▆▆▆▄▇▅▄█▅▃▄▃▆▅▅▃▅▅▄▃▆▅▃▄▄▃▂▄▄▄▅▅▄▃▅▆▄</td></tr><tr><td>sample/n_episodes</td><td>▁▅▄▅▅▅▄▇▅▃█▅▃▃▃▆▅▅▃▅▅▃▃▆▅▃▃▄▂▂▄▄▃▅▄▄▃▅▅▄</td></tr><tr><td>train/discriminator_loss</td><td>█▁▁▁▁▁▁▁▁▁▁▁▁▁▁▁▁▁▁▁▁▁▁▁▁▁▁▁▁▁▁▁▁▁▁▁▁▁▁▁</td></tr><tr><td>train/obs_model_loss</td><td>█▂▂▂▂▁▁▁▁▁▂▂▁▁▂▁▂▂▁▂▂▁▂▂▁▁▂▂▁▂▂▁▂▂▂▁▂▁▂▁</td></tr></table><br/></div><div class=\"wandb-col\"><h3>Run summary:</h3><br/><table class=\"wandb\"><tr><td>eval/action_pred_acc</td><td>0.996</td></tr><tr><td>eval/discr_acc</td><td>1.0</td></tr><tr><td>eval/obs_pred_err</td><td>0.34196</td></tr><tr><td>sample/mean_episode_len</td><td>3.41438</td></tr><tr><td>sample/mean_reward</td><td>-1.41438</td></tr><tr><td>sample/n_episodes</td><td>584</td></tr><tr><td>train/discriminator_loss</td><td>0.0</td></tr><tr><td>train/obs_model_loss</td><td>0.00933</td></tr></table><br/></div></div>"
      ],
      "text/plain": [
       "<IPython.core.display.HTML object>"
      ]
     },
     "metadata": {},
     "output_type": "display_data"
    },
    {
     "data": {
      "text/html": [
       " View run <strong style=\"color:#cdcd00\">efficient-field-5</strong> at: <a href='https://wandb.ai/drcope/poclaps-obs-modelling/runs/rfqcln88' target=\"_blank\">https://wandb.ai/drcope/poclaps-obs-modelling/runs/rfqcln88</a><br/>Synced 5 W&B file(s), 0 media file(s), 0 artifact file(s) and 0 other file(s)"
      ],
      "text/plain": [
       "<IPython.core.display.HTML object>"
      ]
     },
     "metadata": {},
     "output_type": "display_data"
    },
    {
     "data": {
      "text/html": [
       "Find logs at: <code>./wandb/run-20240625_155728-rfqcln88/logs</code>"
      ],
      "text/plain": [
       "<IPython.core.display.HTML object>"
      ]
     },
     "metadata": {},
     "output_type": "display_data"
    }
   ],
   "source": [
    "aom_state, train_metrics = aom_trainer.train(500)"
   ]
  },
  {
   "cell_type": "code",
   "execution_count": 74,
   "metadata": {},
   "outputs": [
    {
     "data": {
      "image/png": "[encoded data removed]",
      "text/plain": [
       "<Figure size 1000x400 with 2 Axes>"
      ]
     },
     "metadata": {},
     "output_type": "display_data"
    }
   ],
   "source": [
    "import matplotlib.pyplot as plt\n",
    "import seaborn as sns\n",
    "import pandas as pd\n",
    "\n",
    "sns.set_theme()\n",
    "\n",
    "_, (ax1, ax2) = plt.subplots(1, 2, figsize=(10, 4))\n",
    "\n",
    "df = pd.DataFrame({\n",
    "    'discriminator_loss': train_metrics['train/discriminator_loss'],\n",
    "    'obs_model_loss': train_metrics['train/obs_model_loss'],\n",
    "    'step': np.arange(train_metrics['train/discriminator_loss'].size)\n",
    "})\n",
    "\n",
    "sns.lineplot(df, x='step', y='discriminator_loss', ax=ax1)\n",
    "ax1.set_title('Discriminator Loss')\n",
    "ax1.set_ylabel('Loss')\n",
    "sns.lineplot(df, x='step', y='obs_model_loss', ax=ax2)\n",
    "ax2.set_title('Observation Model Loss')\n",
    "ax2.set_ylabel('')\n",
    "plt.tight_layout()\n",
    "plt.show()"
   ]
  },
  {
   "cell_type": "code",
   "execution_count": 75,
   "metadata": {},
   "outputs": [],
   "source": [
    "inputs, _ = sample_obs_modelling_batch(jax.random.PRNGKey(0))\n",
    "obs_preds = obs_model.apply(aom_state.obs_model_params, inputs)"
   ]
  },
  {
   "cell_type": "code",
   "execution_count": 76,
   "metadata": {},
   "outputs": [
    {
     "data": {
      "text/plain": [
       "(Array([[[0.01      , 0.98999995, 0.        , 0.        , 0.        ],\n",
       "         [0.        , 0.        , 0.        , 0.        , 0.        ],\n",
       "         [0.        , 0.        , 0.        , 0.        , 0.        ],\n",
       "         [0.98999995, 0.04      , 0.        , 0.        , 0.        ]],\n",
       " \n",
       "        [[0.        , 0.98999995, 0.        , 0.        , 0.        ],\n",
       "         [0.        , 1.        , 0.        , 0.        , 0.        ],\n",
       "         [0.93      , 0.        , 0.        , 0.        , 0.        ],\n",
       "         [0.        , 0.        , 0.        , 0.        , 0.97999996]],\n",
       " \n",
       "        [[0.        , 0.98999995, 0.        , 0.        , 0.        ],\n",
       "         [0.        , 1.        , 0.        , 0.        , 0.        ],\n",
       "         [0.9       , 0.        , 0.        , 0.        , 0.        ],\n",
       "         [0.        , 0.        , 0.        , 0.        , 0.97999996]],\n",
       " \n",
       "        [[0.01      , 0.98999995, 0.        , 0.        , 0.        ],\n",
       "         [0.        , 0.        , 0.        , 0.        , 0.        ],\n",
       "         [0.        , 0.        , 0.        , 0.        , 0.        ],\n",
       "         [0.98999995, 0.03      , 0.        , 0.        , 0.        ]]],      dtype=float32),\n",
       " Array([[0., 0., 0., 1., 0., 0., 0., 0., 1., 0., 0., 0., 0., 0., 1., 0.,\n",
       "         1., 0., 0., 0.],\n",
       "        [0., 0., 1., 0., 0., 0., 1., 0., 0., 0., 1., 0., 0., 0., 0., 0.,\n",
       "         0., 0., 0., 1.],\n",
       "        [0., 0., 1., 0., 0., 1., 0., 0., 0., 0., 0., 1., 0., 0., 0., 0.,\n",
       "         0., 1., 0., 0.],\n",
       "        [0., 1., 0., 0., 0., 0., 0., 0., 1., 0., 0., 1., 0., 0., 0., 0.,\n",
       "         0., 0., 1., 0.]], dtype=float32))"
      ]
     },
     "execution_count": 76,
     "metadata": {},
     "output_type": "execute_result"
    }
   ],
   "source": [
    "obs_preds[0].reshape((-1, 4, 5)).round(2), inputs[-1][0]"
   ]
  },
  {
   "cell_type": "code",
   "execution_count": 134,
   "metadata": {},
   "outputs": [
    {
     "data": {
      "text/plain": [
       "Array([ 7.2419124,  7.2823973,  7.3928967,  7.267699 , -6.316666 ,\n",
       "       -6.8062134, -7.373846 , -5.1030846], dtype=float32)"
      ]
     },
     "execution_count": 134,
     "metadata": {},
     "output_type": "execute_result"
    }
   ],
   "source": [
    "*_, obs_act = inputs\n",
    "obs_test = jnp.concatenate([obs_preds[0], obs_act[0]])\n",
    "discriminator.apply(aom_state.discriminator_params, obs_test)"
   ]
  },
  {
   "cell_type": "code",
   "execution_count": 136,
   "metadata": {},
   "outputs": [],
   "source": [
    "from poclaps.simple_gridworld_game import stringify_grid\n",
    "\n",
    "\n",
    "def format_side_by_side(strings: Iterable[str]) -> str:\n",
    "    \"\"\"\n",
    "    Format strings side by side. Assumes all strings have the same number of\n",
    "    lines and each line has the same number of characters.\n",
    "    \"\"\"\n",
    "    return '\\n'.join([\n",
    "        '\\t'.join(lines)\n",
    "        for lines in zip(*[g.split('\\n') for g in strings])\n",
    "    ])\n",
    "\n",
    "\n",
    "def print_episode(goals, agent_pos):\n",
    "    grid_strings = []\n",
    "\n",
    "    for g, p in zip(goals, agent_pos):\n",
    "        grid_str = stringify_grid(env_params.grid_size, {\n",
    "            tuple(p.tolist()): 'X', tuple(g.tolist()): 'G'\n",
    "        })\n",
    "        grid_strings.append(grid_str)\n",
    "\n",
    "    print(format_side_by_side(grid_strings))\n",
    "\n",
    "\n",
    "\n",
    "def print_episode_with_info(goals, agent_pos, actions, rewards):\n",
    "    grid_strings = []\n",
    "\n",
    "    for g, p, a, r in zip(goals, agent_pos, actions, rewards):\n",
    "        grid_str = stringify_grid(env_params.grid_size, {\n",
    "            tuple(p.tolist()): 'X', tuple(g.tolist()): 'G'\n",
    "        })\n",
    "        line_0, *_ = grid_str.split('\\n')\n",
    "        info_str = f'Act: {a} | Reward: {r}'\n",
    "        info_str += ' ' * (len(line_0) - len(info_str))\n",
    "        grid_strings.append(f'{info_str}\\n{grid_str}')\n",
    "\n",
    "    print(format_side_by_side(grid_strings))\n",
    "\n",
    "\n",
    "def print_episode_in_batch(ep_id: int,\n",
    "                           traj_batch: Transition,\n",
    "                           info: bool = False):\n",
    "\n",
    "    env_state = traj_batch.env_state.env_state\n",
    "    ep_ids = traj_batch.episode_id\n",
    "    goals = env_state.goal_pos[ep_ids == ep_id]\n",
    "    agent_pos = env_state.agent_pos[ep_ids == ep_id]\n",
    "    actions = traj_batch.action[ep_ids == ep_id]\n",
    "    rewards = traj_batch.reward[ep_ids == ep_id]\n",
    "\n",
    "    if info:\n",
    "        print_episode_with_info(goals, agent_pos, actions, rewards)\n",
    "    else:\n",
    "        print_episode(goals, agent_pos)"
   ]
  },
  {
   "cell_type": "code",
   "execution_count": 81,
   "metadata": {},
   "outputs": [
    {
     "name": "stdout",
     "output_type": "stream",
     "text": [
      "---------------------\t---------------------\t---------------------\t---------------------\n",
      "|   |   |   |   |   |\t|   |   |   |   |   |\t|   |   |   |   |   |\t|   |   |   |   |   |\n",
      "---------------------\t---------------------\t---------------------\t---------------------\n",
      "|   |   |   |   |   |\t|   |   |   |   |   |\t|   |   |   |   |   |\t|   |   |   |   |   |\n",
      "---------------------\t---------------------\t---------------------\t---------------------\n",
      "|   |   | X |   |   |\t|   | X |   |   |   |\t|   |   |   |   |   |\t|   |   |   |   |   |\n",
      "---------------------\t---------------------\t---------------------\t---------------------\n",
      "|   |   |   |   |   |\t|   |   |   |   |   |\t|   | X |   |   |   |\t| X |   |   |   |   |\n",
      "---------------------\t---------------------\t---------------------\t---------------------\n",
      "| G |   |   |   |   |\t| G |   |   |   |   |\t| G |   |   |   |   |\t| G |   |   |   |   |\n",
      "---------------------\t---------------------\t---------------------\t---------------------\n",
      "\t\t\t\n"
     ]
    }
   ],
   "source": [
    "ep_id = 1\n",
    "print_episode_in_batch(ep_id, traj_batch)"
   ]
  },
  {
   "cell_type": "code",
   "execution_count": 133,
   "metadata": {},
   "outputs": [],
   "source": [
    "\n",
    "forward_rrn = ScannedRNN()\n",
    "\n",
    "N_ACTIONS = 5\n",
    "actions_1h = jax.nn.one_hot(traj_batch.action, N_ACTIONS)\n",
    "msgs_1h = jax.nn.one_hot(msgs_batch, comm_policy.n_msgs)\n",
    "feats = jnp.concatenate([actions_1h, msgs_1h], axis=-1)\n",
    "\n",
    "forward_carry = forward_rrn.initialize_carry(feats.shape)\n",
    "\n",
    "model_inputs = (feats, traj_batch.done)\n",
    "\n",
    "variables = forward_rrn.init(jax.random.PRNGKey(0), forward_carry, model_inputs)\n",
    "\n",
    "_, forward_embs = forward_rrn.apply(variables, forward_carry, model_inputs)"
   ]
  },
  {
   "cell_type": "code",
   "execution_count": 104,
   "metadata": {},
   "outputs": [
    {
     "data": {
      "text/plain": [
       "(500, 4, 20)"
      ]
     },
     "execution_count": 104,
     "metadata": {},
     "output_type": "execute_result"
    }
   ],
   "source": [
    "obs.shape"
   ]
  },
  {
   "cell_type": "code",
   "execution_count": 122,
   "metadata": {},
   "outputs": [
    {
     "data": {
      "text/plain": [
       "(500, 4, 20)"
      ]
     },
     "execution_count": 122,
     "metadata": {},
     "output_type": "execute_result"
    }
   ],
   "source": [
    "obs.shape"
   ]
  }
 ],
 "metadata": {
  "kernelspec": {
   "display_name": "base",
   "language": "python",
   "name": "python3"
  },
  "language_info": {
   "codemirror_mode": {
    "name": "ipython",
    "version": 3
   },
   "file_extension": ".py",
   "mimetype": "text/x-python",
   "name": "python",
   "nbconvert_exporter": "python",
   "pygments_lexer": "ipython3",
   "version": "3.11.5"
  }
 },
 "nbformat": 4,
 "nbformat_minor": 2
}
