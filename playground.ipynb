{
 "cells": [
  {
   "cell_type": "code",
   "execution_count": 1,
   "metadata": {},
   "outputs": [
    {
     "name": "stderr",
     "output_type": "stream",
     "text": [
      "WARNING: All log messages before absl::InitializeLog() is called are written to STDERR\n",
      "I0000 00:00:1719263583.971022  406747 tfrt_cpu_pjrt_client.cc:349] TfrtCpuClient created.\n"
     ]
    },
    {
     "name": "stdout",
     "output_type": "stream",
     "text": [
      "{'algorithm': 'PPO', 'learning_rate': 0.00025, 'num_envs': 4, 'num_steps': 128, 'total_timesteps': 100000.0, 'update_epochs': 4, 'num_minibatches': 4, 'gamma': 0.99, 'gae_lambda': 0.95, 'clip_eps': 0.2, 'ent_coef': 0.01, 'vf_coef': 0.5, 'max_grad_norm': 0.5, 'activation': 'tanh', 'anneal_lr': True, 'seed': 0, 'env_name': 'SimpleGridWorld-v0', 'env_kwargs': {'grid_size': 5, 'max_steps_in_episode': 20}, 'wandb_entity': 'drcope', 'wandb_project': 'ppo-gridworld-example', 'wandb_mode': 'online', 'output_dir': PosixPath('outputs/2024-06-14/15-39-35'), 'num_updates': 195.0, 'minibatch_size': 128}\n",
      "Loaded policy checkpoint.\n"
     ]
    }
   ],
   "source": [
    "from typing import Iterable, NamedTuple\n",
    "from poclaps.train.ckpt_cb import load_ckpt\n",
    "from poclaps.train.ppo import make_train as make_ppo_train\n",
    "from poclaps.train.ppo import FlattenObservationWrapper, LogWrapper\n",
    "from poclaps import environments\n",
    "\n",
    "from pathlib import Path\n",
    "import yaml\n",
    "\n",
    "from poclaps.train.training_cb import TrainerCallback\n",
    "\n",
    "\n",
    "# run_dir = Path('outputs/2024-06-11/19-46-55')\n",
    "run_dir = Path('outputs/2024-06-14/15-39-35/')\n",
    "run_dir2 = Path('outputs/2024-06-15/00-58-28/')\n",
    "\n",
    "\n",
    "def load_config(run_dir):\n",
    "    with open(f'{run_dir}/.hydra/config.yaml') as f:\n",
    "        config = yaml.safe_load(f)\n",
    "        config['output_dir'] = run_dir\n",
    "    return config\n",
    "\n",
    "config = load_config(run_dir)\n",
    "config2 = load_config(run_dir2)\n",
    "\n",
    "init_state, train_fn = make_ppo_train(config)\n",
    "\n",
    "print(config)\n",
    "\n",
    "def load_pretrained_policy(run_dir, config, ckpt_step=195):\n",
    "    init_state, _ = make_ppo_train(config)\n",
    "    ckpt = load_ckpt(run_dir / 'checkpoints', ckpt_step, init_state)\n",
    "    train_state, *_ = ckpt\n",
    "\n",
    "    def pretrained_policy(obs):\n",
    "        return train_state.apply_fn(train_state.params, obs)\n",
    "\n",
    "    return pretrained_policy\n",
    "\n",
    "pretrained_policy = load_pretrained_policy(run_dir, config)\n",
    "pretrained_policy2 = load_pretrained_policy(run_dir2, config2)\n",
    "print('Loaded policy checkpoint.')\n",
    "\n",
    "env, env_params = environments.make(config[\"env_name\"],\n",
    "                                    **config.get('env_kwargs', {}))\n",
    "env = FlattenObservationWrapper(env)\n",
    "env = LogWrapper(env)\n",
    "\n",
    "\n",
    "import jax\n",
    "from flax import struct\n",
    "from chex import Array\n",
    "import jax.numpy as jnp"
   ]
  },
  {
   "cell_type": "code",
   "execution_count": 3,
   "metadata": {},
   "outputs": [],
   "source": [
    "import numpy as np\n",
    "from poclaps.simple_gridworld_game import (\n",
    "    EnvState as SimpleGridWorldEnvState,\n",
    "    EnvParams as SimpleGridWorldEnvParams,\n",
    ")\n",
    "\n",
    "\n",
    "class Transition(NamedTuple):\n",
    "    env_state: struct.PyTreeNode\n",
    "    done: Array\n",
    "    action: Array\n",
    "    message: Array\n",
    "    reward: Array\n",
    "    log_prob: Array\n",
    "    obs: Array\n",
    "    info: dict\n",
    "    episode_id: int\n",
    "\n",
    "\n",
    "class SimpleGridWorldCommPolicy:\n",
    "    \"\"\"\n",
    "    \"\"\"\n",
    "\n",
    "    def __init__(self, seed: int, env_params: SimpleGridWorldEnvParams):\n",
    "        self.seed = seed\n",
    "        self.env_params = env_params\n",
    "        self.n_msgs = env_params.grid_size * env_params.grid_size\n",
    "        grid_indices = list(range(self.n_msgs))\n",
    "        np.random.seed(seed)\n",
    "        np.random.shuffle(grid_indices)\n",
    "        self.msg_map = dict(enumerate(grid_indices))\n",
    "        self.mapping = jnp.array(list(self.msg_map.values()))\n",
    "\n",
    "    def get_msg(self, goal_pos: jnp.array) -> int:\n",
    "        pos_idx = goal_pos[0] * self.env_params.grid_size + goal_pos[1]\n",
    "        return self.mapping[pos_idx]\n",
    "\n",
    "comm_policy = SimpleGridWorldCommPolicy(0, env_params)\n",
    "\n",
    "\n",
    "def rollout_with_msgs(env, policy, comm_policy, steps, n_envs=4, rng=None, rollout_state=None):\n",
    "\n",
    "    @jax.jit\n",
    "    def _env_step(rollout_state, _):\n",
    "        env_state, last_obs, rng, ep_ids = rollout_state\n",
    "\n",
    "        # SELECT ACTION\n",
    "        rng, _rng = jax.random.split(rng)\n",
    "        pi, _ = policy(last_obs)\n",
    "        action = pi.sample(seed=_rng)\n",
    "        log_prob = pi.log_prob(action)\n",
    "\n",
    "        # STEP ENV\n",
    "        rng, _rng = jax.random.split(rng)\n",
    "        rng_step = jax.random.split(_rng, n_envs)\n",
    "        obsv, env_state, reward, done, info = jax.vmap(\n",
    "            env.step, in_axes=(0, 0, 0, None)\n",
    "        )(rng_step, env_state, action, env_params)\n",
    "        ep_ids = jnp.where(done, ep_ids + n_envs, ep_ids)\n",
    "\n",
    "        msg = jax.lax.map(\n",
    "            lambda g: comm_policy.get_msg(g),\n",
    "            env_state.env_state.goal_pos\n",
    "        )\n",
    "\n",
    "        transition = Transition(\n",
    "            env_state, done, action, msg, reward, log_prob, last_obs, info, ep_ids\n",
    "        )\n",
    "        rollout_state = (env_state, obsv, rng, ep_ids)\n",
    "        return rollout_state, transition\n",
    "\n",
    "    if rollout_state is None:\n",
    "        if rng is None:\n",
    "            rng = jax.random.PRNGKey(0)\n",
    "        rng, _rng = jax.random.split(rng)\n",
    "        reset_rng = jax.random.split(_rng, n_envs)\n",
    "        obsv, env_state = jax.vmap(env.reset,\n",
    "                                   in_axes=(0, None))(reset_rng, env_params)\n",
    "        ep_ids = jnp.arange(n_envs)\n",
    "        rollout_state = (env_state, obsv, rng, ep_ids)\n",
    "\n",
    "    rollout_state, traj_batch = jax.lax.scan(\n",
    "        _env_step, rollout_state, None, steps\n",
    "    )\n",
    "\n",
    "    metrics = {}\n",
    "\n",
    "    metrics['mean_reward'] = (\n",
    "        (traj_batch.info[\"returned_episode_returns\"] * traj_batch.info[\"returned_episode\"]).sum()\n",
    "        / traj_batch.info[\"returned_episode\"].sum()\n",
    "    )\n",
    "\n",
    "    metrics['mean_episode_len'] = (\n",
    "        (traj_batch.info[\"returned_episode_lengths\"] * traj_batch.info[\"returned_episode\"]).sum()\n",
    "        / traj_batch.info[\"returned_episode\"].sum()\n",
    "    )\n",
    "\n",
    "    metrics['n_episodes'] = traj_batch.info[\"returned_episode\"].sum()\n",
    "\n",
    "    return rollout_state, traj_batch, metrics\n",
    "\n",
    "\n",
    "rollout_state, traj_batch, metrics = rollout_with_msgs(env, pretrained_policy, comm_policy, 500)"
   ]
  },
  {
   "cell_type": "code",
   "execution_count": 4,
   "metadata": {},
   "outputs": [],
   "source": [
    "import flax.linen as nn\n",
    "import jax\n",
    "import functools\n",
    "\n",
    "\n",
    "class ScannedRNN(nn.Module):\n",
    "    hidden_size: int = 128\n",
    "\n",
    "    @functools.partial(\n",
    "        nn.scan,\n",
    "        variable_broadcast=\"params\",\n",
    "        in_axes=0,\n",
    "        out_axes=0,\n",
    "        split_rngs={\"params\": False},\n",
    "    )\n",
    "    @nn.compact\n",
    "    def __call__(self, carry, x):\n",
    "        \"\"\"Applies the module.\"\"\"\n",
    "        rnn_state = carry\n",
    "        ins, resets = x\n",
    "        rnn_state = jnp.where(\n",
    "            resets[:, np.newaxis],\n",
    "            self.initialize_carry(*rnn_state.shape),\n",
    "            rnn_state,\n",
    "        )\n",
    "        new_rnn_state, y = nn.GRUCell(features=self.hidden_size)(rnn_state, ins)\n",
    "        return new_rnn_state, y\n",
    "\n",
    "    @staticmethod\n",
    "    def initialize_carry(n_envs, hidden_size):\n",
    "        # Use a dummy key since the default state init fn is just zeros.\n",
    "        cell = nn.GRUCell(features=hidden_size)\n",
    "        return cell.initialize_carry(jax.random.PRNGKey(0), (n_envs, hidden_size))\n"
   ]
  },
  {
   "cell_type": "code",
   "execution_count": 5,
   "metadata": {},
   "outputs": [],
   "source": [
    "import flax.linen as nn\n",
    "import jax\n",
    "\n",
    "\n",
    "class ScannedBiRNN(nn.Module):\n",
    "    hidden_size: int = 128\n",
    "\n",
    "    @nn.compact\n",
    "    def __call__(self, carry, inputs):\n",
    "        forward_carry, backward_carry = carry\n",
    "        forward_carry, forward_embs = ScannedRNN(self.hidden_size)(\n",
    "            forward_carry, inputs\n",
    "        )\n",
    "        feats, resets = inputs\n",
    "        backward_inputs = (feats[::-1], resets[::-1])\n",
    "        backward_carry, backward_embs = ScannedRNN(self.hidden_size)(\n",
    "            backward_carry, backward_inputs\n",
    "        )\n",
    "        carry = (forward_carry, backward_carry)\n",
    "        embs = jnp.concatenate([forward_embs, backward_embs], axis=-1)\n",
    "        return carry, embs\n",
    "\n",
    "    @staticmethod\n",
    "    def initialize_carry(n_envs, hidden_size):\n",
    "        return (\n",
    "            ScannedRNN.initialize_carry(n_envs, hidden_size),\n",
    "            ScannedRNN.initialize_carry(n_envs, hidden_size)\n",
    "        )"
   ]
  },
  {
   "cell_type": "code",
   "execution_count": 105,
   "metadata": {},
   "outputs": [],
   "source": [
    "class ObsModel(nn.Module):\n",
    "    obs_size: int\n",
    "    hidden_size: int = 128\n",
    "\n",
    "    @nn.compact\n",
    "    def __call__(self, inputs: tuple):\n",
    "        # actions, messages, dones, *_ = inputs\n",
    "        # feats = jnp.concatenate([actions, messages], axis=-1)\n",
    "        *_, dones, obs = inputs\n",
    "        feats = obs\n",
    "        x = nn.Dense(self.hidden_size)(feats)\n",
    "        x = nn.relu(x)\n",
    "        x = nn.Dense(self.hidden_size)(x)\n",
    "        x = nn.relu(x)\n",
    "        carry = ScannedBiRNN.initialize_carry(config['num_envs'], self.hidden_size)\n",
    "        bi_lstm = ScannedBiRNN(self.hidden_size)\n",
    "        _, x = bi_lstm(carry, (x, dones))\n",
    "        x = nn.Dense(self.hidden_size)(x)\n",
    "        x = nn.relu(x)\n",
    "        obs_preds = nn.Dense(self.obs_size)(x)\n",
    "        obs_preds = nn.sigmoid(obs_preds)\n",
    "        return obs_preds"
   ]
  },
  {
   "cell_type": "code",
   "execution_count": 121,
   "metadata": {},
   "outputs": [
    {
     "data": {
      "text/plain": [
       "(500, 4, 20)"
      ]
     },
     "execution_count": 121,
     "metadata": {},
     "output_type": "execute_result"
    }
   ],
   "source": [
    "N_ACTIONS = 5\n",
    "actions_1h = jax.nn.one_hot(traj_batch.action, N_ACTIONS)\n",
    "msgs_1h = jax.nn.one_hot(traj_batch.message, comm_policy.n_msgs)\n",
    "\n",
    "hidden_size = 128\n",
    "obs_space = env.observation_space(env_params)\n",
    "obs_size = obs_space.shape[0]\n",
    "\n",
    "obs_model = ObsModel(obs_size, hidden_size)\n",
    "inputs = (actions_1h, msgs_1h, traj_batch.done, traj_batch.obs)\n",
    "init_variables = obs_model.init(jax.random.PRNGKey(0), inputs)\n",
    "obs_preds = obs_model.apply(init_variables, inputs)\n",
    "obs_preds.shape"
   ]
  },
  {
   "cell_type": "code",
   "execution_count": 107,
   "metadata": {},
   "outputs": [
    {
     "data": {
      "text/plain": [
       "Array(0.370797, dtype=float32)"
      ]
     },
     "execution_count": 107,
     "metadata": {},
     "output_type": "execute_result"
    }
   ],
   "source": [
    "from poclaps.train.losses import categorical_cross_entropy\n",
    "\n",
    "pred_action_dist, _ = pretrained_policy(traj_batch.obs)\n",
    "loss = categorical_cross_entropy(pred_action_dist.logits, actions_1h)\n",
    "loss.mean()"
   ]
  },
  {
   "cell_type": "code",
   "execution_count": 108,
   "metadata": {},
   "outputs": [],
   "source": [
    "from poclaps.train.losses import categorical_cross_entropy\n",
    "\n",
    "import optax\n",
    "from flax.training.train_state import TrainState\n",
    "\n",
    "\n",
    "class TrainerState(NamedTuple):\n",
    "    train_state: TrainState\n",
    "    rng: jnp.ndarray\n",
    "\n",
    "\n",
    "class ObsModelTrainer:\n",
    "\n",
    "    def __init__(self,\n",
    "                 obs_model,\n",
    "                 pretrained_policy,\n",
    "                 sample_batch: callable):\n",
    "        self.obs_model = obs_model\n",
    "        self.pretrained_policy = pretrained_policy\n",
    "        self.sample_batch = sample_batch\n",
    "\n",
    "    def compute_loss(self, variables, inputs):\n",
    "        obs_preds = self.obs_model.apply(variables, inputs)\n",
    "        pred_action_dist, _ = self.pretrained_policy(obs_preds)\n",
    "        actions, *_ = inputs\n",
    "        loss = categorical_cross_entropy(pred_action_dist.logits, actions)\n",
    "        # *_, obs = inputs\n",
    "        # loss = jnp.square(obs_preds - obs)\n",
    "        return loss.mean()\n",
    "\n",
    "    def train_step(self, trainer_state: TrainerState) -> TrainerState:\n",
    "        train_state = trainer_state.train_state\n",
    "        rng, _rng = jax.random.split(trainer_state.rng)\n",
    "        inputs, metrics = self.sample_batch(_rng)\n",
    "        loss, grad = jax.value_and_grad(self.compute_loss)(train_state.params, inputs)\n",
    "        metrics['loss'] = loss\n",
    "        updates, new_opt_state = train_state.tx.update(grad, train_state.opt_state)\n",
    "        new_variables = optax.apply_updates(train_state.params, updates)\n",
    "        train_state = train_state.replace(\n",
    "            step=train_state.step + 1,\n",
    "            params=new_variables,\n",
    "            opt_state=new_opt_state,\n",
    "        )\n",
    "        trainer_state = TrainerState(train_state, rng)\n",
    "        return trainer_state, metrics\n",
    "\n",
    "    def train(self, n_steps: int, init_state: TrainState = None):\n",
    "        optimizer = optax.adam(1e-3)\n",
    "        opt_state = optimizer.init(variables)\n",
    "\n",
    "        init_train_state = init_state or TrainState(\n",
    "            step=0,\n",
    "            apply_fn=obs_model.apply,\n",
    "            params=variables,\n",
    "            tx=optimizer,\n",
    "            opt_state=opt_state\n",
    "        )\n",
    "        trainer_state = TrainerState(init_train_state,\n",
    "                                     jax.random.PRNGKey(0))\n",
    "\n",
    "        return jax.lax.scan(\n",
    "            jax.jit(lambda s, _: self.train_step(s)),\n",
    "            trainer_state, None, n_steps\n",
    "        )"
   ]
  },
  {
   "cell_type": "code",
   "execution_count": 109,
   "metadata": {},
   "outputs": [],
   "source": [
    "def sample_batch(rng, rollout_steps=500, return_traj=False):\n",
    "    _, traj_batch, metrics = rollout_with_msgs(\n",
    "        env, pretrained_policy, comm_policy, steps=rollout_steps, rng=rng\n",
    "    )\n",
    "    actions = jax.nn.one_hot(traj_batch.action, N_ACTIONS)\n",
    "    msgs = jax.nn.one_hot(traj_batch.message, comm_policy.n_msgs)\n",
    "    dones = traj_batch.done\n",
    "    inputs = (actions, msgs, dones, traj_batch.obs)\n",
    "    if return_traj:\n",
    "        return inputs, metrics, traj_batch\n",
    "    return inputs, metrics"
   ]
  },
  {
   "cell_type": "code",
   "execution_count": 110,
   "metadata": {},
   "outputs": [],
   "source": [
    "obs_model_trainer = ObsModelTrainer(obs_model, pretrained_policy, sample_batch)"
   ]
  },
  {
   "cell_type": "code",
   "execution_count": 111,
   "metadata": {},
   "outputs": [],
   "source": [
    "trainer_state, metrics = obs_model_trainer.train(500)"
   ]
  },
  {
   "cell_type": "code",
   "execution_count": 113,
   "metadata": {},
   "outputs": [
    {
     "data": {
      "image/png": "[encoded data removed]",
      "text/plain": [
       "<Figure size 640x480 with 1 Axes>"
      ]
     },
     "metadata": {},
     "output_type": "display_data"
    }
   ],
   "source": [
    "loss = metrics['loss']\n",
    "epochs = np.arange(len(loss))\n",
    "\n",
    "import matplotlib.pyplot as plt\n",
    "\n",
    "plt.plot(epochs, loss)\n",
    "plt.show()"
   ]
  },
  {
   "cell_type": "code",
   "execution_count": 114,
   "metadata": {},
   "outputs": [
    {
     "data": {
      "text/plain": [
       "Array([[9.7422360e-04, 9.7616041e-01, 4.1521107e-06, 1.2372204e-04,\n",
       "        2.2737473e-02],\n",
       "       [1.1772283e-03, 1.1433004e-05, 8.6289048e-01, 1.3582538e-01,\n",
       "        9.5503150e-05],\n",
       "       [7.1549258e-04, 5.4421162e-06, 9.5642972e-01, 4.2693399e-02,\n",
       "        1.5599196e-04],\n",
       "       [3.3064153e-02, 3.6348051e-01, 1.3438043e-01, 1.4691022e-01,\n",
       "        3.2216471e-01]], dtype=float32)"
      ]
     },
     "execution_count": 114,
     "metadata": {},
     "output_type": "execute_result"
    }
   ],
   "source": [
    "inputs_batch, _, traj_batch = sample_batch(jax.random.PRNGKey(0), return_traj=True)\n",
    "obs_pred = obs_model.apply(trainer_state.train_state.params, inputs_batch)\n",
    "pred_action_dist, _ = pretrained_policy(obs_pred)\n",
    "pred_action_dist.probs[0]"
   ]
  },
  {
   "cell_type": "code",
   "execution_count": 115,
   "metadata": {},
   "outputs": [
    {
     "data": {
      "text/plain": [
       "Array(0.00018163, dtype=float32)"
      ]
     },
     "execution_count": 115,
     "metadata": {},
     "output_type": "execute_result"
    }
   ],
   "source": [
    "action, *_ = inputs_batch\n",
    "categorical_cross_entropy(action * 10, action).mean()"
   ]
  },
  {
   "cell_type": "code",
   "execution_count": 116,
   "metadata": {},
   "outputs": [
    {
     "data": {
      "text/plain": [
       "(Array([0.56209654, 0.7461857 , 0.21522248, 0.3123752 , 0.21333915,\n",
       "        0.04776089, 0.14176702, 0.29500574, 0.53957796, 0.87062395,\n",
       "        0.55470324, 0.1840948 , 0.7335649 , 0.45345122, 0.801884  ,\n",
       "        0.9296122 , 0.63849604, 0.4154932 , 0.08647239, 0.18743053],      dtype=float32),\n",
       " Array([0., 0., 0., 1., 0., 0., 0., 0., 1., 0., 0., 0., 0., 0., 1., 0., 1.,\n",
       "        0., 0., 0.], dtype=float32))"
      ]
     },
     "execution_count": 116,
     "metadata": {},
     "output_type": "execute_result"
    }
   ],
   "source": [
    "*_, obs_actual = inputs_batch\n",
    "obs_pred[0, 0], obs_actual[0, 0]"
   ]
  },
  {
   "cell_type": "code",
   "execution_count": 120,
   "metadata": {},
   "outputs": [
    {
     "data": {
      "text/plain": [
       "Array(0.851, dtype=float32)"
      ]
     },
     "execution_count": 120,
     "metadata": {},
     "output_type": "execute_result"
    }
   ],
   "source": [
    "(pred_action_dist.probs.argmax(axis=-1) == traj_batch.action).mean()"
   ]
  },
  {
   "cell_type": "code",
   "execution_count": 80,
   "metadata": {},
   "outputs": [],
   "source": [
    "from poclaps.simple_gridworld_game import stringify_grid\n",
    "\n",
    "\n",
    "def format_side_by_side(strings: Iterable[str]) -> str:\n",
    "    \"\"\"\n",
    "    Format strings side by side. Assumes all strings have the same number of\n",
    "    lines and each line has the same number of characters.\n",
    "    \"\"\"\n",
    "    return '\\n'.join([\n",
    "        '\\t'.join(lines)\n",
    "        for lines in zip(*[g.split('\\n') for g in strings])\n",
    "    ])\n",
    "\n",
    "\n",
    "def print_episode(goals, agent_pos):\n",
    "    grid_strings = []\n",
    "\n",
    "    for g, p in zip(goals, agent_pos):\n",
    "        grid_str = stringify_grid(env_params.grid_size, {\n",
    "            tuple(p.tolist()): 'X', tuple(g.tolist()): 'G'\n",
    "        })\n",
    "        grid_strings.append(grid_str)\n",
    "\n",
    "    print(format_side_by_side(grid_strings))\n",
    "\n",
    "\n",
    "\n",
    "def print_episode_with_info(goals, agent_pos, actions, rewards):\n",
    "    grid_strings = []\n",
    "\n",
    "    for g, p, a, r in zip(goals, agent_pos, actions, rewards):\n",
    "        grid_str = stringify_grid(env_params.grid_size, {\n",
    "            tuple(p.tolist()): 'X', tuple(g.tolist()): 'G'\n",
    "        })\n",
    "        line_0, *_ = grid_str.split('\\n')\n",
    "        info_str = f'Act: {a} | Reward: {r}'\n",
    "        info_str += ' ' * (len(line_0) - len(info_str))\n",
    "        grid_strings.append(f'{info_str}\\n{grid_str}')\n",
    "\n",
    "    print(format_side_by_side(grid_strings))\n",
    "\n",
    "\n",
    "def print_episode_in_batch(ep_id: int,\n",
    "                           traj_batch: Transition,\n",
    "                           info: bool = False):\n",
    "\n",
    "    env_state = traj_batch.env_state.env_state\n",
    "    ep_ids = traj_batch.episode_id\n",
    "    goals = env_state.goal_pos[ep_ids == ep_id]\n",
    "    agent_pos = env_state.agent_pos[ep_ids == ep_id]\n",
    "    actions = traj_batch.action[ep_ids == ep_id]\n",
    "    rewards = traj_batch.reward[ep_ids == ep_id]\n",
    "\n",
    "    if info:\n",
    "        print_episode_with_info(goals, agent_pos, actions, rewards)\n",
    "    else:\n",
    "        print_episode(goals, agent_pos)"
   ]
  },
  {
   "cell_type": "code",
   "execution_count": 81,
   "metadata": {},
   "outputs": [
    {
     "name": "stdout",
     "output_type": "stream",
     "text": [
      "---------------------\t---------------------\t---------------------\t---------------------\n",
      "|   |   |   |   |   |\t|   |   |   |   |   |\t|   |   |   |   |   |\t|   |   |   |   |   |\n",
      "---------------------\t---------------------\t---------------------\t---------------------\n",
      "|   |   |   |   |   |\t|   |   |   |   |   |\t|   |   |   |   |   |\t|   |   |   |   |   |\n",
      "---------------------\t---------------------\t---------------------\t---------------------\n",
      "|   |   | X |   |   |\t|   | X |   |   |   |\t|   |   |   |   |   |\t|   |   |   |   |   |\n",
      "---------------------\t---------------------\t---------------------\t---------------------\n",
      "|   |   |   |   |   |\t|   |   |   |   |   |\t|   | X |   |   |   |\t| X |   |   |   |   |\n",
      "---------------------\t---------------------\t---------------------\t---------------------\n",
      "| G |   |   |   |   |\t| G |   |   |   |   |\t| G |   |   |   |   |\t| G |   |   |   |   |\n",
      "---------------------\t---------------------\t---------------------\t---------------------\n",
      "\t\t\t\n"
     ]
    }
   ],
   "source": [
    "ep_id = 1\n",
    "print_episode_in_batch(ep_id, traj_batch)"
   ]
  },
  {
   "cell_type": "code",
   "execution_count": 133,
   "metadata": {},
   "outputs": [],
   "source": [
    "\n",
    "forward_rrn = ScannedRNN()\n",
    "\n",
    "N_ACTIONS = 5\n",
    "actions_1h = jax.nn.one_hot(traj_batch.action, N_ACTIONS)\n",
    "msgs_1h = jax.nn.one_hot(msgs_batch, comm_policy.n_msgs)\n",
    "feats = jnp.concatenate([actions_1h, msgs_1h], axis=-1)\n",
    "\n",
    "forward_carry = forward_rrn.initialize_carry(feats.shape)\n",
    "\n",
    "model_inputs = (feats, traj_batch.done)\n",
    "\n",
    "variables = forward_rrn.init(jax.random.PRNGKey(0), forward_carry, model_inputs)\n",
    "\n",
    "_, forward_embs = forward_rrn.apply(variables, forward_carry, model_inputs)"
   ]
  },
  {
   "cell_type": "code",
   "execution_count": 104,
   "metadata": {},
   "outputs": [
    {
     "data": {
      "text/plain": [
       "(500, 4, 20)"
      ]
     },
     "execution_count": 104,
     "metadata": {},
     "output_type": "execute_result"
    }
   ],
   "source": [
    "obs.shape"
   ]
  },
  {
   "cell_type": "code",
   "execution_count": 122,
   "metadata": {},
   "outputs": [
    {
     "data": {
      "text/plain": [
       "(500, 4, 20)"
      ]
     },
     "execution_count": 122,
     "metadata": {},
     "output_type": "execute_result"
    }
   ],
   "source": [
    "obs.shape"
   ]
  }
 ],
 "metadata": {
  "kernelspec": {
   "display_name": "base",
   "language": "python",
   "name": "python3"
  },
  "language_info": {
   "codemirror_mode": {
    "name": "ipython",
    "version": 3
   },
   "file_extension": ".py",
   "mimetype": "text/x-python",
   "name": "python",
   "nbconvert_exporter": "python",
   "pygments_lexer": "ipython3",
   "version": "3.11.5"
  }
 },
 "nbformat": 4,
 "nbformat_minor": 2
}
